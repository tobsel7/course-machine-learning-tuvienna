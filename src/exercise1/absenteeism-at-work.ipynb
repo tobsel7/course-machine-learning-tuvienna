{
 "cells": [
  {
   "cell_type": "markdown",
   "id": "4177ced5",
   "metadata": {},
   "source": [
    "# Imports"
   ]
  },
  {
   "cell_type": "code",
   "execution_count": 1,
   "id": "5881355f",
   "metadata": {},
   "outputs": [],
   "source": [
    "import pandas as pd\n",
    "import numpy as np\n",
    "import matplotlib.pyplot as plt\n",
    "from sklearn.compose import make_column_transformer\n",
    "from sklearn.preprocessing import StandardScaler, OneHotEncoder\n",
    "from sklearn.model_selection import train_test_split\n",
    "from sklearn.ensemble import RandomForestClassifier\n",
    "from sklearn.neighbors import KNeighborsClassifier\n",
    "from sklearn.svm import SVC\n",
    "from sklearn.metrics import accuracy_score, f1_score, recall_score, precision_score, confusion_matrix"
   ]
  },
  {
   "cell_type": "markdown",
   "id": "127955ee",
   "metadata": {},
   "source": [
    "# Data loading"
   ]
  },
  {
   "cell_type": "code",
   "execution_count": 2,
   "id": "1e339559",
   "metadata": {},
   "outputs": [
    {
     "data": {
      "text/html": [
       "<div>\n",
       "<style scoped>\n",
       "    .dataframe tbody tr th:only-of-type {\n",
       "        vertical-align: middle;\n",
       "    }\n",
       "\n",
       "    .dataframe tbody tr th {\n",
       "        vertical-align: top;\n",
       "    }\n",
       "\n",
       "    .dataframe thead th {\n",
       "        text-align: right;\n",
       "    }\n",
       "</style>\n",
       "<table border=\"1\" class=\"dataframe\">\n",
       "  <thead>\n",
       "    <tr style=\"text-align: right;\">\n",
       "      <th></th>\n",
       "      <th>Reason for absence</th>\n",
       "      <th>Month of absence</th>\n",
       "      <th>Day of the week</th>\n",
       "      <th>Seasons</th>\n",
       "      <th>Transportation expense</th>\n",
       "      <th>Distance from Residence to Work</th>\n",
       "      <th>Service time</th>\n",
       "      <th>Age</th>\n",
       "      <th>Work load Average/day</th>\n",
       "      <th>Hit target</th>\n",
       "      <th>Disciplinary failure</th>\n",
       "      <th>Education</th>\n",
       "      <th>Son</th>\n",
       "      <th>Social drinker</th>\n",
       "      <th>Social smoker</th>\n",
       "      <th>Pet</th>\n",
       "      <th>Weight</th>\n",
       "      <th>Height</th>\n",
       "      <th>Body mass index</th>\n",
       "      <th>Absenteeism time in hours</th>\n",
       "    </tr>\n",
       "    <tr>\n",
       "      <th>ID</th>\n",
       "      <th></th>\n",
       "      <th></th>\n",
       "      <th></th>\n",
       "      <th></th>\n",
       "      <th></th>\n",
       "      <th></th>\n",
       "      <th></th>\n",
       "      <th></th>\n",
       "      <th></th>\n",
       "      <th></th>\n",
       "      <th></th>\n",
       "      <th></th>\n",
       "      <th></th>\n",
       "      <th></th>\n",
       "      <th></th>\n",
       "      <th></th>\n",
       "      <th></th>\n",
       "      <th></th>\n",
       "      <th></th>\n",
       "      <th></th>\n",
       "    </tr>\n",
       "  </thead>\n",
       "  <tbody>\n",
       "    <tr>\n",
       "      <th>11</th>\n",
       "      <td>26</td>\n",
       "      <td>7</td>\n",
       "      <td>3</td>\n",
       "      <td>1</td>\n",
       "      <td>289</td>\n",
       "      <td>36</td>\n",
       "      <td>13</td>\n",
       "      <td>33</td>\n",
       "      <td>239.554</td>\n",
       "      <td>97</td>\n",
       "      <td>0</td>\n",
       "      <td>1</td>\n",
       "      <td>2</td>\n",
       "      <td>1</td>\n",
       "      <td>0</td>\n",
       "      <td>1</td>\n",
       "      <td>90</td>\n",
       "      <td>172</td>\n",
       "      <td>30</td>\n",
       "      <td>4</td>\n",
       "    </tr>\n",
       "    <tr>\n",
       "      <th>36</th>\n",
       "      <td>0</td>\n",
       "      <td>7</td>\n",
       "      <td>3</td>\n",
       "      <td>1</td>\n",
       "      <td>118</td>\n",
       "      <td>13</td>\n",
       "      <td>18</td>\n",
       "      <td>50</td>\n",
       "      <td>239.554</td>\n",
       "      <td>97</td>\n",
       "      <td>1</td>\n",
       "      <td>1</td>\n",
       "      <td>1</td>\n",
       "      <td>1</td>\n",
       "      <td>0</td>\n",
       "      <td>0</td>\n",
       "      <td>98</td>\n",
       "      <td>178</td>\n",
       "      <td>31</td>\n",
       "      <td>0</td>\n",
       "    </tr>\n",
       "    <tr>\n",
       "      <th>3</th>\n",
       "      <td>23</td>\n",
       "      <td>7</td>\n",
       "      <td>4</td>\n",
       "      <td>1</td>\n",
       "      <td>179</td>\n",
       "      <td>51</td>\n",
       "      <td>18</td>\n",
       "      <td>38</td>\n",
       "      <td>239.554</td>\n",
       "      <td>97</td>\n",
       "      <td>0</td>\n",
       "      <td>1</td>\n",
       "      <td>0</td>\n",
       "      <td>1</td>\n",
       "      <td>0</td>\n",
       "      <td>0</td>\n",
       "      <td>89</td>\n",
       "      <td>170</td>\n",
       "      <td>31</td>\n",
       "      <td>2</td>\n",
       "    </tr>\n",
       "    <tr>\n",
       "      <th>7</th>\n",
       "      <td>7</td>\n",
       "      <td>7</td>\n",
       "      <td>5</td>\n",
       "      <td>1</td>\n",
       "      <td>279</td>\n",
       "      <td>5</td>\n",
       "      <td>14</td>\n",
       "      <td>39</td>\n",
       "      <td>239.554</td>\n",
       "      <td>97</td>\n",
       "      <td>0</td>\n",
       "      <td>1</td>\n",
       "      <td>2</td>\n",
       "      <td>1</td>\n",
       "      <td>1</td>\n",
       "      <td>0</td>\n",
       "      <td>68</td>\n",
       "      <td>168</td>\n",
       "      <td>24</td>\n",
       "      <td>4</td>\n",
       "    </tr>\n",
       "    <tr>\n",
       "      <th>11</th>\n",
       "      <td>23</td>\n",
       "      <td>7</td>\n",
       "      <td>5</td>\n",
       "      <td>1</td>\n",
       "      <td>289</td>\n",
       "      <td>36</td>\n",
       "      <td>13</td>\n",
       "      <td>33</td>\n",
       "      <td>239.554</td>\n",
       "      <td>97</td>\n",
       "      <td>0</td>\n",
       "      <td>1</td>\n",
       "      <td>2</td>\n",
       "      <td>1</td>\n",
       "      <td>0</td>\n",
       "      <td>1</td>\n",
       "      <td>90</td>\n",
       "      <td>172</td>\n",
       "      <td>30</td>\n",
       "      <td>2</td>\n",
       "    </tr>\n",
       "    <tr>\n",
       "      <th>...</th>\n",
       "      <td>...</td>\n",
       "      <td>...</td>\n",
       "      <td>...</td>\n",
       "      <td>...</td>\n",
       "      <td>...</td>\n",
       "      <td>...</td>\n",
       "      <td>...</td>\n",
       "      <td>...</td>\n",
       "      <td>...</td>\n",
       "      <td>...</td>\n",
       "      <td>...</td>\n",
       "      <td>...</td>\n",
       "      <td>...</td>\n",
       "      <td>...</td>\n",
       "      <td>...</td>\n",
       "      <td>...</td>\n",
       "      <td>...</td>\n",
       "      <td>...</td>\n",
       "      <td>...</td>\n",
       "      <td>...</td>\n",
       "    </tr>\n",
       "    <tr>\n",
       "      <th>11</th>\n",
       "      <td>14</td>\n",
       "      <td>7</td>\n",
       "      <td>3</td>\n",
       "      <td>1</td>\n",
       "      <td>289</td>\n",
       "      <td>36</td>\n",
       "      <td>13</td>\n",
       "      <td>33</td>\n",
       "      <td>264.604</td>\n",
       "      <td>93</td>\n",
       "      <td>0</td>\n",
       "      <td>1</td>\n",
       "      <td>2</td>\n",
       "      <td>1</td>\n",
       "      <td>0</td>\n",
       "      <td>1</td>\n",
       "      <td>90</td>\n",
       "      <td>172</td>\n",
       "      <td>30</td>\n",
       "      <td>8</td>\n",
       "    </tr>\n",
       "    <tr>\n",
       "      <th>1</th>\n",
       "      <td>11</td>\n",
       "      <td>7</td>\n",
       "      <td>3</td>\n",
       "      <td>1</td>\n",
       "      <td>235</td>\n",
       "      <td>11</td>\n",
       "      <td>14</td>\n",
       "      <td>37</td>\n",
       "      <td>264.604</td>\n",
       "      <td>93</td>\n",
       "      <td>0</td>\n",
       "      <td>3</td>\n",
       "      <td>1</td>\n",
       "      <td>0</td>\n",
       "      <td>0</td>\n",
       "      <td>1</td>\n",
       "      <td>88</td>\n",
       "      <td>172</td>\n",
       "      <td>29</td>\n",
       "      <td>4</td>\n",
       "    </tr>\n",
       "    <tr>\n",
       "      <th>4</th>\n",
       "      <td>0</td>\n",
       "      <td>0</td>\n",
       "      <td>3</td>\n",
       "      <td>1</td>\n",
       "      <td>118</td>\n",
       "      <td>14</td>\n",
       "      <td>13</td>\n",
       "      <td>40</td>\n",
       "      <td>271.219</td>\n",
       "      <td>95</td>\n",
       "      <td>0</td>\n",
       "      <td>1</td>\n",
       "      <td>1</td>\n",
       "      <td>1</td>\n",
       "      <td>0</td>\n",
       "      <td>8</td>\n",
       "      <td>98</td>\n",
       "      <td>170</td>\n",
       "      <td>34</td>\n",
       "      <td>0</td>\n",
       "    </tr>\n",
       "    <tr>\n",
       "      <th>8</th>\n",
       "      <td>0</td>\n",
       "      <td>0</td>\n",
       "      <td>4</td>\n",
       "      <td>2</td>\n",
       "      <td>231</td>\n",
       "      <td>35</td>\n",
       "      <td>14</td>\n",
       "      <td>39</td>\n",
       "      <td>271.219</td>\n",
       "      <td>95</td>\n",
       "      <td>0</td>\n",
       "      <td>1</td>\n",
       "      <td>2</td>\n",
       "      <td>1</td>\n",
       "      <td>0</td>\n",
       "      <td>2</td>\n",
       "      <td>100</td>\n",
       "      <td>170</td>\n",
       "      <td>35</td>\n",
       "      <td>0</td>\n",
       "    </tr>\n",
       "    <tr>\n",
       "      <th>35</th>\n",
       "      <td>0</td>\n",
       "      <td>0</td>\n",
       "      <td>6</td>\n",
       "      <td>3</td>\n",
       "      <td>179</td>\n",
       "      <td>45</td>\n",
       "      <td>14</td>\n",
       "      <td>53</td>\n",
       "      <td>271.219</td>\n",
       "      <td>95</td>\n",
       "      <td>0</td>\n",
       "      <td>1</td>\n",
       "      <td>1</td>\n",
       "      <td>0</td>\n",
       "      <td>0</td>\n",
       "      <td>1</td>\n",
       "      <td>77</td>\n",
       "      <td>175</td>\n",
       "      <td>25</td>\n",
       "      <td>0</td>\n",
       "    </tr>\n",
       "  </tbody>\n",
       "</table>\n",
       "<p>740 rows × 20 columns</p>\n",
       "</div>"
      ],
      "text/plain": [
       "    Reason for absence  Month of absence  Day of the week  Seasons  \\\n",
       "ID                                                                   \n",
       "11                  26                 7                3        1   \n",
       "36                   0                 7                3        1   \n",
       "3                   23                 7                4        1   \n",
       "7                    7                 7                5        1   \n",
       "11                  23                 7                5        1   \n",
       "..                 ...               ...              ...      ...   \n",
       "11                  14                 7                3        1   \n",
       "1                   11                 7                3        1   \n",
       "4                    0                 0                3        1   \n",
       "8                    0                 0                4        2   \n",
       "35                   0                 0                6        3   \n",
       "\n",
       "    Transportation expense  Distance from Residence to Work  Service time  \\\n",
       "ID                                                                          \n",
       "11                     289                               36            13   \n",
       "36                     118                               13            18   \n",
       "3                      179                               51            18   \n",
       "7                      279                                5            14   \n",
       "11                     289                               36            13   \n",
       "..                     ...                              ...           ...   \n",
       "11                     289                               36            13   \n",
       "1                      235                               11            14   \n",
       "4                      118                               14            13   \n",
       "8                      231                               35            14   \n",
       "35                     179                               45            14   \n",
       "\n",
       "    Age  Work load Average/day  Hit target  Disciplinary failure  Education  \\\n",
       "ID                                                                            \n",
       "11   33                239.554          97                     0          1   \n",
       "36   50                239.554          97                     1          1   \n",
       "3    38                239.554          97                     0          1   \n",
       "7    39                239.554          97                     0          1   \n",
       "11   33                239.554          97                     0          1   \n",
       "..  ...                    ...         ...                   ...        ...   \n",
       "11   33                264.604          93                     0          1   \n",
       "1    37                264.604          93                     0          3   \n",
       "4    40                271.219          95                     0          1   \n",
       "8    39                271.219          95                     0          1   \n",
       "35   53                271.219          95                     0          1   \n",
       "\n",
       "    Son  Social drinker  Social smoker  Pet  Weight  Height  Body mass index  \\\n",
       "ID                                                                             \n",
       "11    2               1              0    1      90     172               30   \n",
       "36    1               1              0    0      98     178               31   \n",
       "3     0               1              0    0      89     170               31   \n",
       "7     2               1              1    0      68     168               24   \n",
       "11    2               1              0    1      90     172               30   \n",
       "..  ...             ...            ...  ...     ...     ...              ...   \n",
       "11    2               1              0    1      90     172               30   \n",
       "1     1               0              0    1      88     172               29   \n",
       "4     1               1              0    8      98     170               34   \n",
       "8     2               1              0    2     100     170               35   \n",
       "35    1               0              0    1      77     175               25   \n",
       "\n",
       "    Absenteeism time in hours  \n",
       "ID                             \n",
       "11                          4  \n",
       "36                          0  \n",
       "3                           2  \n",
       "7                           4  \n",
       "11                          2  \n",
       "..                        ...  \n",
       "11                          8  \n",
       "1                           4  \n",
       "4                           0  \n",
       "8                           0  \n",
       "35                          0  \n",
       "\n",
       "[740 rows x 20 columns]"
      ]
     },
     "execution_count": 2,
     "metadata": {},
     "output_type": "execute_result"
    }
   ],
   "source": [
    "absenteeism_at_work = pd.read_csv(\"../../data/absenteeism-at-work/data.csv\", delimiter=\";\", index_col=\"ID\")\n",
    "absenteeism_at_work"
   ]
  },
  {
   "cell_type": "code",
   "execution_count": 3,
   "id": "e3548fb8",
   "metadata": {},
   "outputs": [
    {
     "data": {
      "text/html": [
       "<div>\n",
       "<style scoped>\n",
       "    .dataframe tbody tr th:only-of-type {\n",
       "        vertical-align: middle;\n",
       "    }\n",
       "\n",
       "    .dataframe tbody tr th {\n",
       "        vertical-align: top;\n",
       "    }\n",
       "\n",
       "    .dataframe thead th {\n",
       "        text-align: right;\n",
       "    }\n",
       "</style>\n",
       "<table border=\"1\" class=\"dataframe\">\n",
       "  <thead>\n",
       "    <tr style=\"text-align: right;\">\n",
       "      <th></th>\n",
       "      <th>Column Name</th>\n",
       "      <th>Min value</th>\n",
       "      <th>Max value</th>\n",
       "    </tr>\n",
       "  </thead>\n",
       "  <tbody>\n",
       "    <tr>\n",
       "      <th>Reason for absence</th>\n",
       "      <td>Reason for absence</td>\n",
       "      <td>0.000</td>\n",
       "      <td>28.000</td>\n",
       "    </tr>\n",
       "    <tr>\n",
       "      <th>Month of absence</th>\n",
       "      <td>Month of absence</td>\n",
       "      <td>0.000</td>\n",
       "      <td>12.000</td>\n",
       "    </tr>\n",
       "    <tr>\n",
       "      <th>Day of the week</th>\n",
       "      <td>Day of the week</td>\n",
       "      <td>2.000</td>\n",
       "      <td>6.000</td>\n",
       "    </tr>\n",
       "    <tr>\n",
       "      <th>Seasons</th>\n",
       "      <td>Seasons</td>\n",
       "      <td>1.000</td>\n",
       "      <td>4.000</td>\n",
       "    </tr>\n",
       "    <tr>\n",
       "      <th>Transportation expense</th>\n",
       "      <td>Transportation expense</td>\n",
       "      <td>118.000</td>\n",
       "      <td>388.000</td>\n",
       "    </tr>\n",
       "    <tr>\n",
       "      <th>Distance from Residence to Work</th>\n",
       "      <td>Distance from Residence to Work</td>\n",
       "      <td>5.000</td>\n",
       "      <td>52.000</td>\n",
       "    </tr>\n",
       "    <tr>\n",
       "      <th>Service time</th>\n",
       "      <td>Service time</td>\n",
       "      <td>1.000</td>\n",
       "      <td>29.000</td>\n",
       "    </tr>\n",
       "    <tr>\n",
       "      <th>Age</th>\n",
       "      <td>Age</td>\n",
       "      <td>27.000</td>\n",
       "      <td>58.000</td>\n",
       "    </tr>\n",
       "    <tr>\n",
       "      <th>Work load Average/day</th>\n",
       "      <td>Work load Average/day</td>\n",
       "      <td>205.917</td>\n",
       "      <td>378.884</td>\n",
       "    </tr>\n",
       "    <tr>\n",
       "      <th>Hit target</th>\n",
       "      <td>Hit target</td>\n",
       "      <td>81.000</td>\n",
       "      <td>100.000</td>\n",
       "    </tr>\n",
       "    <tr>\n",
       "      <th>Disciplinary failure</th>\n",
       "      <td>Disciplinary failure</td>\n",
       "      <td>0.000</td>\n",
       "      <td>1.000</td>\n",
       "    </tr>\n",
       "    <tr>\n",
       "      <th>Education</th>\n",
       "      <td>Education</td>\n",
       "      <td>1.000</td>\n",
       "      <td>4.000</td>\n",
       "    </tr>\n",
       "    <tr>\n",
       "      <th>Son</th>\n",
       "      <td>Son</td>\n",
       "      <td>0.000</td>\n",
       "      <td>4.000</td>\n",
       "    </tr>\n",
       "    <tr>\n",
       "      <th>Social drinker</th>\n",
       "      <td>Social drinker</td>\n",
       "      <td>0.000</td>\n",
       "      <td>1.000</td>\n",
       "    </tr>\n",
       "    <tr>\n",
       "      <th>Social smoker</th>\n",
       "      <td>Social smoker</td>\n",
       "      <td>0.000</td>\n",
       "      <td>1.000</td>\n",
       "    </tr>\n",
       "    <tr>\n",
       "      <th>Pet</th>\n",
       "      <td>Pet</td>\n",
       "      <td>0.000</td>\n",
       "      <td>8.000</td>\n",
       "    </tr>\n",
       "    <tr>\n",
       "      <th>Weight</th>\n",
       "      <td>Weight</td>\n",
       "      <td>56.000</td>\n",
       "      <td>108.000</td>\n",
       "    </tr>\n",
       "    <tr>\n",
       "      <th>Height</th>\n",
       "      <td>Height</td>\n",
       "      <td>163.000</td>\n",
       "      <td>196.000</td>\n",
       "    </tr>\n",
       "    <tr>\n",
       "      <th>Body mass index</th>\n",
       "      <td>Body mass index</td>\n",
       "      <td>19.000</td>\n",
       "      <td>38.000</td>\n",
       "    </tr>\n",
       "    <tr>\n",
       "      <th>Absenteeism time in hours</th>\n",
       "      <td>Absenteeism time in hours</td>\n",
       "      <td>0.000</td>\n",
       "      <td>120.000</td>\n",
       "    </tr>\n",
       "  </tbody>\n",
       "</table>\n",
       "</div>"
      ],
      "text/plain": [
       "                                                     Column Name  Min value  \\\n",
       "Reason for absence                            Reason for absence      0.000   \n",
       "Month of absence                                Month of absence      0.000   \n",
       "Day of the week                                  Day of the week      2.000   \n",
       "Seasons                                                  Seasons      1.000   \n",
       "Transportation expense                    Transportation expense    118.000   \n",
       "Distance from Residence to Work  Distance from Residence to Work      5.000   \n",
       "Service time                                        Service time      1.000   \n",
       "Age                                                          Age     27.000   \n",
       "Work load Average/day                      Work load Average/day    205.917   \n",
       "Hit target                                            Hit target     81.000   \n",
       "Disciplinary failure                        Disciplinary failure      0.000   \n",
       "Education                                              Education      1.000   \n",
       "Son                                                          Son      0.000   \n",
       "Social drinker                                    Social drinker      0.000   \n",
       "Social smoker                                      Social smoker      0.000   \n",
       "Pet                                                          Pet      0.000   \n",
       "Weight                                                    Weight     56.000   \n",
       "Height                                                    Height    163.000   \n",
       "Body mass index                                  Body mass index     19.000   \n",
       "Absenteeism time in hours              Absenteeism time in hours      0.000   \n",
       "\n",
       "                                 Max value  \n",
       "Reason for absence                  28.000  \n",
       "Month of absence                    12.000  \n",
       "Day of the week                      6.000  \n",
       "Seasons                              4.000  \n",
       "Transportation expense             388.000  \n",
       "Distance from Residence to Work     52.000  \n",
       "Service time                        29.000  \n",
       "Age                                 58.000  \n",
       "Work load Average/day              378.884  \n",
       "Hit target                         100.000  \n",
       "Disciplinary failure                 1.000  \n",
       "Education                            4.000  \n",
       "Son                                  4.000  \n",
       "Social drinker                       1.000  \n",
       "Social smoker                        1.000  \n",
       "Pet                                  8.000  \n",
       "Weight                             108.000  \n",
       "Height                             196.000  \n",
       "Body mass index                     38.000  \n",
       "Absenteeism time in hours          120.000  "
      ]
     },
     "execution_count": 3,
     "metadata": {},
     "output_type": "execute_result"
    }
   ],
   "source": [
    "pd.DataFrame({\n",
    "    \"Column Name\": absenteeism_at_work.columns,\n",
    "    \"Min value\": absenteeism_at_work.min(),\n",
    "    \"Max value\": absenteeism_at_work.max()\n",
    "})"
   ]
  },
  {
   "cell_type": "code",
   "execution_count": 4,
   "id": "1ed1c6a3",
   "metadata": {},
   "outputs": [
    {
     "data": {
      "text/plain": [
       "'The data contains missing values: False'"
      ]
     },
     "execution_count": 4,
     "metadata": {},
     "output_type": "execute_result"
    }
   ],
   "source": [
    "missing_values = absenteeism_at_work.isnull().values.any()\n",
    "f\"The data contains missing values: %s\" %missing_values"
   ]
  },
  {
   "cell_type": "markdown",
   "id": "b629938d",
   "metadata": {},
   "source": [
    "# Data preprocessing"
   ]
  },
  {
   "cell_type": "markdown",
   "id": "7897682b",
   "metadata": {},
   "source": [
    "## Remove missing values"
   ]
  },
  {
   "cell_type": "markdown",
   "id": "f97bca45",
   "metadata": {},
   "source": [
    "### Reason for absence\n",
    "There are values marked as 0 which signals an unkown values. They could be removed. However, a category Unkown could also be useful to make prediction a bit hard and the model more robust."
   ]
  },
  {
   "cell_type": "markdown",
   "id": "91025e61",
   "metadata": {},
   "source": [
    "### Month of absence\n",
    "Some months are encoded as 0, even though the range should be from 1 to 12"
   ]
  },
  {
   "cell_type": "code",
   "execution_count": 5,
   "id": "4db8ab44",
   "metadata": {},
   "outputs": [],
   "source": [
    "absenteeism_at_work.drop(absenteeism_at_work[absenteeism_at_work[\"Month of absence\"] == 0].index, inplace=True)"
   ]
  },
  {
   "cell_type": "markdown",
   "id": "f311eb8c",
   "metadata": {},
   "source": [
    "## Map all booleans to their data type\n",
    "Many variables are encoded as zeros and ones when they are booleans. To make the dataset more descriptive and prevent classifiers interpreting the features as continuous values they are mapped to bool types."
   ]
  },
  {
   "cell_type": "code",
   "execution_count": 6,
   "id": "57014d98",
   "metadata": {},
   "outputs": [],
   "source": [
    "boolean_columns = [\"Disciplinary failure\", \"Son\", \"Social drinker\", \"Social smoker\", \"Pet\"]"
   ]
  },
  {
   "cell_type": "code",
   "execution_count": 7,
   "id": "7a772a82",
   "metadata": {},
   "outputs": [],
   "source": [
    "absenteeism_at_work[boolean_columns] = absenteeism_at_work[boolean_columns].astype(bool)"
   ]
  },
  {
   "cell_type": "markdown",
   "id": "794c5bcc",
   "metadata": {},
   "source": [
    "## Map categorical values to string representations\n",
    "All classes are encoded as integers. Again, to prevent classifiers from learning some order between the individual classes, they can be mapped to their correct data type."
   ]
  },
  {
   "cell_type": "code",
   "execution_count": 8,
   "id": "4e7263a2",
   "metadata": {},
   "outputs": [],
   "source": [
    "season_mapping = {\n",
    "    1: \"Summer\",\n",
    "    2: \"Autumn\",\n",
    "    3: \"Winter\",\n",
    "    4: \"Spring\"\n",
    "}\n",
    "weekday_mapping = {\n",
    "    1: \"Sunday\",\n",
    "    2: \"Monday\",\n",
    "    3: \"Tuesday\",\n",
    "    4: \"Wednesday\",\n",
    "    5: \"Thursday\",\n",
    "    6: \"Friday\",\n",
    "    7: \"Saturday\"\n",
    "}\n",
    "month_mapping = {\n",
    "    1: \"January\",\n",
    "    2: \"February\",\n",
    "    3: \"March\",\n",
    "    4: \"April\",\n",
    "    5: \"May\",\n",
    "    6: \"June\",\n",
    "    7: \"July\",\n",
    "    8: \"August\",\n",
    "    9: \"September\",\n",
    "    10: \"October\",\n",
    "    11: \"November\",\n",
    "    12: \"December\"\n",
    "}\n",
    "education_mapping = {\n",
    "    1: \"High scool\",\n",
    "    2: \"Graduate\",\n",
    "    3: \"Postgraduate\",\n",
    "    4: \"Master and doctor\"\n",
    "}\n",
    "absence_reason_mapping = {\n",
    "    0: \"Unknown\",\n",
    "    1: \"Infectious and parasitic\",\n",
    "    2: \"Neoplasms\",\n",
    "    3: \"Blood and blood-forming organ\",\n",
    "    4: \"Endocrine, nutritional and metabolic\",\n",
    "    5: \"Mental and behavioural disorders\",\n",
    "    6: \"Nervous system\",\n",
    "    7: \"Eye and adnexa\",\n",
    "    8: \"Ear and mastoid process\",\n",
    "    9: \"Circulatory system\",\n",
    "    10: \"Respiratory system\",\n",
    "    11: \"Digestive system\",\n",
    "    12: \"Skin and subcutaneous tissue\",\n",
    "    13: \"Musculoskeletal system\",\n",
    "    14: \"Genitourinary system\",\n",
    "    15: \"Pregnancy, childbirth and puerperium\",\n",
    "    16: \"Perinatal period conditions\",\n",
    "    17: \"Congenital malformations, deformations\",\n",
    "    18: \"Abnormal clinical symptoms\",\n",
    "    19: \"Injury, poisoning\",\n",
    "    20: \"Morbidity and mortality \",\n",
    "    21: \"Health service encounters\",\n",
    "    22: \"Patient follow-up\",\n",
    "    23: \"Medical consultation\",\n",
    "    24: \"Blood donation\",\n",
    "    25: \"Laboratory examination\",\n",
    "    26: \"Unjustified absence\",\n",
    "    27: \"Physiotherapy\",\n",
    "    28: \"Dental consultation\"\n",
    "}"
   ]
  },
  {
   "cell_type": "code",
   "execution_count": 9,
   "id": "cdb32cd2",
   "metadata": {},
   "outputs": [],
   "source": [
    "absenteeism_at_work[\"Day of the week\"] = absenteeism_at_work[\"Day of the week\"].replace(weekday_mapping).astype(\"category\")\n",
    "absenteeism_at_work[\"Month of absence\"] = absenteeism_at_work[\"Month of absence\"].replace(month_mapping).astype(\"category\")\n",
    "absenteeism_at_work[\"Seasons\"] = absenteeism_at_work[\"Seasons\"].replace(season_mapping).astype(\"category\")\n",
    "absenteeism_at_work[\"Education\"] = absenteeism_at_work[\"Education\"].replace(education_mapping).astype(\"category\")\n",
    "absenteeism_at_work[\"Reason for absence\"] = absenteeism_at_work[\"Reason for absence\"].replace(absence_reason_mapping).astype(\"category\")"
   ]
  },
  {
   "cell_type": "markdown",
   "id": "f958726a",
   "metadata": {},
   "source": [
    "## Round workload to integer\n",
    "This is absolutely not necessary. However, the dataset now consists only of categorical, integer and boolean features except for the work load average per day. There should be no harm in roundin the values."
   ]
  },
  {
   "cell_type": "code",
   "execution_count": 10,
   "id": "de5f71ab",
   "metadata": {},
   "outputs": [],
   "source": [
    "absenteeism_at_work[\"Work load Average/day\"] = absenteeism_at_work[\"Work load Average/day\"].round(0).astype(int)"
   ]
  },
  {
   "cell_type": "markdown",
   "id": "43ca5639",
   "metadata": {},
   "source": [
    "## Show preprocessed data\n",
    "The result is a cleaned dataset where all features have their correct type. There are no redundancies, missing features etc. It should be interpretable by any model from the sklearn library, which is the one used here. One-hot encoding for categorical variables will be performed in the experiments sections. It is not done here, because it is not adding/changing any semantic meaning to the data and some classifier do this out of the box."
   ]
  },
  {
   "cell_type": "code",
   "execution_count": 11,
   "id": "5e98242a",
   "metadata": {
    "scrolled": true
   },
   "outputs": [
    {
     "data": {
      "text/html": [
       "<div>\n",
       "<style scoped>\n",
       "    .dataframe tbody tr th:only-of-type {\n",
       "        vertical-align: middle;\n",
       "    }\n",
       "\n",
       "    .dataframe tbody tr th {\n",
       "        vertical-align: top;\n",
       "    }\n",
       "\n",
       "    .dataframe thead th {\n",
       "        text-align: right;\n",
       "    }\n",
       "</style>\n",
       "<table border=\"1\" class=\"dataframe\">\n",
       "  <thead>\n",
       "    <tr style=\"text-align: right;\">\n",
       "      <th></th>\n",
       "      <th>Reason for absence</th>\n",
       "      <th>Month of absence</th>\n",
       "      <th>Day of the week</th>\n",
       "      <th>Seasons</th>\n",
       "      <th>Transportation expense</th>\n",
       "      <th>Distance from Residence to Work</th>\n",
       "      <th>Service time</th>\n",
       "      <th>Age</th>\n",
       "      <th>Work load Average/day</th>\n",
       "      <th>Hit target</th>\n",
       "      <th>Disciplinary failure</th>\n",
       "      <th>Education</th>\n",
       "      <th>Son</th>\n",
       "      <th>Social drinker</th>\n",
       "      <th>Social smoker</th>\n",
       "      <th>Pet</th>\n",
       "      <th>Weight</th>\n",
       "      <th>Height</th>\n",
       "      <th>Body mass index</th>\n",
       "      <th>Absenteeism time in hours</th>\n",
       "    </tr>\n",
       "    <tr>\n",
       "      <th>ID</th>\n",
       "      <th></th>\n",
       "      <th></th>\n",
       "      <th></th>\n",
       "      <th></th>\n",
       "      <th></th>\n",
       "      <th></th>\n",
       "      <th></th>\n",
       "      <th></th>\n",
       "      <th></th>\n",
       "      <th></th>\n",
       "      <th></th>\n",
       "      <th></th>\n",
       "      <th></th>\n",
       "      <th></th>\n",
       "      <th></th>\n",
       "      <th></th>\n",
       "      <th></th>\n",
       "      <th></th>\n",
       "      <th></th>\n",
       "      <th></th>\n",
       "    </tr>\n",
       "  </thead>\n",
       "  <tbody>\n",
       "    <tr>\n",
       "      <th>11</th>\n",
       "      <td>Unjustified absence</td>\n",
       "      <td>July</td>\n",
       "      <td>Tuesday</td>\n",
       "      <td>Summer</td>\n",
       "      <td>289</td>\n",
       "      <td>36</td>\n",
       "      <td>13</td>\n",
       "      <td>33</td>\n",
       "      <td>240</td>\n",
       "      <td>97</td>\n",
       "      <td>False</td>\n",
       "      <td>High scool</td>\n",
       "      <td>True</td>\n",
       "      <td>True</td>\n",
       "      <td>False</td>\n",
       "      <td>True</td>\n",
       "      <td>90</td>\n",
       "      <td>172</td>\n",
       "      <td>30</td>\n",
       "      <td>4</td>\n",
       "    </tr>\n",
       "    <tr>\n",
       "      <th>36</th>\n",
       "      <td>Unknown</td>\n",
       "      <td>July</td>\n",
       "      <td>Tuesday</td>\n",
       "      <td>Summer</td>\n",
       "      <td>118</td>\n",
       "      <td>13</td>\n",
       "      <td>18</td>\n",
       "      <td>50</td>\n",
       "      <td>240</td>\n",
       "      <td>97</td>\n",
       "      <td>True</td>\n",
       "      <td>High scool</td>\n",
       "      <td>True</td>\n",
       "      <td>True</td>\n",
       "      <td>False</td>\n",
       "      <td>False</td>\n",
       "      <td>98</td>\n",
       "      <td>178</td>\n",
       "      <td>31</td>\n",
       "      <td>0</td>\n",
       "    </tr>\n",
       "    <tr>\n",
       "      <th>3</th>\n",
       "      <td>Medical consultation</td>\n",
       "      <td>July</td>\n",
       "      <td>Wednesday</td>\n",
       "      <td>Summer</td>\n",
       "      <td>179</td>\n",
       "      <td>51</td>\n",
       "      <td>18</td>\n",
       "      <td>38</td>\n",
       "      <td>240</td>\n",
       "      <td>97</td>\n",
       "      <td>False</td>\n",
       "      <td>High scool</td>\n",
       "      <td>False</td>\n",
       "      <td>True</td>\n",
       "      <td>False</td>\n",
       "      <td>False</td>\n",
       "      <td>89</td>\n",
       "      <td>170</td>\n",
       "      <td>31</td>\n",
       "      <td>2</td>\n",
       "    </tr>\n",
       "    <tr>\n",
       "      <th>7</th>\n",
       "      <td>Eye and adnexa</td>\n",
       "      <td>July</td>\n",
       "      <td>Thursday</td>\n",
       "      <td>Summer</td>\n",
       "      <td>279</td>\n",
       "      <td>5</td>\n",
       "      <td>14</td>\n",
       "      <td>39</td>\n",
       "      <td>240</td>\n",
       "      <td>97</td>\n",
       "      <td>False</td>\n",
       "      <td>High scool</td>\n",
       "      <td>True</td>\n",
       "      <td>True</td>\n",
       "      <td>True</td>\n",
       "      <td>False</td>\n",
       "      <td>68</td>\n",
       "      <td>168</td>\n",
       "      <td>24</td>\n",
       "      <td>4</td>\n",
       "    </tr>\n",
       "    <tr>\n",
       "      <th>11</th>\n",
       "      <td>Medical consultation</td>\n",
       "      <td>July</td>\n",
       "      <td>Thursday</td>\n",
       "      <td>Summer</td>\n",
       "      <td>289</td>\n",
       "      <td>36</td>\n",
       "      <td>13</td>\n",
       "      <td>33</td>\n",
       "      <td>240</td>\n",
       "      <td>97</td>\n",
       "      <td>False</td>\n",
       "      <td>High scool</td>\n",
       "      <td>True</td>\n",
       "      <td>True</td>\n",
       "      <td>False</td>\n",
       "      <td>True</td>\n",
       "      <td>90</td>\n",
       "      <td>172</td>\n",
       "      <td>30</td>\n",
       "      <td>2</td>\n",
       "    </tr>\n",
       "    <tr>\n",
       "      <th>...</th>\n",
       "      <td>...</td>\n",
       "      <td>...</td>\n",
       "      <td>...</td>\n",
       "      <td>...</td>\n",
       "      <td>...</td>\n",
       "      <td>...</td>\n",
       "      <td>...</td>\n",
       "      <td>...</td>\n",
       "      <td>...</td>\n",
       "      <td>...</td>\n",
       "      <td>...</td>\n",
       "      <td>...</td>\n",
       "      <td>...</td>\n",
       "      <td>...</td>\n",
       "      <td>...</td>\n",
       "      <td>...</td>\n",
       "      <td>...</td>\n",
       "      <td>...</td>\n",
       "      <td>...</td>\n",
       "      <td>...</td>\n",
       "    </tr>\n",
       "    <tr>\n",
       "      <th>10</th>\n",
       "      <td>Patient follow-up</td>\n",
       "      <td>July</td>\n",
       "      <td>Wednesday</td>\n",
       "      <td>Summer</td>\n",
       "      <td>361</td>\n",
       "      <td>52</td>\n",
       "      <td>3</td>\n",
       "      <td>28</td>\n",
       "      <td>265</td>\n",
       "      <td>93</td>\n",
       "      <td>False</td>\n",
       "      <td>High scool</td>\n",
       "      <td>True</td>\n",
       "      <td>True</td>\n",
       "      <td>False</td>\n",
       "      <td>True</td>\n",
       "      <td>80</td>\n",
       "      <td>172</td>\n",
       "      <td>27</td>\n",
       "      <td>8</td>\n",
       "    </tr>\n",
       "    <tr>\n",
       "      <th>28</th>\n",
       "      <td>Patient follow-up</td>\n",
       "      <td>July</td>\n",
       "      <td>Wednesday</td>\n",
       "      <td>Summer</td>\n",
       "      <td>225</td>\n",
       "      <td>26</td>\n",
       "      <td>9</td>\n",
       "      <td>28</td>\n",
       "      <td>265</td>\n",
       "      <td>93</td>\n",
       "      <td>False</td>\n",
       "      <td>High scool</td>\n",
       "      <td>True</td>\n",
       "      <td>False</td>\n",
       "      <td>False</td>\n",
       "      <td>True</td>\n",
       "      <td>69</td>\n",
       "      <td>169</td>\n",
       "      <td>24</td>\n",
       "      <td>8</td>\n",
       "    </tr>\n",
       "    <tr>\n",
       "      <th>13</th>\n",
       "      <td>Musculoskeletal system</td>\n",
       "      <td>July</td>\n",
       "      <td>Monday</td>\n",
       "      <td>Summer</td>\n",
       "      <td>369</td>\n",
       "      <td>17</td>\n",
       "      <td>12</td>\n",
       "      <td>31</td>\n",
       "      <td>265</td>\n",
       "      <td>93</td>\n",
       "      <td>False</td>\n",
       "      <td>High scool</td>\n",
       "      <td>True</td>\n",
       "      <td>True</td>\n",
       "      <td>False</td>\n",
       "      <td>False</td>\n",
       "      <td>70</td>\n",
       "      <td>169</td>\n",
       "      <td>25</td>\n",
       "      <td>80</td>\n",
       "    </tr>\n",
       "    <tr>\n",
       "      <th>11</th>\n",
       "      <td>Genitourinary system</td>\n",
       "      <td>July</td>\n",
       "      <td>Tuesday</td>\n",
       "      <td>Summer</td>\n",
       "      <td>289</td>\n",
       "      <td>36</td>\n",
       "      <td>13</td>\n",
       "      <td>33</td>\n",
       "      <td>265</td>\n",
       "      <td>93</td>\n",
       "      <td>False</td>\n",
       "      <td>High scool</td>\n",
       "      <td>True</td>\n",
       "      <td>True</td>\n",
       "      <td>False</td>\n",
       "      <td>True</td>\n",
       "      <td>90</td>\n",
       "      <td>172</td>\n",
       "      <td>30</td>\n",
       "      <td>8</td>\n",
       "    </tr>\n",
       "    <tr>\n",
       "      <th>1</th>\n",
       "      <td>Digestive system</td>\n",
       "      <td>July</td>\n",
       "      <td>Tuesday</td>\n",
       "      <td>Summer</td>\n",
       "      <td>235</td>\n",
       "      <td>11</td>\n",
       "      <td>14</td>\n",
       "      <td>37</td>\n",
       "      <td>265</td>\n",
       "      <td>93</td>\n",
       "      <td>False</td>\n",
       "      <td>Postgraduate</td>\n",
       "      <td>True</td>\n",
       "      <td>False</td>\n",
       "      <td>False</td>\n",
       "      <td>True</td>\n",
       "      <td>88</td>\n",
       "      <td>172</td>\n",
       "      <td>29</td>\n",
       "      <td>4</td>\n",
       "    </tr>\n",
       "  </tbody>\n",
       "</table>\n",
       "<p>736 rows × 20 columns</p>\n",
       "</div>"
      ],
      "text/plain": [
       "        Reason for absence Month of absence Day of the week Seasons  \\\n",
       "ID                                                                    \n",
       "11     Unjustified absence             July         Tuesday  Summer   \n",
       "36                 Unknown             July         Tuesday  Summer   \n",
       "3     Medical consultation             July       Wednesday  Summer   \n",
       "7           Eye and adnexa             July        Thursday  Summer   \n",
       "11    Medical consultation             July        Thursday  Summer   \n",
       "..                     ...              ...             ...     ...   \n",
       "10       Patient follow-up             July       Wednesday  Summer   \n",
       "28       Patient follow-up             July       Wednesday  Summer   \n",
       "13  Musculoskeletal system             July          Monday  Summer   \n",
       "11    Genitourinary system             July         Tuesday  Summer   \n",
       "1         Digestive system             July         Tuesday  Summer   \n",
       "\n",
       "    Transportation expense  Distance from Residence to Work  Service time  \\\n",
       "ID                                                                          \n",
       "11                     289                               36            13   \n",
       "36                     118                               13            18   \n",
       "3                      179                               51            18   \n",
       "7                      279                                5            14   \n",
       "11                     289                               36            13   \n",
       "..                     ...                              ...           ...   \n",
       "10                     361                               52             3   \n",
       "28                     225                               26             9   \n",
       "13                     369                               17            12   \n",
       "11                     289                               36            13   \n",
       "1                      235                               11            14   \n",
       "\n",
       "    Age  Work load Average/day  Hit target  Disciplinary failure  \\\n",
       "ID                                                                 \n",
       "11   33                    240          97                 False   \n",
       "36   50                    240          97                  True   \n",
       "3    38                    240          97                 False   \n",
       "7    39                    240          97                 False   \n",
       "11   33                    240          97                 False   \n",
       "..  ...                    ...         ...                   ...   \n",
       "10   28                    265          93                 False   \n",
       "28   28                    265          93                 False   \n",
       "13   31                    265          93                 False   \n",
       "11   33                    265          93                 False   \n",
       "1    37                    265          93                 False   \n",
       "\n",
       "       Education    Son  Social drinker  Social smoker    Pet  Weight  Height  \\\n",
       "ID                                                                              \n",
       "11    High scool   True            True          False   True      90     172   \n",
       "36    High scool   True            True          False  False      98     178   \n",
       "3     High scool  False            True          False  False      89     170   \n",
       "7     High scool   True            True           True  False      68     168   \n",
       "11    High scool   True            True          False   True      90     172   \n",
       "..           ...    ...             ...            ...    ...     ...     ...   \n",
       "10    High scool   True            True          False   True      80     172   \n",
       "28    High scool   True           False          False   True      69     169   \n",
       "13    High scool   True            True          False  False      70     169   \n",
       "11    High scool   True            True          False   True      90     172   \n",
       "1   Postgraduate   True           False          False   True      88     172   \n",
       "\n",
       "    Body mass index  Absenteeism time in hours  \n",
       "ID                                              \n",
       "11               30                          4  \n",
       "36               31                          0  \n",
       "3                31                          2  \n",
       "7                24                          4  \n",
       "11               30                          2  \n",
       "..              ...                        ...  \n",
       "10               27                          8  \n",
       "28               24                          8  \n",
       "13               25                         80  \n",
       "11               30                          8  \n",
       "1                29                          4  \n",
       "\n",
       "[736 rows x 20 columns]"
      ]
     },
     "execution_count": 11,
     "metadata": {},
     "output_type": "execute_result"
    }
   ],
   "source": [
    "absenteeism_at_work"
   ]
  },
  {
   "cell_type": "markdown",
   "id": "e54def44",
   "metadata": {},
   "source": [
    "# Experiments"
   ]
  },
  {
   "cell_type": "markdown",
   "id": "724b3e21",
   "metadata": {},
   "source": [
    "## Global parameters"
   ]
  },
  {
   "cell_type": "code",
   "execution_count": 12,
   "id": "db9f1cd2",
   "metadata": {},
   "outputs": [],
   "source": [
    "seed = 1183743\n",
    "test_size = 0.2\n",
    "shuffle_train_test = True\n",
    "scaler = StandardScaler()\n",
    "scale_features = [\"Transportation expense\", \"Distance from Residence to Work\", \"Service time\", \"Age\", \"Work load Average/day\", \"Hit target\", \"Weight\", \"Height\", \"Body mass index\", \"Absenteeism time in hours\"]\n",
    "category_encoder = OneHotEncoder()\n",
    "category_features = [\"Day of the week\", \"Month of absence\", \"Seasons\", \"Education\"]"
   ]
  },
  {
   "cell_type": "markdown",
   "id": "bf6527e6",
   "metadata": {},
   "source": [
    "## Metrics function"
   ]
  },
  {
   "cell_type": "code",
   "execution_count": 13,
   "id": "12f2adac",
   "metadata": {},
   "outputs": [],
   "source": [
    "def calculate_performance_metrics(y_test, y_pred, class_names=None):        \n",
    "    accuracy = accuracy_score(y_test, y_pred)\n",
    "    precision = precision_score(y_test, y_pred, average=\"weighted\")\n",
    "    recall = recall_score(y_test, y_pred, average=\"weighted\")\n",
    "    f1 = f1_score(y_test, y_pred, average=\"weighted\")\n",
    "    \n",
    "    return pd.Series({\n",
    "        \"Accuracy\": accuracy,\n",
    "        \"Precision\": precision,\n",
    "        \"Recall\": recall,\n",
    "        \"F1 Score\": f1\n",
    "    })\n",
    "    \n",
    "def calculate_per_class_accuracy(y_test, y_pred, class_names=None):\n",
    "    if class_names is None:\n",
    "        class_names = y_test.unique()\n",
    "        \n",
    "    present_classes = list(filter(lambda name: y_test.str.contains(name).any(), class_names))\n",
    "    \n",
    "    cm = confusion_matrix(y_test, y_pred)\n",
    "    accuracies = np.divide(cm.diagonal(), cm.sum(axis=1))\n",
    "    \n",
    "    return pd.Series(accuracies[~np.isnan(accuracies)], index=present_classes)"
   ]
  },
  {
   "cell_type": "markdown",
   "id": "19cb9774",
   "metadata": {},
   "source": [
    "## Data"
   ]
  },
  {
   "cell_type": "markdown",
   "id": "c599ae1f",
   "metadata": {},
   "source": [
    "### Split features and target value"
   ]
  },
  {
   "cell_type": "code",
   "execution_count": 14,
   "id": "2b5dfd6f",
   "metadata": {},
   "outputs": [],
   "source": [
    "X = absenteeism_at_work.drop([\"Reason for absence\"], axis=1)\n",
    "y = absenteeism_at_work[\"Reason for absence\"]"
   ]
  },
  {
   "cell_type": "code",
   "execution_count": 15,
   "id": "bfcc64be",
   "metadata": {},
   "outputs": [],
   "source": [
    "X_train, X_test, y_train, y_test = train_test_split(X, y, random_state=seed, shuffle=shuffle_train_test)"
   ]
  },
  {
   "cell_type": "markdown",
   "id": "9170b54d",
   "metadata": {},
   "source": [
    "### Additional preprocessing for training and evaluation"
   ]
  },
  {
   "cell_type": "code",
   "execution_count": 16,
   "id": "46c783da",
   "metadata": {},
   "outputs": [],
   "source": [
    "column_transformer = make_column_transformer(\n",
    "    (scaler, scale_features),\n",
    "    (category_encoder, category_features),\n",
    "    remainder=\"passthrough\"\n",
    ")\n",
    "\n",
    "X_train = pd.DataFrame(column_transformer.fit_transform(X_train), columns=column_transformer.get_feature_names_out())\n",
    "X_test = pd.DataFrame(column_transformer.transform(X_test), columns=column_transformer.get_feature_names_out())"
   ]
  },
  {
   "cell_type": "markdown",
   "id": "99ccdda4",
   "metadata": {},
   "source": [
    "## Random forest classifier"
   ]
  },
  {
   "cell_type": "markdown",
   "id": "268c981f",
   "metadata": {},
   "source": [
    "### Parameters"
   ]
  },
  {
   "cell_type": "code",
   "execution_count": 17,
   "id": "7447ae35",
   "metadata": {},
   "outputs": [],
   "source": [
    "n_trees = 90"
   ]
  },
  {
   "cell_type": "markdown",
   "id": "f5405f47",
   "metadata": {},
   "source": [
    "### Training"
   ]
  },
  {
   "cell_type": "code",
   "execution_count": 18,
   "id": "e4a86ee9",
   "metadata": {},
   "outputs": [
    {
     "data": {
      "text/html": [
       "<style>#sk-container-id-1 {color: black;background-color: white;}#sk-container-id-1 pre{padding: 0;}#sk-container-id-1 div.sk-toggleable {background-color: white;}#sk-container-id-1 label.sk-toggleable__label {cursor: pointer;display: block;width: 100%;margin-bottom: 0;padding: 0.3em;box-sizing: border-box;text-align: center;}#sk-container-id-1 label.sk-toggleable__label-arrow:before {content: \"▸\";float: left;margin-right: 0.25em;color: #696969;}#sk-container-id-1 label.sk-toggleable__label-arrow:hover:before {color: black;}#sk-container-id-1 div.sk-estimator:hover label.sk-toggleable__label-arrow:before {color: black;}#sk-container-id-1 div.sk-toggleable__content {max-height: 0;max-width: 0;overflow: hidden;text-align: left;background-color: #f0f8ff;}#sk-container-id-1 div.sk-toggleable__content pre {margin: 0.2em;color: black;border-radius: 0.25em;background-color: #f0f8ff;}#sk-container-id-1 input.sk-toggleable__control:checked~div.sk-toggleable__content {max-height: 200px;max-width: 100%;overflow: auto;}#sk-container-id-1 input.sk-toggleable__control:checked~label.sk-toggleable__label-arrow:before {content: \"▾\";}#sk-container-id-1 div.sk-estimator input.sk-toggleable__control:checked~label.sk-toggleable__label {background-color: #d4ebff;}#sk-container-id-1 div.sk-label input.sk-toggleable__control:checked~label.sk-toggleable__label {background-color: #d4ebff;}#sk-container-id-1 input.sk-hidden--visually {border: 0;clip: rect(1px 1px 1px 1px);clip: rect(1px, 1px, 1px, 1px);height: 1px;margin: -1px;overflow: hidden;padding: 0;position: absolute;width: 1px;}#sk-container-id-1 div.sk-estimator {font-family: monospace;background-color: #f0f8ff;border: 1px dotted black;border-radius: 0.25em;box-sizing: border-box;margin-bottom: 0.5em;}#sk-container-id-1 div.sk-estimator:hover {background-color: #d4ebff;}#sk-container-id-1 div.sk-parallel-item::after {content: \"\";width: 100%;border-bottom: 1px solid gray;flex-grow: 1;}#sk-container-id-1 div.sk-label:hover label.sk-toggleable__label {background-color: #d4ebff;}#sk-container-id-1 div.sk-serial::before {content: \"\";position: absolute;border-left: 1px solid gray;box-sizing: border-box;top: 0;bottom: 0;left: 50%;z-index: 0;}#sk-container-id-1 div.sk-serial {display: flex;flex-direction: column;align-items: center;background-color: white;padding-right: 0.2em;padding-left: 0.2em;position: relative;}#sk-container-id-1 div.sk-item {position: relative;z-index: 1;}#sk-container-id-1 div.sk-parallel {display: flex;align-items: stretch;justify-content: center;background-color: white;position: relative;}#sk-container-id-1 div.sk-item::before, #sk-container-id-1 div.sk-parallel-item::before {content: \"\";position: absolute;border-left: 1px solid gray;box-sizing: border-box;top: 0;bottom: 0;left: 50%;z-index: -1;}#sk-container-id-1 div.sk-parallel-item {display: flex;flex-direction: column;z-index: 1;position: relative;background-color: white;}#sk-container-id-1 div.sk-parallel-item:first-child::after {align-self: flex-end;width: 50%;}#sk-container-id-1 div.sk-parallel-item:last-child::after {align-self: flex-start;width: 50%;}#sk-container-id-1 div.sk-parallel-item:only-child::after {width: 0;}#sk-container-id-1 div.sk-dashed-wrapped {border: 1px dashed gray;margin: 0 0.4em 0.5em 0.4em;box-sizing: border-box;padding-bottom: 0.4em;background-color: white;}#sk-container-id-1 div.sk-label label {font-family: monospace;font-weight: bold;display: inline-block;line-height: 1.2em;}#sk-container-id-1 div.sk-label-container {text-align: center;}#sk-container-id-1 div.sk-container {/* jupyter's `normalize.less` sets `[hidden] { display: none; }` but bootstrap.min.css set `[hidden] { display: none !important; }` so we also need the `!important` here to be able to override the default hidden behavior on the sphinx rendered scikit-learn.org. See: https://github.com/scikit-learn/scikit-learn/issues/21755 */display: inline-block !important;position: relative;}#sk-container-id-1 div.sk-text-repr-fallback {display: none;}</style><div id=\"sk-container-id-1\" class=\"sk-top-container\"><div class=\"sk-text-repr-fallback\"><pre>RandomForestClassifier(n_estimators=90, random_state=1183743)</pre><b>In a Jupyter environment, please rerun this cell to show the HTML representation or trust the notebook. <br />On GitHub, the HTML representation is unable to render, please try loading this page with nbviewer.org.</b></div><div class=\"sk-container\" hidden><div class=\"sk-item\"><div class=\"sk-estimator sk-toggleable\"><input class=\"sk-toggleable__control sk-hidden--visually\" id=\"sk-estimator-id-1\" type=\"checkbox\" checked><label for=\"sk-estimator-id-1\" class=\"sk-toggleable__label sk-toggleable__label-arrow\">RandomForestClassifier</label><div class=\"sk-toggleable__content\"><pre>RandomForestClassifier(n_estimators=90, random_state=1183743)</pre></div></div></div></div></div>"
      ],
      "text/plain": [
       "RandomForestClassifier(n_estimators=90, random_state=1183743)"
      ]
     },
     "execution_count": 18,
     "metadata": {},
     "output_type": "execute_result"
    }
   ],
   "source": [
    "rf_classifier = RandomForestClassifier(n_estimators=n_trees, random_state=seed)\n",
    "rf_classifier.fit(X_train, y_train)"
   ]
  },
  {
   "cell_type": "markdown",
   "id": "14eac80e",
   "metadata": {},
   "source": [
    "### Prediction"
   ]
  },
  {
   "cell_type": "code",
   "execution_count": 19,
   "id": "36937e95",
   "metadata": {},
   "outputs": [],
   "source": [
    "y_pred = rf_classifier.predict(X_test)"
   ]
  },
  {
   "cell_type": "markdown",
   "id": "2cc6379f",
   "metadata": {},
   "source": [
    "### Evaluation"
   ]
  },
  {
   "cell_type": "code",
   "execution_count": 20,
   "id": "016a38f8",
   "metadata": {},
   "outputs": [
    {
     "name": "stderr",
     "output_type": "stream",
     "text": [
      "/home/tobsel/.local/lib/python3.10/site-packages/sklearn/metrics/_classification.py:1334: UndefinedMetricWarning: Precision is ill-defined and being set to 0.0 in labels with no predicted samples. Use `zero_division` parameter to control this behavior.\n",
      "  _warn_prf(average, modifier, msg_start, len(result))\n",
      "/home/tobsel/.local/lib/python3.10/site-packages/sklearn/metrics/_classification.py:1334: UndefinedMetricWarning: Recall is ill-defined and being set to 0.0 in labels with no true samples. Use `zero_division` parameter to control this behavior.\n",
      "  _warn_prf(average, modifier, msg_start, len(result))\n"
     ]
    },
    {
     "data": {
      "text/plain": [
       "Accuracy     0.396739\n",
       "Precision    0.386453\n",
       "Recall       0.396739\n",
       "F1 Score     0.371205\n",
       "dtype: float64"
      ]
     },
     "execution_count": 20,
     "metadata": {},
     "output_type": "execute_result"
    }
   ],
   "source": [
    "calculate_performance_metrics(y_test, y_pred)"
   ]
  },
  {
   "cell_type": "code",
   "execution_count": 21,
   "id": "f25461b8",
   "metadata": {},
   "outputs": [
    {
     "name": "stderr",
     "output_type": "stream",
     "text": [
      "/tmp/ipykernel_7778/2991757377.py:21: RuntimeWarning: invalid value encountered in divide\n",
      "  accuracies = np.divide(cm.diagonal(), cm.sum(axis=1))\n"
     ]
    },
    {
     "data": {
      "text/plain": [
       "Unknown                                 0.250000\n",
       "Infectious and parasitic                0.000000\n",
       "Blood and blood-forming organ           0.772727\n",
       "Endocrine, nutritional and metabolic    0.000000\n",
       "Mental and behavioural disorders        0.000000\n",
       "Nervous system                          0.000000\n",
       "Eye and adnexa                          0.000000\n",
       "Ear and mastoid process                 0.111111\n",
       "Respiratory system                      0.000000\n",
       "Digestive system                        0.500000\n",
       "Skin and subcutaneous tissue            0.153846\n",
       "Musculoskeletal system                  0.400000\n",
       "Genitourinary system                    0.542857\n",
       "Pregnancy, childbirth and puerperium    0.000000\n",
       "Abnormal clinical symptoms              0.222222\n",
       "Injury, poisoning                       0.200000\n",
       "Health service encounters               0.272727\n",
       "Patient follow-up                       0.666667\n",
       "Medical consultation                    0.000000\n",
       "Laboratory examination                  0.166667\n",
       "Unjustified absence                     0.000000\n",
       "Physiotherapy                           0.181818\n",
       "Dental consultation                     1.000000\n",
       "dtype: float64"
      ]
     },
     "execution_count": 21,
     "metadata": {},
     "output_type": "execute_result"
    }
   ],
   "source": [
    "calculate_per_class_accuracy(y_test, y_pred, class_names=absence_reason_mapping.values())"
   ]
  },
  {
   "cell_type": "markdown",
   "id": "ddc9fae5",
   "metadata": {},
   "source": [
    "## K-neares neighbors"
   ]
  },
  {
   "cell_type": "markdown",
   "id": "9ccc98cd",
   "metadata": {},
   "source": [
    "### Parameters"
   ]
  },
  {
   "cell_type": "code",
   "execution_count": 22,
   "id": "e6910571",
   "metadata": {},
   "outputs": [],
   "source": [
    "n_neighbors = 4"
   ]
  },
  {
   "cell_type": "markdown",
   "id": "4fe8edb5",
   "metadata": {},
   "source": [
    "### Training"
   ]
  },
  {
   "cell_type": "code",
   "execution_count": 23,
   "id": "1157fe91",
   "metadata": {},
   "outputs": [
    {
     "data": {
      "text/html": [
       "<style>#sk-container-id-2 {color: black;background-color: white;}#sk-container-id-2 pre{padding: 0;}#sk-container-id-2 div.sk-toggleable {background-color: white;}#sk-container-id-2 label.sk-toggleable__label {cursor: pointer;display: block;width: 100%;margin-bottom: 0;padding: 0.3em;box-sizing: border-box;text-align: center;}#sk-container-id-2 label.sk-toggleable__label-arrow:before {content: \"▸\";float: left;margin-right: 0.25em;color: #696969;}#sk-container-id-2 label.sk-toggleable__label-arrow:hover:before {color: black;}#sk-container-id-2 div.sk-estimator:hover label.sk-toggleable__label-arrow:before {color: black;}#sk-container-id-2 div.sk-toggleable__content {max-height: 0;max-width: 0;overflow: hidden;text-align: left;background-color: #f0f8ff;}#sk-container-id-2 div.sk-toggleable__content pre {margin: 0.2em;color: black;border-radius: 0.25em;background-color: #f0f8ff;}#sk-container-id-2 input.sk-toggleable__control:checked~div.sk-toggleable__content {max-height: 200px;max-width: 100%;overflow: auto;}#sk-container-id-2 input.sk-toggleable__control:checked~label.sk-toggleable__label-arrow:before {content: \"▾\";}#sk-container-id-2 div.sk-estimator input.sk-toggleable__control:checked~label.sk-toggleable__label {background-color: #d4ebff;}#sk-container-id-2 div.sk-label input.sk-toggleable__control:checked~label.sk-toggleable__label {background-color: #d4ebff;}#sk-container-id-2 input.sk-hidden--visually {border: 0;clip: rect(1px 1px 1px 1px);clip: rect(1px, 1px, 1px, 1px);height: 1px;margin: -1px;overflow: hidden;padding: 0;position: absolute;width: 1px;}#sk-container-id-2 div.sk-estimator {font-family: monospace;background-color: #f0f8ff;border: 1px dotted black;border-radius: 0.25em;box-sizing: border-box;margin-bottom: 0.5em;}#sk-container-id-2 div.sk-estimator:hover {background-color: #d4ebff;}#sk-container-id-2 div.sk-parallel-item::after {content: \"\";width: 100%;border-bottom: 1px solid gray;flex-grow: 1;}#sk-container-id-2 div.sk-label:hover label.sk-toggleable__label {background-color: #d4ebff;}#sk-container-id-2 div.sk-serial::before {content: \"\";position: absolute;border-left: 1px solid gray;box-sizing: border-box;top: 0;bottom: 0;left: 50%;z-index: 0;}#sk-container-id-2 div.sk-serial {display: flex;flex-direction: column;align-items: center;background-color: white;padding-right: 0.2em;padding-left: 0.2em;position: relative;}#sk-container-id-2 div.sk-item {position: relative;z-index: 1;}#sk-container-id-2 div.sk-parallel {display: flex;align-items: stretch;justify-content: center;background-color: white;position: relative;}#sk-container-id-2 div.sk-item::before, #sk-container-id-2 div.sk-parallel-item::before {content: \"\";position: absolute;border-left: 1px solid gray;box-sizing: border-box;top: 0;bottom: 0;left: 50%;z-index: -1;}#sk-container-id-2 div.sk-parallel-item {display: flex;flex-direction: column;z-index: 1;position: relative;background-color: white;}#sk-container-id-2 div.sk-parallel-item:first-child::after {align-self: flex-end;width: 50%;}#sk-container-id-2 div.sk-parallel-item:last-child::after {align-self: flex-start;width: 50%;}#sk-container-id-2 div.sk-parallel-item:only-child::after {width: 0;}#sk-container-id-2 div.sk-dashed-wrapped {border: 1px dashed gray;margin: 0 0.4em 0.5em 0.4em;box-sizing: border-box;padding-bottom: 0.4em;background-color: white;}#sk-container-id-2 div.sk-label label {font-family: monospace;font-weight: bold;display: inline-block;line-height: 1.2em;}#sk-container-id-2 div.sk-label-container {text-align: center;}#sk-container-id-2 div.sk-container {/* jupyter's `normalize.less` sets `[hidden] { display: none; }` but bootstrap.min.css set `[hidden] { display: none !important; }` so we also need the `!important` here to be able to override the default hidden behavior on the sphinx rendered scikit-learn.org. See: https://github.com/scikit-learn/scikit-learn/issues/21755 */display: inline-block !important;position: relative;}#sk-container-id-2 div.sk-text-repr-fallback {display: none;}</style><div id=\"sk-container-id-2\" class=\"sk-top-container\"><div class=\"sk-text-repr-fallback\"><pre>KNeighborsClassifier(n_neighbors=4)</pre><b>In a Jupyter environment, please rerun this cell to show the HTML representation or trust the notebook. <br />On GitHub, the HTML representation is unable to render, please try loading this page with nbviewer.org.</b></div><div class=\"sk-container\" hidden><div class=\"sk-item\"><div class=\"sk-estimator sk-toggleable\"><input class=\"sk-toggleable__control sk-hidden--visually\" id=\"sk-estimator-id-2\" type=\"checkbox\" checked><label for=\"sk-estimator-id-2\" class=\"sk-toggleable__label sk-toggleable__label-arrow\">KNeighborsClassifier</label><div class=\"sk-toggleable__content\"><pre>KNeighborsClassifier(n_neighbors=4)</pre></div></div></div></div></div>"
      ],
      "text/plain": [
       "KNeighborsClassifier(n_neighbors=4)"
      ]
     },
     "execution_count": 23,
     "metadata": {},
     "output_type": "execute_result"
    }
   ],
   "source": [
    "knn_classifier = KNeighborsClassifier(n_neighbors=n_neighbors)\n",
    "knn_classifier.fit(X_train, y_train)"
   ]
  },
  {
   "cell_type": "markdown",
   "id": "a34ac75f",
   "metadata": {},
   "source": [
    "### Prediction"
   ]
  },
  {
   "cell_type": "code",
   "execution_count": 24,
   "id": "be71c654",
   "metadata": {},
   "outputs": [],
   "source": [
    "y_pred = knn_classifier.predict(X_test)"
   ]
  },
  {
   "cell_type": "markdown",
   "id": "c1bcc797",
   "metadata": {},
   "source": [
    "### Evaluation"
   ]
  },
  {
   "cell_type": "code",
   "execution_count": 25,
   "id": "d5facb19",
   "metadata": {},
   "outputs": [
    {
     "name": "stderr",
     "output_type": "stream",
     "text": [
      "/home/tobsel/.local/lib/python3.10/site-packages/sklearn/metrics/_classification.py:1334: UndefinedMetricWarning: Precision is ill-defined and being set to 0.0 in labels with no predicted samples. Use `zero_division` parameter to control this behavior.\n",
      "  _warn_prf(average, modifier, msg_start, len(result))\n",
      "/home/tobsel/.local/lib/python3.10/site-packages/sklearn/metrics/_classification.py:1334: UndefinedMetricWarning: Recall is ill-defined and being set to 0.0 in labels with no true samples. Use `zero_division` parameter to control this behavior.\n",
      "  _warn_prf(average, modifier, msg_start, len(result))\n"
     ]
    },
    {
     "data": {
      "text/plain": [
       "Accuracy     0.293478\n",
       "Precision    0.304401\n",
       "Recall       0.293478\n",
       "F1 Score     0.259549\n",
       "dtype: float64"
      ]
     },
     "execution_count": 25,
     "metadata": {},
     "output_type": "execute_result"
    }
   ],
   "source": [
    "calculate_performance_metrics(y_test, y_pred)"
   ]
  },
  {
   "cell_type": "code",
   "execution_count": 26,
   "id": "87e6e2f4",
   "metadata": {},
   "outputs": [
    {
     "name": "stderr",
     "output_type": "stream",
     "text": [
      "/tmp/ipykernel_7778/2991757377.py:21: RuntimeWarning: invalid value encountered in divide\n",
      "  accuracies = np.divide(cm.diagonal(), cm.sum(axis=1))\n"
     ]
    },
    {
     "data": {
      "text/plain": [
       "Unknown                                 0.250000\n",
       "Infectious and parasitic                0.000000\n",
       "Blood and blood-forming organ           0.772727\n",
       "Endocrine, nutritional and metabolic    0.142857\n",
       "Mental and behavioural disorders        0.000000\n",
       "Nervous system                          0.000000\n",
       "Eye and adnexa                          0.000000\n",
       "Ear and mastoid process                 0.111111\n",
       "Respiratory system                      0.000000\n",
       "Digestive system                        0.000000\n",
       "Skin and subcutaneous tissue            0.076923\n",
       "Musculoskeletal system                  0.300000\n",
       "Genitourinary system                    0.371429\n",
       "Pregnancy, childbirth and puerperium    0.000000\n",
       "Abnormal clinical symptoms              0.111111\n",
       "Injury, poisoning                       0.000000\n",
       "Health service encounters               0.272727\n",
       "Patient follow-up                       0.888889\n",
       "Medical consultation                    0.000000\n",
       "Laboratory examination                  0.000000\n",
       "Unjustified absence                     0.000000\n",
       "Physiotherapy                           0.181818\n",
       "Dental consultation                     0.166667\n",
       "dtype: float64"
      ]
     },
     "execution_count": 26,
     "metadata": {},
     "output_type": "execute_result"
    }
   ],
   "source": [
    "calculate_per_class_accuracy(y_test, y_pred, class_names=absence_reason_mapping.values())"
   ]
  },
  {
   "cell_type": "markdown",
   "id": "644e8f83",
   "metadata": {},
   "source": [
    "## SVM Classifier"
   ]
  },
  {
   "cell_type": "markdown",
   "id": "0ec54dce",
   "metadata": {},
   "source": [
    "### Parameters"
   ]
  },
  {
   "cell_type": "code",
   "execution_count": null,
   "id": "99317766",
   "metadata": {},
   "outputs": [],
   "source": []
  },
  {
   "cell_type": "markdown",
   "id": "55b84b34",
   "metadata": {},
   "source": [
    "### Training"
   ]
  },
  {
   "cell_type": "code",
   "execution_count": 27,
   "id": "c9c944f2",
   "metadata": {},
   "outputs": [
    {
     "data": {
      "text/html": [
       "<style>#sk-container-id-3 {color: black;background-color: white;}#sk-container-id-3 pre{padding: 0;}#sk-container-id-3 div.sk-toggleable {background-color: white;}#sk-container-id-3 label.sk-toggleable__label {cursor: pointer;display: block;width: 100%;margin-bottom: 0;padding: 0.3em;box-sizing: border-box;text-align: center;}#sk-container-id-3 label.sk-toggleable__label-arrow:before {content: \"▸\";float: left;margin-right: 0.25em;color: #696969;}#sk-container-id-3 label.sk-toggleable__label-arrow:hover:before {color: black;}#sk-container-id-3 div.sk-estimator:hover label.sk-toggleable__label-arrow:before {color: black;}#sk-container-id-3 div.sk-toggleable__content {max-height: 0;max-width: 0;overflow: hidden;text-align: left;background-color: #f0f8ff;}#sk-container-id-3 div.sk-toggleable__content pre {margin: 0.2em;color: black;border-radius: 0.25em;background-color: #f0f8ff;}#sk-container-id-3 input.sk-toggleable__control:checked~div.sk-toggleable__content {max-height: 200px;max-width: 100%;overflow: auto;}#sk-container-id-3 input.sk-toggleable__control:checked~label.sk-toggleable__label-arrow:before {content: \"▾\";}#sk-container-id-3 div.sk-estimator input.sk-toggleable__control:checked~label.sk-toggleable__label {background-color: #d4ebff;}#sk-container-id-3 div.sk-label input.sk-toggleable__control:checked~label.sk-toggleable__label {background-color: #d4ebff;}#sk-container-id-3 input.sk-hidden--visually {border: 0;clip: rect(1px 1px 1px 1px);clip: rect(1px, 1px, 1px, 1px);height: 1px;margin: -1px;overflow: hidden;padding: 0;position: absolute;width: 1px;}#sk-container-id-3 div.sk-estimator {font-family: monospace;background-color: #f0f8ff;border: 1px dotted black;border-radius: 0.25em;box-sizing: border-box;margin-bottom: 0.5em;}#sk-container-id-3 div.sk-estimator:hover {background-color: #d4ebff;}#sk-container-id-3 div.sk-parallel-item::after {content: \"\";width: 100%;border-bottom: 1px solid gray;flex-grow: 1;}#sk-container-id-3 div.sk-label:hover label.sk-toggleable__label {background-color: #d4ebff;}#sk-container-id-3 div.sk-serial::before {content: \"\";position: absolute;border-left: 1px solid gray;box-sizing: border-box;top: 0;bottom: 0;left: 50%;z-index: 0;}#sk-container-id-3 div.sk-serial {display: flex;flex-direction: column;align-items: center;background-color: white;padding-right: 0.2em;padding-left: 0.2em;position: relative;}#sk-container-id-3 div.sk-item {position: relative;z-index: 1;}#sk-container-id-3 div.sk-parallel {display: flex;align-items: stretch;justify-content: center;background-color: white;position: relative;}#sk-container-id-3 div.sk-item::before, #sk-container-id-3 div.sk-parallel-item::before {content: \"\";position: absolute;border-left: 1px solid gray;box-sizing: border-box;top: 0;bottom: 0;left: 50%;z-index: -1;}#sk-container-id-3 div.sk-parallel-item {display: flex;flex-direction: column;z-index: 1;position: relative;background-color: white;}#sk-container-id-3 div.sk-parallel-item:first-child::after {align-self: flex-end;width: 50%;}#sk-container-id-3 div.sk-parallel-item:last-child::after {align-self: flex-start;width: 50%;}#sk-container-id-3 div.sk-parallel-item:only-child::after {width: 0;}#sk-container-id-3 div.sk-dashed-wrapped {border: 1px dashed gray;margin: 0 0.4em 0.5em 0.4em;box-sizing: border-box;padding-bottom: 0.4em;background-color: white;}#sk-container-id-3 div.sk-label label {font-family: monospace;font-weight: bold;display: inline-block;line-height: 1.2em;}#sk-container-id-3 div.sk-label-container {text-align: center;}#sk-container-id-3 div.sk-container {/* jupyter's `normalize.less` sets `[hidden] { display: none; }` but bootstrap.min.css set `[hidden] { display: none !important; }` so we also need the `!important` here to be able to override the default hidden behavior on the sphinx rendered scikit-learn.org. See: https://github.com/scikit-learn/scikit-learn/issues/21755 */display: inline-block !important;position: relative;}#sk-container-id-3 div.sk-text-repr-fallback {display: none;}</style><div id=\"sk-container-id-3\" class=\"sk-top-container\"><div class=\"sk-text-repr-fallback\"><pre>SVC()</pre><b>In a Jupyter environment, please rerun this cell to show the HTML representation or trust the notebook. <br />On GitHub, the HTML representation is unable to render, please try loading this page with nbviewer.org.</b></div><div class=\"sk-container\" hidden><div class=\"sk-item\"><div class=\"sk-estimator sk-toggleable\"><input class=\"sk-toggleable__control sk-hidden--visually\" id=\"sk-estimator-id-3\" type=\"checkbox\" checked><label for=\"sk-estimator-id-3\" class=\"sk-toggleable__label sk-toggleable__label-arrow\">SVC</label><div class=\"sk-toggleable__content\"><pre>SVC()</pre></div></div></div></div></div>"
      ],
      "text/plain": [
       "SVC()"
      ]
     },
     "execution_count": 27,
     "metadata": {},
     "output_type": "execute_result"
    }
   ],
   "source": [
    "svm_classifier = SVC()\n",
    "svm_classifier.fit(X_train, y_train)"
   ]
  },
  {
   "cell_type": "markdown",
   "id": "7d8fb848",
   "metadata": {},
   "source": [
    "### Prediction"
   ]
  },
  {
   "cell_type": "code",
   "execution_count": 28,
   "id": "5d27921c",
   "metadata": {},
   "outputs": [],
   "source": [
    "y_pred = svm_classifier.predict(X_test)"
   ]
  },
  {
   "cell_type": "markdown",
   "id": "9bd2fad1",
   "metadata": {},
   "source": [
    "### Evaluation"
   ]
  },
  {
   "cell_type": "code",
   "execution_count": 29,
   "id": "83e059fc",
   "metadata": {},
   "outputs": [
    {
     "name": "stderr",
     "output_type": "stream",
     "text": [
      "/home/tobsel/.local/lib/python3.10/site-packages/sklearn/metrics/_classification.py:1334: UndefinedMetricWarning: Precision is ill-defined and being set to 0.0 in labels with no predicted samples. Use `zero_division` parameter to control this behavior.\n",
      "  _warn_prf(average, modifier, msg_start, len(result))\n"
     ]
    },
    {
     "data": {
      "text/plain": [
       "Accuracy     0.309783\n",
       "Precision    0.286518\n",
       "Recall       0.309783\n",
       "F1 Score     0.241305\n",
       "dtype: float64"
      ]
     },
     "execution_count": 29,
     "metadata": {},
     "output_type": "execute_result"
    }
   ],
   "source": [
    "calculate_performance_metrics(y_test, y_pred)"
   ]
  },
  {
   "cell_type": "code",
   "execution_count": 30,
   "id": "51d73449",
   "metadata": {},
   "outputs": [
    {
     "data": {
      "text/plain": [
       "Unknown                                 0.000000\n",
       "Infectious and parasitic                0.000000\n",
       "Blood and blood-forming organ           0.636364\n",
       "Endocrine, nutritional and metabolic    0.000000\n",
       "Mental and behavioural disorders        0.000000\n",
       "Nervous system                          0.000000\n",
       "Eye and adnexa                          0.000000\n",
       "Ear and mastoid process                 0.000000\n",
       "Respiratory system                      0.000000\n",
       "Digestive system                        0.000000\n",
       "Skin and subcutaneous tissue            0.076923\n",
       "Musculoskeletal system                  0.100000\n",
       "Genitourinary system                    0.742857\n",
       "Pregnancy, childbirth and puerperium    0.000000\n",
       "Abnormal clinical symptoms              0.111111\n",
       "Injury, poisoning                       0.000000\n",
       "Health service encounters               0.272727\n",
       "Patient follow-up                       0.555556\n",
       "Medical consultation                    0.000000\n",
       "Laboratory examination                  0.000000\n",
       "Unjustified absence                     0.000000\n",
       "Physiotherapy                           0.181818\n",
       "Dental consultation                     0.333333\n",
       "dtype: float64"
      ]
     },
     "execution_count": 30,
     "metadata": {},
     "output_type": "execute_result"
    }
   ],
   "source": [
    "calculate_per_class_accuracy(y_test, y_pred, class_names=absence_reason_mapping.values())"
   ]
  }
 ],
 "metadata": {
  "kernelspec": {
   "display_name": "Python 3 (ipykernel)",
   "language": "python",
   "name": "python3"
  },
  "language_info": {
   "codemirror_mode": {
    "name": "ipython",
    "version": 3
   },
   "file_extension": ".py",
   "mimetype": "text/x-python",
   "name": "python",
   "nbconvert_exporter": "python",
   "pygments_lexer": "ipython3",
   "version": "3.10.12"
  }
 },
 "nbformat": 4,
 "nbformat_minor": 5
}
