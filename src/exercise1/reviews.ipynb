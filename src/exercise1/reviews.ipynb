{
 "cells": [
  {
   "cell_type": "code",
   "execution_count": 5,
   "metadata": {},
   "outputs": [
    {
     "name": "stdout",
     "output_type": "stream",
     "text": [
      "Collecting scikit-learn\n",
      "  Obtaining dependency information for scikit-learn from https://files.pythonhosted.org/packages/69/8a/cf17d6443f5f537e099be81535a56ab68a473f9393fbffda38cd19899fc8/scikit_learn-1.3.2-cp310-cp310-win_amd64.whl.metadata\n",
      "  Downloading scikit_learn-1.3.2-cp310-cp310-win_amd64.whl.metadata (11 kB)\n",
      "Requirement already satisfied: numpy<2.0,>=1.17.3 in c:\\users\\tuvsh\\anaconda3\\envs\\pynlp\\lib\\site-packages (from scikit-learn) (1.26.0)\n",
      "Collecting scipy>=1.5.0 (from scikit-learn)\n",
      "  Obtaining dependency information for scipy>=1.5.0 from https://files.pythonhosted.org/packages/3a/98/3041681b3a0fef0f59033861a05d846aa1d284b07b531ce35b1b97cc2e93/scipy-1.11.3-cp310-cp310-win_amd64.whl.metadata\n",
      "  Downloading scipy-1.11.3-cp310-cp310-win_amd64.whl.metadata (60 kB)\n",
      "     ---------------------------------------- 0.0/60.4 kB ? eta -:--:--\n",
      "     ------ --------------------------------- 10.2/60.4 kB ? eta -:--:--\n",
      "     --------------------------------- ------ 51.2/60.4 kB 1.3 MB/s eta 0:00:01\n",
      "     ---------------------------------------- 60.4/60.4 kB 1.1 MB/s eta 0:00:00\n",
      "Collecting joblib>=1.1.1 (from scikit-learn)\n",
      "  Obtaining dependency information for joblib>=1.1.1 from https://files.pythonhosted.org/packages/10/40/d551139c85db202f1f384ba8bcf96aca2f329440a844f924c8a0040b6d02/joblib-1.3.2-py3-none-any.whl.metadata\n",
      "  Downloading joblib-1.3.2-py3-none-any.whl.metadata (5.4 kB)\n",
      "Collecting threadpoolctl>=2.0.0 (from scikit-learn)\n",
      "  Obtaining dependency information for threadpoolctl>=2.0.0 from https://files.pythonhosted.org/packages/81/12/fd4dea011af9d69e1cad05c75f3f7202cdcbeac9b712eea58ca779a72865/threadpoolctl-3.2.0-py3-none-any.whl.metadata\n",
      "  Downloading threadpoolctl-3.2.0-py3-none-any.whl.metadata (10.0 kB)\n",
      "Downloading scikit_learn-1.3.2-cp310-cp310-win_amd64.whl (9.3 MB)\n",
      "   ---------------------------------------- 0.0/9.3 MB ? eta -:--:--\n",
      "   -- ------------------------------------- 0.6/9.3 MB 12.4 MB/s eta 0:00:01\n",
      "   ----- ---------------------------------- 1.3/9.3 MB 13.4 MB/s eta 0:00:01\n",
      "   -------- ------------------------------- 2.0/9.3 MB 14.5 MB/s eta 0:00:01\n",
      "   ----------- ---------------------------- 2.6/9.3 MB 12.8 MB/s eta 0:00:01\n",
      "   --------------- ------------------------ 3.5/9.3 MB 13.8 MB/s eta 0:00:01\n",
      "   -------------------- ------------------- 4.8/9.3 MB 16.3 MB/s eta 0:00:01\n",
      "   -------------------------- ------------- 6.1/9.3 MB 18.6 MB/s eta 0:00:01\n",
      "   ---------------------------------- ----- 7.9/9.3 MB 19.5 MB/s eta 0:00:01\n",
      "   ---------------------------------------  9.2/9.3 MB 20.4 MB/s eta 0:00:01\n",
      "   ---------------------------------------  9.2/9.3 MB 20.4 MB/s eta 0:00:01\n",
      "   ---------------------------------------- 9.3/9.3 MB 18.5 MB/s eta 0:00:00\n",
      "Downloading joblib-1.3.2-py3-none-any.whl (302 kB)\n",
      "   ---------------------------------------- 0.0/302.2 kB ? eta -:--:--\n",
      "   --------------------------------------- 302.2/302.2 kB 19.5 MB/s eta 0:00:00\n",
      "Downloading scipy-1.11.3-cp310-cp310-win_amd64.whl (44.1 MB)\n",
      "   ---------------------------------------- 0.0/44.1 MB ? eta -:--:--\n",
      "   - -------------------------------------- 1.7/44.1 MB 54.1 MB/s eta 0:00:01\n",
      "   -- ------------------------------------- 3.2/44.1 MB 34.2 MB/s eta 0:00:02\n",
      "   ---- ----------------------------------- 4.8/44.1 MB 34.1 MB/s eta 0:00:02\n",
      "   ----- ---------------------------------- 5.9/44.1 MB 34.1 MB/s eta 0:00:02\n",
      "   ------ --------------------------------- 7.6/44.1 MB 34.6 MB/s eta 0:00:02\n",
      "   -------- ------------------------------- 9.0/44.1 MB 31.9 MB/s eta 0:00:02\n",
      "   --------- ------------------------------ 10.8/44.1 MB 31.2 MB/s eta 0:00:02\n",
      "   ----------- ---------------------------- 12.7/44.1 MB 32.8 MB/s eta 0:00:01\n",
      "   ------------ --------------------------- 14.0/44.1 MB 32.8 MB/s eta 0:00:01\n",
      "   ------------- -------------------------- 15.3/44.1 MB 32.8 MB/s eta 0:00:01\n",
      "   --------------- ------------------------ 16.9/44.1 MB 31.1 MB/s eta 0:00:01\n",
      "   ---------------- ----------------------- 17.9/44.1 MB 31.2 MB/s eta 0:00:01\n",
      "   ------------------ --------------------- 19.9/44.1 MB 31.2 MB/s eta 0:00:01\n",
      "   ------------------ --------------------- 20.8/44.1 MB 28.5 MB/s eta 0:00:01\n",
      "   ------------------- -------------------- 21.9/44.1 MB 27.3 MB/s eta 0:00:01\n",
      "   -------------------- ------------------- 23.1/44.1 MB 26.2 MB/s eta 0:00:01\n",
      "   ---------------------- ----------------- 24.6/44.1 MB 27.3 MB/s eta 0:00:01\n",
      "   ------------------------ --------------- 26.5/44.1 MB 27.3 MB/s eta 0:00:01\n",
      "   ------------------------- -------------- 27.8/44.1 MB 27.3 MB/s eta 0:00:01\n",
      "   -------------------------- ------------- 29.5/44.1 MB 27.3 MB/s eta 0:00:01\n",
      "   --------------------------- ------------ 30.9/44.1 MB 29.7 MB/s eta 0:00:01\n",
      "   ----------------------------- ---------- 32.4/44.1 MB 31.2 MB/s eta 0:00:01\n",
      "   ------------------------------ --------- 34.1/44.1 MB 32.7 MB/s eta 0:00:01\n",
      "   -------------------------------- ------- 36.0/44.1 MB 32.7 MB/s eta 0:00:01\n",
      "   --------------------------------- ------ 37.3/44.1 MB 32.8 MB/s eta 0:00:01\n",
      "   ----------------------------------- ---- 39.2/44.1 MB 34.4 MB/s eta 0:00:01\n",
      "   ------------------------------------ --- 40.6/44.1 MB 36.4 MB/s eta 0:00:01\n",
      "   ------------------------------------- -- 41.8/44.1 MB 32.8 MB/s eta 0:00:01\n",
      "   -------------------------------------- - 42.6/44.1 MB 31.2 MB/s eta 0:00:01\n",
      "   ---------------------------------------  43.8/44.1 MB 31.2 MB/s eta 0:00:01\n",
      "   ---------------------------------------  44.1/44.1 MB 26.2 MB/s eta 0:00:01\n",
      "   ---------------------------------------  44.1/44.1 MB 26.2 MB/s eta 0:00:01\n",
      "   ---------------------------------------  44.1/44.1 MB 26.2 MB/s eta 0:00:01\n",
      "   ---------------------------------------  44.1/44.1 MB 26.2 MB/s eta 0:00:01\n",
      "   ---------------------------------------  44.1/44.1 MB 26.2 MB/s eta 0:00:01\n",
      "   ---------------------------------------- 44.1/44.1 MB 15.6 MB/s eta 0:00:00\n",
      "Downloading threadpoolctl-3.2.0-py3-none-any.whl (15 kB)\n",
      "Installing collected packages: threadpoolctl, scipy, joblib, scikit-learn\n",
      "Successfully installed joblib-1.3.2 scikit-learn-1.3.2 scipy-1.11.3 threadpoolctl-3.2.0\n"
     ]
    }
   ],
   "source": [
    "!pip install scikit-learn"
   ]
  },
  {
   "cell_type": "code",
   "execution_count": 6,
   "metadata": {},
   "outputs": [],
   "source": [
    "import pandas as pd\n",
    "import numpy as np\n",
    "import matplotlib.pyplot as plt\n",
    "from sklearn.compose import make_column_transformer\n",
    "from sklearn.preprocessing import StandardScaler, OneHotEncoder\n",
    "from sklearn.model_selection import train_test_split\n",
    "from sklearn.ensemble import RandomForestClassifier\n",
    "from sklearn.neighbors import KNeighborsClassifier\n",
    "from sklearn.svm import SVC\n",
    "from sklearn.metrics import accuracy_score, confusion_matrix, classification_report"
   ]
  },
  {
   "cell_type": "code",
   "execution_count": 8,
   "metadata": {},
   "outputs": [],
   "source": [
    "X_train = pd.read_csv(\"../../data/kaggle-competitions/reviews/amazon_review_ID.shuf.lrn.csv\", index_col=\"ID\")\n",
    "y_train = pd.read_csv(\"../../data/kaggle-competitions/reviews/amazon_review_ID.shuf.sol.ex.csv\", index_col=\"ID\")\n",
    "X_test = pd.read_csv(\"../../data/kaggle-competitions/reviews/amazon_review_ID.shuf.tes.csv\", index_col=\"ID\")"
   ]
  }
 ],
 "metadata": {
  "kernelspec": {
   "display_name": "pynlp",
   "language": "python",
   "name": "python3"
  },
  "language_info": {
   "codemirror_mode": {
    "name": "ipython",
    "version": 3
   },
   "file_extension": ".py",
   "mimetype": "text/x-python",
   "name": "python",
   "nbconvert_exporter": "python",
   "pygments_lexer": "ipython3",
   "version": "3.10.13"
  }
 },
 "nbformat": 4,
 "nbformat_minor": 2
}
