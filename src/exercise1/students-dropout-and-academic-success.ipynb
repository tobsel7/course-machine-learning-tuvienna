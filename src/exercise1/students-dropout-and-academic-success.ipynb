{
 "cells": [
  {
   "cell_type": "markdown",
   "id": "4177ced5",
   "metadata": {},
   "source": [
    "# Imports"
   ]
  },
  {
   "cell_type": "code",
   "execution_count": null,
   "id": "5881355f",
   "metadata": {},
   "outputs": [],
   "source": [
    "import pandas as pd\n",
    "import numpy as np\n",
    "import matplotlib.pyplot as plt\n",
    "from sklearn.compose import make_column_transformer\n",
    "from sklearn.preprocessing import StandardScaler, OneHotEncoder\n",
    "from sklearn.model_selection import train_test_split\n",
    "from sklearn.metrics import accuracy_score, f1_score, recall_score, precision_score, confusion_matrix"
   ]
  },
  {
   "cell_type": "markdown",
   "id": "127955ee",
   "metadata": {},
   "source": [
    "# Data loading"
   ]
  },
  {
   "cell_type": "code",
   "execution_count": null,
   "id": "1e339559",
   "metadata": {},
   "outputs": [],
   "source": [
    "students_dropout_and_academic_success = pd.read_csv(\"../../data/predict-students-dropout-and-academic-success/data.csv\", delimiter=\";\")\n",
    "students_dropout_and_academic_success"
   ]
  },
  {
   "cell_type": "markdown",
   "id": "f05809cc",
   "metadata": {},
   "source": [
    "# Definition of domain knowledge"
   ]
  },
  {
   "cell_type": "markdown",
   "id": "34fd4792",
   "metadata": {},
   "source": [
    "# Analysis and visualizations"
   ]
  },
  {
   "cell_type": "code",
   "execution_count": null,
   "id": "e3548fb8",
   "metadata": {},
   "outputs": [],
   "source": [
    "pd.DataFrame({\n",
    "    \"Column Name\": students_dropout_and_academic_success.columns,\n",
    "    \"Min value\": students_dropout_and_academic_success.min(),\n",
    "    \"Max value\": students_dropout_and_academic_success.max()\n",
    "})"
   ]
  },
  {
   "cell_type": "markdown",
   "id": "b629938d",
   "metadata": {},
   "source": [
    "# Data preprocessing"
   ]
  },
  {
   "cell_type": "markdown",
   "id": "7897682b",
   "metadata": {},
   "source": [
    "## Remove missing values"
   ]
  },
  {
   "cell_type": "markdown",
   "id": "f311eb8c",
   "metadata": {},
   "source": [
    "## Map all booleans to their data type"
   ]
  },
  {
   "cell_type": "markdown",
   "id": "794c5bcc",
   "metadata": {},
   "source": [
    "## Map categorical values to string representations"
   ]
  },
  {
   "cell_type": "markdown",
   "id": "43ca5639",
   "metadata": {},
   "source": [
    "## Show preprocessed data"
   ]
  },
  {
   "cell_type": "code",
   "execution_count": null,
   "id": "5e98242a",
   "metadata": {
    "scrolled": true
   },
   "outputs": [],
   "source": [
    "students_dropout_and_academic_success"
   ]
  },
  {
   "cell_type": "markdown",
   "id": "e54def44",
   "metadata": {},
   "source": [
    "# Experiments"
   ]
  },
  {
   "cell_type": "markdown",
   "id": "724b3e21",
   "metadata": {},
   "source": [
    "## Global parameters"
   ]
  },
  {
   "cell_type": "code",
   "execution_count": null,
   "id": "db9f1cd2",
   "metadata": {},
   "outputs": [],
   "source": [
    "seed = \"your-studenid-or-any-other-seed\"\n",
    "test_size = 0.2\n",
    "shuffle_train_test = True\n",
    "drop_features = [\"some-feature-that-should-not-be-used-for-training\"]\n",
    "scaler = StandardScaler()\n",
    "scale_features = [\"some-feature-that-should-be-scaled\"]\n",
    "category_encoder = OneHotEncoder()\n",
    "category_features = [\"some-categorical-feature\"]"
   ]
  },
  {
   "cell_type": "code",
   "execution_count": null,
   "id": "a414df0c",
   "metadata": {},
   "outputs": [],
   "source": [
    "# ensure that dropped features are not encoded\n",
    "scale_features = list(filter(lambda feature: feature not in drop_features, scale_features))\n",
    "category_features = list(filter(lambda feature: feature not in drop_features, category_features))"
   ]
  },
  {
   "cell_type": "markdown",
   "id": "1155a861",
   "metadata": {},
   "source": [
    "## Metrics function"
   ]
  },
  {
   "cell_type": "code",
   "execution_count": null,
   "id": "54c7af26",
   "metadata": {},
   "outputs": [],
   "source": [
    "def calculate_performance_metrics(y_test, y_pred, class_names=None):        \n",
    "    accuracy = accuracy_score(y_test, y_pred)\n",
    "    precision = precision_score(y_test, y_pred, average=\"weighted\")\n",
    "    recall = recall_score(y_test, y_pred, average=\"weighted\")\n",
    "    f1 = f1_score(y_test, y_pred, average=\"weighted\")\n",
    "    \n",
    "    return pd.Series({\n",
    "        \"Accuracy\": accuracy,\n",
    "        \"Precision\": precision,\n",
    "        \"Recall\": recall,\n",
    "        \"F1 Score\": f1\n",
    "    })\n",
    "    \n",
    "def calculate_per_class_accuracy(y_test, y_pred, class_names=None):\n",
    "    if class_names is None:\n",
    "        class_names = y_test.unique()\n",
    "        \n",
    "    present_classes = list(filter(lambda name: y_test.str.contains(name).any(), class_names))\n",
    "    \n",
    "    cm = confusion_matrix(y_test, y_pred)\n",
    "    accuracies = np.divide(cm.diagonal(), cm.sum(axis=1))\n",
    "    \n",
    "    return pd.Series(accuracies[~np.isnan(accuracies)], index=present_classes)"
   ]
  },
  {
   "cell_type": "markdown",
   "id": "19cb9774",
   "metadata": {},
   "source": [
    "## Data"
   ]
  },
  {
   "cell_type": "markdown",
   "id": "c599ae1f",
   "metadata": {},
   "source": [
    "### Split features and target value"
   ]
  },
  {
   "cell_type": "code",
   "execution_count": null,
   "id": "2b5dfd6f",
   "metadata": {},
   "outputs": [],
   "source": [
    "X = students_dropout_and_academic_success.drop(drop_features, axis=1)\n",
    "y = students_dropout_and_academic_success[\"your-target-feature\"]"
   ]
  },
  {
   "cell_type": "code",
   "execution_count": null,
   "id": "bfcc64be",
   "metadata": {},
   "outputs": [],
   "source": [
    "X_train, X_test, y_train, y_test = train_test_split(X, y, random_state=seed, shuffle=shuffle_train_test)"
   ]
  },
  {
   "cell_type": "markdown",
   "id": "9170b54d",
   "metadata": {},
   "source": [
    "### Additional preprocessing for training and evaluation"
   ]
  },
  {
   "cell_type": "code",
   "execution_count": null,
   "id": "46c783da",
   "metadata": {},
   "outputs": [],
   "source": [
    "column_transformer = make_column_transformer(\n",
    "    (scaler, scale_features),\n",
    "    (category_encoder, category_features),\n",
    "    remainder=\"passthrough\"\n",
    ")\n",
    "\n",
    "X_train = pd.DataFrame(column_transformer.fit_transform(X_train), columns=column_transformer.get_feature_names_out())\n",
    "X_test = pd.DataFrame(column_transformer.transform(X_test), columns=column_transformer.get_feature_names_out())"
   ]
  },
  {
   "cell_type": "markdown",
   "id": "99ccdda4",
   "metadata": {},
   "source": [
    "## Classifier 1"
   ]
  },
  {
   "cell_type": "markdown",
   "id": "268c981f",
   "metadata": {},
   "source": [
    "### Parameters"
   ]
  },
  {
   "cell_type": "code",
   "execution_count": null,
   "id": "7447ae35",
   "metadata": {},
   "outputs": [],
   "source": []
  },
  {
   "cell_type": "markdown",
   "id": "f5405f47",
   "metadata": {},
   "source": [
    "### Training"
   ]
  },
  {
   "cell_type": "code",
   "execution_count": null,
   "id": "e4a86ee9",
   "metadata": {},
   "outputs": [],
   "source": [
    "your_classifier = YourClassifier(model_specific_parameter=your_parameter, random_state=seed)\n",
    "your_classifier.fit(X_train, y_train)"
   ]
  },
  {
   "cell_type": "markdown",
   "id": "14eac80e",
   "metadata": {},
   "source": [
    "### Prediction"
   ]
  },
  {
   "cell_type": "code",
   "execution_count": null,
   "id": "36937e95",
   "metadata": {},
   "outputs": [],
   "source": [
    "y_pred = your_classifier.predict(X_test)"
   ]
  },
  {
   "cell_type": "markdown",
   "id": "2cc6379f",
   "metadata": {},
   "source": [
    "### Evaluation"
   ]
  },
  {
   "cell_type": "code",
   "execution_count": null,
   "id": "016a38f8",
   "metadata": {},
   "outputs": [],
   "source": [
    "calculate_performance_metrics(y_test, y_pred)"
   ]
  },
  {
   "cell_type": "code",
   "execution_count": null,
   "id": "931ad90b",
   "metadata": {},
   "outputs": [],
   "source": [
    "calculate_per_class_accuracy(y_test, y_pred, class_names=a_list_of_target_classes)"
   ]
  },
  {
   "cell_type": "markdown",
   "id": "ddc9fae5",
   "metadata": {},
   "source": [
    "## Classifier 2"
   ]
  },
  {
   "cell_type": "markdown",
   "id": "9ccc98cd",
   "metadata": {},
   "source": [
    "### Parameters"
   ]
  },
  {
   "cell_type": "code",
   "execution_count": null,
   "id": "e6910571",
   "metadata": {},
   "outputs": [],
   "source": []
  },
  {
   "cell_type": "markdown",
   "id": "4fe8edb5",
   "metadata": {},
   "source": [
    "### Training"
   ]
  },
  {
   "cell_type": "code",
   "execution_count": null,
   "id": "1157fe91",
   "metadata": {},
   "outputs": [],
   "source": [
    "your_classifier = YourClassifier(model_specific_parameter=your_parameter, random_state=seed)\n",
    "your_classifier.fit(X_train, y_train)"
   ]
  },
  {
   "cell_type": "markdown",
   "id": "a34ac75f",
   "metadata": {},
   "source": [
    "### Prediction"
   ]
  },
  {
   "cell_type": "code",
   "execution_count": null,
   "id": "be71c654",
   "metadata": {},
   "outputs": [],
   "source": [
    "y_pred = your_classifier.predict(X_test)"
   ]
  },
  {
   "cell_type": "markdown",
   "id": "c1bcc797",
   "metadata": {},
   "source": [
    "### Evaluation"
   ]
  },
  {
   "cell_type": "code",
   "execution_count": null,
   "id": "d5facb19",
   "metadata": {},
   "outputs": [],
   "source": [
    "calculate_performance_metrics(y_test, y_pred)"
   ]
  },
  {
   "cell_type": "code",
   "execution_count": null,
   "id": "29088474",
   "metadata": {},
   "outputs": [],
   "source": [
    "calculate_per_class_accuracy(y_test, y_pred, class_names=a_list_of_target_classes)"
   ]
  },
  {
   "cell_type": "markdown",
   "id": "644e8f83",
   "metadata": {},
   "source": [
    "## Classifier 3"
   ]
  },
  {
   "cell_type": "markdown",
   "id": "0ec54dce",
   "metadata": {},
   "source": [
    "### Parameters"
   ]
  },
  {
   "cell_type": "code",
   "execution_count": null,
   "id": "99317766",
   "metadata": {},
   "outputs": [],
   "source": []
  },
  {
   "cell_type": "markdown",
   "id": "55b84b34",
   "metadata": {},
   "source": [
    "### Training"
   ]
  },
  {
   "cell_type": "code",
   "execution_count": null,
   "id": "c9c944f2",
   "metadata": {},
   "outputs": [],
   "source": [
    "your_classifier = YourClassifier(model_specific_parameter=your_parameter, random_state=seed)\n",
    "your_classifier.fit(X_train, y_train)"
   ]
  },
  {
   "cell_type": "markdown",
   "id": "7d8fb848",
   "metadata": {},
   "source": [
    "### Prediction"
   ]
  },
  {
   "cell_type": "code",
   "execution_count": null,
   "id": "5d27921c",
   "metadata": {},
   "outputs": [],
   "source": [
    "y_pred = your_classifier.predict(X_test)"
   ]
  },
  {
   "cell_type": "markdown",
   "id": "9bd2fad1",
   "metadata": {},
   "source": [
    "### Evaluation"
   ]
  },
  {
   "cell_type": "code",
   "execution_count": null,
   "id": "83e059fc",
   "metadata": {},
   "outputs": [],
   "source": [
    "calculate_performance_metrics(y_test, y_pred)"
   ]
  },
  {
   "cell_type": "code",
   "execution_count": null,
   "id": "51d73449",
   "metadata": {},
   "outputs": [],
   "source": [
    "calculate_per_class_accuracy(y_test, y_pred, class_names=a_list_of_target_classes)"
   ]
  }
 ],
 "metadata": {
  "kernelspec": {
   "display_name": "Python 3 (ipykernel)",
   "language": "python",
   "name": "python3"
  },
  "language_info": {
   "codemirror_mode": {
    "name": "ipython",
    "version": 3
   },
   "file_extension": ".py",
   "mimetype": "text/x-python",
   "name": "python",
   "nbconvert_exporter": "python",
   "pygments_lexer": "ipython3",
   "version": "3.10.12"
  }
 },
 "nbformat": 4,
 "nbformat_minor": 5
}
