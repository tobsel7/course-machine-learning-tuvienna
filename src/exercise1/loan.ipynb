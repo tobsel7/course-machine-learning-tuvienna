{
 "cells": [
  {
   "cell_type": "markdown",
   "id": "4177ced5",
   "metadata": {},
   "source": [
    "# Imports"
   ]
  },
  {
   "cell_type": "code",
   "execution_count": null,
   "id": "5881355f",
   "metadata": {},
   "outputs": [],
   "source": [
    "import pandas as pd\n",
    "import numpy as np\n",
    "import matplotlib.pyplot as plt\n",
    "from sklearn.compose import make_column_transformer\n",
    "from sklearn.preprocessing import StandardScaler, OneHotEncoder\n",
    "from sklearn.model_selection import train_test_split\n",
    "from sklearn.ensemble import RandomForestClassifier\n",
    "from sklearn.neighbors import KNeighborsClassifier\n",
    "from sklearn.svm import SVC\n",
    "from sklearn.metrics import accuracy_score, confusion_matrix, classification_report"
   ]
  },
  {
   "cell_type": "markdown",
   "id": "127955ee",
   "metadata": {},
   "source": [
    "# Data loading"
   ]
  },
  {
   "cell_type": "code",
   "execution_count": null,
   "id": "1e339559",
   "metadata": {},
   "outputs": [],
   "source": [
    "X_train = pd.read_csv(\"../../data/kaggle-competitions/loan/loan-10k.lrn.csv\", index_col=\"ID\")\n",
    "y_train = pd.read_csv(\"../../data/kaggle-competitions/loan/loan-10k.sol.ex.csv\", index_col=\"ID\")\n",
    "X_test = pd.read_csv(\"../../data/kaggle-competitions/loan/loan-10k.tes.csv\", index_col=\"ID\")"
   ]
  },
  {
   "cell_type": "code",
   "execution_count": null,
   "id": "701a33ba",
   "metadata": {},
   "outputs": [],
   "source": [
    "X_train"
   ]
  },
  {
   "cell_type": "code",
   "execution_count": null,
   "id": "8ac9ddbf",
   "metadata": {},
   "outputs": [],
   "source": [
    "y_train"
   ]
  },
  {
   "cell_type": "code",
   "execution_count": null,
   "id": "04d443f5",
   "metadata": {},
   "outputs": [],
   "source": [
    "X_test"
   ]
  },
  {
   "cell_type": "code",
   "execution_count": null,
   "id": "e3548fb8",
   "metadata": {},
   "outputs": [],
   "source": [
    "pd.DataFrame({\n",
    "    \"Column Name\": X_train.columns,\n",
    "    \"Min value\": X_train.min(),\n",
    "    \"Max value\": X_train.max()\n",
    "})"
   ]
  },
  {
   "cell_type": "code",
   "execution_count": null,
   "id": "1ed1c6a3",
   "metadata": {},
   "outputs": [],
   "source": [
    "X_train.isnull().values.any()"
   ]
  },
  {
   "cell_type": "markdown",
   "id": "b629938d",
   "metadata": {},
   "source": [
    "# Data preprocessing"
   ]
  },
  {
   "cell_type": "markdown",
   "id": "7897682b",
   "metadata": {},
   "source": [
    "## Remove missing values"
   ]
  },
  {
   "cell_type": "markdown",
   "id": "f311eb8c",
   "metadata": {},
   "source": [
    "## Map all booleans to their data type"
   ]
  },
  {
   "cell_type": "markdown",
   "id": "794c5bcc",
   "metadata": {},
   "source": [
    "## Map categorical values to string representations"
   ]
  },
  {
   "cell_type": "markdown",
   "id": "f958726a",
   "metadata": {},
   "source": [
    "## Round workload to integer"
   ]
  },
  {
   "cell_type": "markdown",
   "id": "43ca5639",
   "metadata": {},
   "source": [
    "## Show preprocessed data"
   ]
  },
  {
   "cell_type": "markdown",
   "id": "e54def44",
   "metadata": {},
   "source": [
    "# Experiments"
   ]
  },
  {
   "cell_type": "markdown",
   "id": "724b3e21",
   "metadata": {},
   "source": [
    "## Global parameters"
   ]
  },
  {
   "cell_type": "code",
   "execution_count": null,
   "id": "db9f1cd2",
   "metadata": {},
   "outputs": [],
   "source": [
    "seed = 1183743\n",
    "test_size = 0.2\n",
    "shuffle_train_test = True\n",
    "scaler = StandardScaler()\n",
    "scale_features = []\n",
    "category_encoder = OneHotEncoder()\n",
    "category_features = []"
   ]
  },
  {
   "cell_type": "markdown",
   "id": "9170b54d",
   "metadata": {},
   "source": [
    "### Additional preprocessing for training and evaluation"
   ]
  },
  {
   "cell_type": "code",
   "execution_count": null,
   "id": "46c783da",
   "metadata": {},
   "outputs": [],
   "source": [
    "column_transformer = make_column_transformer(\n",
    "    (scaler, scale_features),\n",
    "    (category_encoder, category_features),\n",
    "    remainder=\"passthrough\"\n",
    ")\n",
    "\n",
    "X_train_transformed = column_transformer.fit_transform(X_train)\n",
    "X_train = pd.DataFrame(X_train_transformed, columns=column_transformer.get_feature_names_out())\n",
    "X_test_transformed = column_transformer.transform(X_test)\n",
    "X_test = pd.DataFrame(X_test_transformed, columns=column_transformer.get_feature_names_out())"
   ]
  },
  {
   "cell_type": "markdown",
   "id": "99ccdda4",
   "metadata": {},
   "source": [
    "## Random forest classifier"
   ]
  },
  {
   "cell_type": "markdown",
   "id": "268c981f",
   "metadata": {},
   "source": [
    "### Parameters"
   ]
  },
  {
   "cell_type": "code",
   "execution_count": null,
   "id": "7447ae35",
   "metadata": {},
   "outputs": [],
   "source": [
    "n_trees = 100"
   ]
  },
  {
   "cell_type": "markdown",
   "id": "f5405f47",
   "metadata": {},
   "source": [
    "### Training"
   ]
  },
  {
   "cell_type": "code",
   "execution_count": null,
   "id": "e4a86ee9",
   "metadata": {},
   "outputs": [],
   "source": [
    "rf_classifier = RandomForestClassifier(n_estimators=n_trees, random_state=seed)\n",
    "rf_classifier.fit(X_train, y_train)"
   ]
  },
  {
   "cell_type": "markdown",
   "id": "14eac80e",
   "metadata": {},
   "source": [
    "### Prediction"
   ]
  },
  {
   "cell_type": "code",
   "execution_count": null,
   "id": "36937e95",
   "metadata": {},
   "outputs": [],
   "source": [
    "y_pred = rf_classifier.predict(X_test)"
   ]
  },
  {
   "cell_type": "markdown",
   "id": "2cc6379f",
   "metadata": {},
   "source": [
    "### Print predictions"
   ]
  },
  {
   "cell_type": "code",
   "execution_count": null,
   "id": "016a38f8",
   "metadata": {},
   "outputs": [],
   "source": [
    "y_pred"
   ]
  },
  {
   "cell_type": "markdown",
   "id": "ddc9fae5",
   "metadata": {},
   "source": [
    "## K-neares neighbors"
   ]
  },
  {
   "cell_type": "markdown",
   "id": "9ccc98cd",
   "metadata": {},
   "source": [
    "### Parameters"
   ]
  },
  {
   "cell_type": "code",
   "execution_count": null,
   "id": "e6910571",
   "metadata": {},
   "outputs": [],
   "source": [
    "n_neighbors = 3"
   ]
  },
  {
   "cell_type": "markdown",
   "id": "4fe8edb5",
   "metadata": {},
   "source": [
    "### Training"
   ]
  },
  {
   "cell_type": "code",
   "execution_count": null,
   "id": "1157fe91",
   "metadata": {},
   "outputs": [],
   "source": [
    "knn_classifier = KNeighborsClassifier(n_neighbors=n_neighbors)\n",
    "knn_classifier.fit(X_train, y_train)"
   ]
  },
  {
   "cell_type": "markdown",
   "id": "a34ac75f",
   "metadata": {},
   "source": [
    "### Prediction"
   ]
  },
  {
   "cell_type": "code",
   "execution_count": null,
   "id": "be71c654",
   "metadata": {},
   "outputs": [],
   "source": [
    "y_pred = knn_classifier.predict(X_test)"
   ]
  },
  {
   "cell_type": "markdown",
   "id": "c1bcc797",
   "metadata": {},
   "source": [
    "### Print predictions"
   ]
  },
  {
   "cell_type": "code",
   "execution_count": null,
   "id": "d5facb19",
   "metadata": {},
   "outputs": [],
   "source": [
    "y_pred"
   ]
  },
  {
   "cell_type": "markdown",
   "id": "644e8f83",
   "metadata": {},
   "source": [
    "## SVM Classifier"
   ]
  },
  {
   "cell_type": "markdown",
   "id": "0ec54dce",
   "metadata": {},
   "source": [
    "### Parameters"
   ]
  },
  {
   "cell_type": "code",
   "execution_count": null,
   "id": "99317766",
   "metadata": {},
   "outputs": [],
   "source": []
  },
  {
   "cell_type": "markdown",
   "id": "55b84b34",
   "metadata": {},
   "source": [
    "### Training"
   ]
  },
  {
   "cell_type": "code",
   "execution_count": null,
   "id": "c9c944f2",
   "metadata": {},
   "outputs": [],
   "source": [
    "svm_classifier = SVC()\n",
    "svm_classifier.fit(X_train, y_train)"
   ]
  },
  {
   "cell_type": "markdown",
   "id": "7d8fb848",
   "metadata": {},
   "source": [
    "### Prediction"
   ]
  },
  {
   "cell_type": "code",
   "execution_count": null,
   "id": "5d27921c",
   "metadata": {},
   "outputs": [],
   "source": [
    "y_pred = svm_classifier.predict(X_test)"
   ]
  },
  {
   "cell_type": "markdown",
   "id": "9bd2fad1",
   "metadata": {},
   "source": [
    "### Print predictions"
   ]
  }
 ],
 "metadata": {
  "kernelspec": {
   "display_name": "Python 3 (ipykernel)",
   "language": "python",
   "name": "python3"
  },
  "language_info": {
   "codemirror_mode": {
    "name": "ipython",
    "version": 3
   },
   "file_extension": ".py",
   "mimetype": "text/x-python",
   "name": "python",
   "nbconvert_exporter": "python",
   "pygments_lexer": "ipython3",
   "version": "3.10.12"
  }
 },
 "nbformat": 4,
 "nbformat_minor": 5
}
