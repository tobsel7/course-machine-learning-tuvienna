{
 "cells": [
  {
   "cell_type": "markdown",
   "id": "79d67a56",
   "metadata": {},
   "source": [
    "# Imports"
   ]
  },
  {
   "cell_type": "code",
   "execution_count": 1,
   "id": "fd96440e",
   "metadata": {},
   "outputs": [],
   "source": [
    "import numpy as np\n",
    "import matplotlib.pyplot as plt\n",
    "from matplotlib.colors import ListedColormap"
   ]
  },
  {
   "cell_type": "markdown",
   "id": "72840586",
   "metadata": {},
   "source": [
    "# Example grids"
   ]
  },
  {
   "cell_type": "code",
   "execution_count": 2,
   "id": "9edfffb8",
   "metadata": {},
   "outputs": [],
   "source": [
    "easy_grid = np.loadtxt(\"../../data/robot_grids/easy_grid.csv\", delimiter=\",\", dtype=int)\n",
    "# medium_grid = np.loadtxt(\"../../data/robot_grids/medium_grid.csv\", delimiter=\",\", dtype=str)\n",
    "# hard_grid = np.loadtxt(\"../../data/robot_grids/hard_grid.csv\", delimiter=\",\", dtype=str)"
   ]
  },
  {
   "cell_type": "markdown",
   "id": "d4162368",
   "metadata": {},
   "source": [
    "## Game rule constants"
   ]
  },
  {
   "cell_type": "code",
   "execution_count": 3,
   "id": "1d54dac1",
   "metadata": {},
   "outputs": [],
   "source": [
    "start_field, empty_field, obstacle_field, target_field = 0, 1, 2, 3\n",
    "max_velocity = 2"
   ]
  },
  {
   "cell_type": "markdown",
   "id": "3da835cb",
   "metadata": {},
   "source": [
    "# Plotting functions"
   ]
  },
  {
   "cell_type": "code",
   "execution_count": 4,
   "id": "1344e1d4",
   "metadata": {},
   "outputs": [],
   "source": [
    "def plot_state(grid_state, cmap=ListedColormap([\"blue\", \"grey\", \"black\", \"green\"]), field_lables=[\"Start\", \"Empty\", \"Obstacle\", \"Target\"]):\n",
    "    \n",
    "    plt.imshow(grid_state, cmap=cmap)\n",
    "    \n",
    "    legend_handles = [plt.Rectangle((0, 0), 1, 1, fc=cmap.colors[i]) for i in range(len(field_lables))]\n",
    "    plt.legend(legend_handles, field_lables, loc=\"upper left\", bbox_to_anchor=(1, 1))\n",
    "        \n",
    "    plt.show()"
   ]
  },
  {
   "cell_type": "markdown",
   "id": "0790edac",
   "metadata": {},
   "source": [
    "# Game initialization"
   ]
  },
  {
   "cell_type": "markdown",
   "id": "d632dbef",
   "metadata": {},
   "source": [
    "## Learning parameters"
   ]
  },
  {
   "cell_type": "code",
   "execution_count": 5,
   "id": "2f90aeca",
   "metadata": {},
   "outputs": [],
   "source": [
    "game_grid = easy_grid\n",
    "start = (7,6)\n",
    "n_episodes = 1000\n",
    "gamma = 0.9"
   ]
  },
  {
   "cell_type": "code",
   "execution_count": 6,
   "id": "0fabda53",
   "metadata": {},
   "outputs": [
    {
     "data": {
      "image/png": "[encoded data removed]",
      "text/plain": [
       "<Figure size 640x480 with 1 Axes>"
      ]
     },
     "metadata": {},
     "output_type": "display_data"
    }
   ],
   "source": [
    "plot_state(game_grid)"
   ]
  },
  {
   "cell_type": "markdown",
   "id": "321ca32d",
   "metadata": {},
   "source": [
    "## Agent initialization"
   ]
  },
  {
   "cell_type": "code",
   "execution_count": 7,
   "id": "0a0f9183",
   "metadata": {},
   "outputs": [],
   "source": [
    "target = tuple(np.argwhere(game_grid == target_field)[0])\n",
    "\n",
    "actions = [(i, j) for i in range(-max_velocity, max_velocity + 1) for j in range(-max_velocity, max_velocity + 1) if (i, j) != (0, 0)]\n",
    "\n",
    "states = [(i, j) for i in range(len(game_grid)) for j in range(len(game_grid[0])) if game_grid[i, j] != obstacle_field]\n",
    "policy = {state: actions[np.random.randint(len(actions))] for state in states}\n",
    "\n",
    "state_values = {state: 0 for state in states}\n",
    "state_visits = {state: 0 for state in states}"
   ]
  },
  {
   "cell_type": "markdown",
   "id": "2aa1bd1a",
   "metadata": {},
   "source": [
    "# Episode generation function"
   ]
  },
  {
   "cell_type": "code",
   "execution_count": 8,
   "id": "0844393a",
   "metadata": {},
   "outputs": [],
   "source": [
    "def generate_episode(grid, actions, policy):\n",
    "    episode = []\n",
    "\n",
    "    options = np.argwhere(grid == start_field)\n",
    "    state = tuple(options[np.random.randint(options.shape[0])])\n",
    "    \n",
    "    while grid[state] != target_field:\n",
    "        action = actions[np.random.randint(len(actions))]\n",
    "        next_state = tuple(np.add(state, action))\n",
    "\n",
    "        if 0 <= next_state[0] < len(grid) and 0 <= next_state[1] < len(grid[0]) and grid[next_state] != obstacle_field:\n",
    "            episode.append((state, action))\n",
    "            state = next_state\n",
    "        else:\n",
    "            state = tuple(options[np.random.randint(options.shape[0])])\n",
    "\n",
    "    return episode"
   ]
  },
  {
   "cell_type": "markdown",
   "id": "e484ba53",
   "metadata": {},
   "source": [
    "# Training"
   ]
  },
  {
   "cell_type": "code",
   "execution_count": 9,
   "id": "fd158376",
   "metadata": {},
   "outputs": [],
   "source": [
    "for episode in range(n_episodes):\n",
    "    episode = generate_episode(game_grid, actions, policy)    \n",
    "    total_return = 0\n",
    "    for state, action in reversed(episode):\n",
    "        total_return = gamma * total_return -1\n",
    "        state_values[state] += total_return\n",
    "        state_visits[state] += 1\n",
    "    \n",
    "    for state in state_values.keys():\n",
    "        if state not in [start, target]:\n",
    "            possible_actions = [a for a in actions if tuple(np.add(state, a)) in states and game_grid[tuple(np.add(state, a))] != obstacle_field]\n",
    "            \n",
    "            if possible_actions:\n",
    "                best_action = max(possible_actions, key=lambda a: state_values.get(tuple(np.add(state, a)), 0))\n",
    "                policy[state] = best_action\n",
    "        "
   ]
  },
  {
   "cell_type": "markdown",
   "id": "1ce87dfc",
   "metadata": {},
   "source": [
    "# Visualization of the policy"
   ]
  },
  {
   "cell_type": "code",
   "execution_count": 10,
   "id": "74779ed6",
   "metadata": {},
   "outputs": [],
   "source": [
    "def determine_direction_arrows(x, y):\n",
    "    ups = max(0, -x)\n",
    "    downs = max(0, x)\n",
    "    lefts = max(0, -y)\n",
    "    rights = max(0, y)\n",
    "    \n",
    "    arrows = \"\"\n",
    "    \n",
    "    for _ in range(ups):\n",
    "        arrows = arrows + \"↑\"\n",
    "        \n",
    "    for _ in range(downs):\n",
    "        arrows = arrows + \"↓\"\n",
    "    \n",
    "    for _ in range(lefts):\n",
    "        arrows = arrows + \"←\"\n",
    "        \n",
    "    for _ in range(rights):\n",
    "        arrows = arrows + \"→\"\n",
    "    \n",
    "    return arrows"
   ]
  },
  {
   "cell_type": "code",
   "execution_count": 11,
   "id": "74ee87d2",
   "metadata": {
    "scrolled": true
   },
   "outputs": [
    {
     "name": "stdout",
     "output_type": "stream",
     "text": [
      "#\t#\t#\t#\t#\t#\t#\t#\t#\t\n",
      "#\t↓\t↓→→\t↓→\t↓\t↓←\t↓←←\t←\t#\t\n",
      "#\t↑\t→→\t→\tT\t←\t←←\t↑\t#\t\n",
      "#\t↑↑\t↑→→\t#\t↑\t↑←\t↑←←\t↑↑\t#\t\n",
      "#\t↑↑\t#\t↑↑→\t#\t↑↑←\t↑↑←←\t↑↑\t#\t\n",
      "#\t↑↑\t↑↑←\t↑↑←←\t↑↑←←\t↑↑→→\t↑↑→\t↑↑\t#\t\n",
      "#\t↑↑\t↑↑←\t↑↑←←\t↑↑→→\t↑↑→→\t↑↑→\t↑↑\t#\t\n",
      "#\t↑\t↑←\t↑←←\t↑←←\t↑→→\t↑↑←\t↑\t#\t\n"
     ]
    }
   ],
   "source": [
    "for i in range(len(game_grid)):\n",
    "    for j in range(len(game_grid[0])):\n",
    "        if target[0] == i and target[1] == j:\n",
    "            print(\"T\", end=\"\\t\")\n",
    "        elif game_grid[i,j] == 2:\n",
    "            print(\"#\", end=\"\\t\")\n",
    "        else:\n",
    "            print(determine_direction_arrows(*policy[i,j]), end=\"\\t\")\n",
    "    print()"
   ]
  },
  {
   "cell_type": "code",
   "execution_count": null,
   "id": "0821ee5f",
   "metadata": {},
   "outputs": [],
   "source": []
  }
 ],
 "metadata": {
  "kernelspec": {
   "display_name": "Python 3 (ipykernel)",
   "language": "python",
   "name": "python3"
  },
  "language_info": {
   "codemirror_mode": {
    "name": "ipython",
    "version": 3
   },
   "file_extension": ".py",
   "mimetype": "text/x-python",
   "name": "python",
   "nbconvert_exporter": "python",
   "pygments_lexer": "ipython3",
   "version": "3.10.12"
  }
 },
 "nbformat": 4,
 "nbformat_minor": 5
}
