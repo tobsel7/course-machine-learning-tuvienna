{
 "cells": [
  {
   "cell_type": "markdown",
   "id": "c9761912",
   "metadata": {
    "slideshow": {
     "slide_type": "slide"
    }
   },
   "source": [
    "# Imports"
   ]
  },
  {
   "cell_type": "code",
   "execution_count": 1,
   "id": "6f373dbe",
   "metadata": {
    "slideshow": {
     "slide_type": "-"
    }
   },
   "outputs": [],
   "source": [
    "# Data processing\n",
    "import pandas as pd\n",
    "# Preprocessing modules\n",
    "import absenteeism_at_work_preprocessor\n",
    "import students_dropout_and_academic_success_preprocessor\n",
    "import loan_preprocessor\n",
    "# Sci-kit learn\n",
    "from sklearn.metrics import accuracy_score, f1_score, recall_score, precision_score\n",
    "from sklearn.model_selection import train_test_split, KFold\n",
    "from sklearn.neural_network import MLPClassifier\n",
    "from sklearn.svm import SVC\n",
    "# Other utilities\n",
    "import random\n",
    "import warnings"
   ]
  },
  {
   "cell_type": "markdown",
   "id": "3522b0bf",
   "metadata": {},
   "source": [
    "# Common functionalities"
   ]
  },
  {
   "cell_type": "markdown",
   "id": "8905b8b5",
   "metadata": {},
   "source": [
    "## Helper function to keep input data consistent across folds\n",
    "To prevent data leakage, preprocessing is done while performing cross validation. Because not all categories are present in each fold, one hot encoding can result in a different number of columns. To keep the columns consistent between the train and test data in one fold, the intersection of the columns is used."
   ]
  },
  {
   "cell_type": "code",
   "execution_count": 22,
   "id": "ef8a1920",
   "metadata": {},
   "outputs": [],
   "source": [
    "def take_common_columns(X_train, X_test):\n",
    "    common_columns = list(set(X_train.columns) & set(X_test.columns))\n",
    "    return X_train[common_columns], X_test[common_columns]"
   ]
  },
  {
   "cell_type": "markdown",
   "id": "a8db88d4",
   "metadata": {},
   "source": [
    "## Scoring function for comparison table\n",
    "This function is the central comparison utility function. It takes a dictionary of networks and returns a summary for each network with various metrics."
   ]
  },
  {
   "cell_type": "code",
   "execution_count": 23,
   "id": "fbfc6ea1",
   "metadata": {},
   "outputs": [],
   "source": [
    "def compare_networks(networks, X_test, y_test):\n",
    "    results = []\n",
    "    \n",
    "    for network_name, network in networks.items():\n",
    "        y_pred = network.predict(X_test)\n",
    "        \n",
    "        accuracy = accuracy_score(y_test, y_pred)\n",
    "        precision = precision_score(y_test, y_pred, average=\"weighted\", zero_division=0)\n",
    "        recall = recall_score(y_test, y_pred, average=\"weighted\", zero_division=0)\n",
    "        f1 = f1_score(y_test, y_pred, average=\"weighted\")\n",
    "        \n",
    "        results.append({\n",
    "            \"Network\": network_name,\n",
    "            \"Accuracy\": accuracy,\n",
    "            \"Precision\": precision,\n",
    "            \"Recall\": recall,\n",
    "            \"F1 Score\": f1\n",
    "        })\n",
    "\n",
    "    return pd.DataFrame(results)"
   ]
  },
  {
   "cell_type": "markdown",
   "id": "eddccaa1",
   "metadata": {},
   "source": [
    "## K-fold network validation framework\n",
    "The following function defines the framework for comparing multiple neural network tuners. In a k-fold validation loop, networks are generated with the strategies provided as input paramters. In order to keep this function dataset agnostic, a preprocessor must be provided. The preprocessor takes a subset of the data, cleans it and splits it into X (features) and y (target)."
   ]
  },
  {
   "cell_type": "code",
   "execution_count": 24,
   "id": "70fa91f8",
   "metadata": {},
   "outputs": [],
   "source": [
    "def compare_tuning_algorithms(dataset, preprocessor, network_generators, n_folds, shuffle_train_test):\n",
    "    metrics_table = pd.DataFrame()\n",
    "\n",
    "    folds = KFold(n_splits=n_folds, shuffle=shuffle_train_test, random_state=seed)\n",
    "\n",
    "    for fold, (train_idx, test_idx) in enumerate(folds.split(dataset)):\n",
    "        X_train, y_train = preprocessor(dataset.iloc[train_idx])\n",
    "        X_test, y_test = preprocessor(dataset.iloc[test_idx])\n",
    "        X_train, X_test = take_common_columns(X_train, X_test)\n",
    "        \n",
    "        networks = {\n",
    "            name: generator(X_train, y_train, seed=seed, parameters=parameters) \n",
    "            for name, generator in network_generators.items() \n",
    "        }\n",
    "        \n",
    "        fold_comparison = compare_networks(networks, X_test, y_test)\n",
    "        metrics_table = pd.concat([metrics_table, fold_comparison], axis=0)\n",
    "\n",
    "        print(\"Fold %s\" % fold)\n",
    "        print(fold_comparison)\n",
    "\n",
    "    return metrics_table.groupby(\"Network\").mean()   "
   ]
  },
  {
   "cell_type": "markdown",
   "id": "f5e17193",
   "metadata": {},
   "source": [
    "## Benchmark neural network"
   ]
  },
  {
   "cell_type": "code",
   "execution_count": 25,
   "id": "5cad98b2",
   "metadata": {},
   "outputs": [],
   "source": [
    "def fit_benchmark_neural_network(X_train, y_train, seed, parameters=None):\n",
    "    return MLPClassifier(random_state=seed).fit(X_train, y_train)"
   ]
  },
  {
   "cell_type": "markdown",
   "id": "6496bae9",
   "metadata": {},
   "source": [
    "## Benchmark support vector classifier"
   ]
  },
  {
   "cell_type": "code",
   "execution_count": 26,
   "id": "1ef7e876",
   "metadata": {},
   "outputs": [],
   "source": [
    "def fit_benchmark_support_vector_classifier(X_train, y_train, seed, parameters=None):\n",
    "    return SVC(random_state=seed).fit(X_train, y_train)"
   ]
  },
  {
   "cell_type": "markdown",
   "id": "abfc65ee",
   "metadata": {},
   "source": [
    "# Random Search"
   ]
  },
  {
   "cell_type": "markdown",
   "id": "49c8c508",
   "metadata": {},
   "source": [
    "### Creates the network\n",
    "\n",
    "Creates an MLP network with specified layers, nodes, activation function, learning rate, and early stopping parameters."
   ]
  },
  {
   "cell_type": "code",
   "execution_count": 27,
   "id": "96f60c84",
   "metadata": {},
   "outputs": [],
   "source": [
    "def create_network(layers, nodes, activation, learning_rate=0.01, early_stopping=True, validation_fraction=0.1, n_iter_no_change=10):\n",
    "    \n",
    "    hidden_layer_sizes = tuple(nodes)\n",
    "    model = MLPClassifier(hidden_layer_sizes=hidden_layer_sizes, activation=activation, \n",
    "                          max_iter=100, learning_rate_init=learning_rate, \n",
    "                          early_stopping=early_stopping, validation_fraction=validation_fraction, \n",
    "                          n_iter_no_change=n_iter_no_change)\n",
    "    return model"
   ]
  },
  {
   "cell_type": "markdown",
   "id": "69287b7e",
   "metadata": {},
   "source": [
    "### Train and evaluates the model\n",
    "\n",
    "Trains the MLPClassifier model and evaluates its performance on the train set.\n"
   ]
  },
  {
   "cell_type": "code",
   "execution_count": 28,
   "id": "e69c4610",
   "metadata": {},
   "outputs": [],
   "source": [
    "def train_and_evaluate(model, X_train, y_train):\n",
    "    \"\"\"\n",
    "    Trains the MLPClassifier model and evaluates its performance on the train set.\n",
    "    \"\"\"\n",
    "    model.fit(X_train, y_train)\n",
    "    y_pred = model.predict(X_train)\n",
    "    accuracy = accuracy_score(y_train, y_pred)\n",
    "    return accuracy"
   ]
  },
  {
   "cell_type": "markdown",
   "id": "db486d5f",
   "metadata": {},
   "source": [
    "## Custom random search algorithm\n",
    "\n",
    "random_configuration: Generates a random configuration for the neural network.\n",
    "\n",
    "tune_custom_random_neural_network: Tunes a custom random neural network based on specified parameters."
   ]
  },
  {
   "cell_type": "code",
   "execution_count": 29,
   "id": "d263214e",
   "metadata": {},
   "outputs": [],
   "source": [
    "def random_configuration(max_layers, max_nodes, activation_functions):\n",
    "\n",
    "    # Randomly select the number of layers within the allowed range\n",
    "    layers = random.randint(1, max_layers)\n",
    "    # Randomly select an activation function from the provided list\n",
    "    activation = random.choice(activation_functions)\n",
    "    # Generate a random number of nodes for each layer\n",
    "    nodes = [random.randint(1, max_nodes) for _ in range(layers)]\n",
    "    return layers, nodes, activation\n",
    "\n",
    "def tune_custom_random_neural_network(X_train, y_train, parameters, seed, iterations=20):\n",
    "    \n",
    "    random.seed(seed)\n",
    "    best_performance = None\n",
    "    # Extracting maximum permissible values for layers, nodes, and activation functions\n",
    "    max_layers, max_nodes, activation_functions = parameters['max_layers'], parameters['max_nodes'], parameters[\"activation_functions\"]\n",
    "\n",
    "    for _ in range(iterations):\n",
    "        layers, nodes, activation = random_configuration(max_layers, max_nodes, activation_functions)\n",
    "        model = create_network(layers, nodes, activation)\n",
    "        performance = train_and_evaluate(model, X_train, y_train)\n",
    "        \n",
    "        # Update the best performance and configuration if this model is better\n",
    "        if best_performance is None or performance > best_performance:\n",
    "            best_performance = performance\n",
    "            best_layers = layers\n",
    "            best_nodes = nodes\n",
    "            best_activation = activation\n",
    "\n",
    "    return create_network(best_layers, best_nodes, best_activation).fit(X_train, y_train)"
   ]
  },
  {
   "cell_type": "markdown",
   "id": "be0edd0b",
   "metadata": {},
   "source": [
    "# Local Search"
   ]
  },
  {
   "cell_type": "markdown",
   "id": "9ff9fbe6",
   "metadata": {},
   "source": [
    "### Creates the network\n",
    "\n",
    "Creates an MLP network with specified layers, nodes, activation function, learning rate, and early stopping parameters."
   ]
  },
  {
   "cell_type": "code",
   "execution_count": 30,
   "id": "990eb2c4",
   "metadata": {},
   "outputs": [],
   "source": [
    "def create_networkh(layers, nodes, activation, learning_rate=0.01, early_stopping=True, validation_fraction=0.1, n_iter_no_change=10):\n",
    "    \n",
    "    hidden_layer_sizes = tuple([nodes] * layers)\n",
    "    model = MLPClassifier(hidden_layer_sizes=hidden_layer_sizes, activation=activation, \n",
    "                          max_iter=100, learning_rate_init=learning_rate, \n",
    "                          early_stopping=early_stopping, validation_fraction=validation_fraction, \n",
    "                          n_iter_no_change=n_iter_no_change)\n",
    "    return model"
   ]
  },
  {
   "cell_type": "markdown",
   "id": "ceab1ba3",
   "metadata": {},
   "source": [
    "### Train and evaluates the model\n",
    "\n",
    "Trains the MLPClassifier model and evaluates its performance on the train set."
   ]
  },
  {
   "cell_type": "code",
   "execution_count": 31,
   "id": "b7e8b2df",
   "metadata": {},
   "outputs": [],
   "source": [
    "def train_and_evaluate(model, X_train, y_train):\n",
    "\n",
    "    model.fit(X_train, y_train)\n",
    "    y_pred = model.predict(X_train)\n",
    "    accuracy = accuracy_score(y_train, y_pred)\n",
    "    return accuracy"
   ]
  },
  {
   "cell_type": "markdown",
   "id": "17a74275",
   "metadata": {},
   "source": [
    "## Custom local search algorithm\n",
    "\n",
    "tune_custom_local_search_network: Performs hill climbing to find a better neural network configuration.\n"
   ]
  },
  {
   "cell_type": "code",
   "execution_count": 32,
   "id": "51e2f2bc",
   "metadata": {},
   "outputs": [],
   "source": [
    "def tune_custom_local_search_network(X_train, y_train, parameters, seed):\n",
    "\n",
    "    max_layers, max_nodes, activation_functions = parameters[\"max_layers\"], parameters[\"max_nodes\"], parameters[\"activation_functions\"]\n",
    "    #Initializing the current nodes with starting values\n",
    "    current_layers, current_nodes, current_activation = 1, 1, \"relu\"\n",
    "\n",
    "    best_performance = None\n",
    " \n",
    "    while True:\n",
    "        neighbors = []\n",
    "    \n",
    "        # Generating neighbors by varying one parameter at a time\n",
    "        # Increase layer count if below max\n",
    "        if current_layers < max_layers:\n",
    "            neighbors.append((current_layers + 1, current_nodes, current_activation))\n",
    "        \n",
    "        # Increase node count if below max\n",
    "        if current_nodes < max_nodes:\n",
    "            neighbors.append((current_layers, current_nodes + 1, current_activation))\n",
    "        \n",
    "        # Change activation function to each alternative\n",
    "        for activation in activation_functions:\n",
    "            if activation != current_activation:\n",
    "                neighbors.append((current_layers, current_nodes, activation))\n",
    "\n",
    "        # Evaluating each neighboring configuration\n",
    "        # if no configuration is better then best_neighbor is set/stays None\n",
    "        best_neighbor = None\n",
    "        for neighbor in neighbors:\n",
    "            layers, nodes, activation = neighbor\n",
    "            #creating network\n",
    "            model = create_networkh(layers, nodes, activation)\n",
    "            #evaluating its performance\n",
    "            performance = train_and_evaluate(model, X_train, y_train)\n",
    "\n",
    "            if best_performance is None or performance > best_performance:\n",
    "                best_performance = performance\n",
    "                best_neighbor = neighbor\n",
    "\n",
    "        # Check if no improvement\n",
    "        if best_neighbor is None:\n",
    "            return create_networkh(current_layers, current_nodes, current_activation).fit(X_train, y_train)\n",
    "\n",
    "        current_layers, current_nodes, current_activation = best_neighbor"
   ]
  },
  {
   "cell_type": "markdown",
   "id": "b27e018b",
   "metadata": {},
   "source": [
    "# Experiment parameters"
   ]
  },
  {
   "cell_type": "code",
   "execution_count": 33,
   "id": "9bf32fac",
   "metadata": {},
   "outputs": [],
   "source": [
    "disable_warnings = True\n",
    "n_folds = 5\n",
    "seed = 0\n",
    "shuffle_train_test = True\n",
    "network_generators = {\n",
    "    \"Benchmark neural network\": fit_benchmark_neural_network,\n",
    "    \"Benchmark support vector classifier\": fit_benchmark_support_vector_classifier,\n",
    "    \"Random search tuned neural network\": tune_custom_random_neural_network,\n",
    "    \"Local search tuned neural network\": tune_custom_local_search_network\n",
    "}\n",
    "parameters = {\n",
    "    \"max_layers\": 5,\n",
    "    \"max_nodes\": 50,\n",
    "    \"activation_functions\": [\"relu\", \"tanh\", \"logistic\"]\n",
    "}"
   ]
  },
  {
   "cell_type": "code",
   "execution_count": 34,
   "id": "fa00d91f",
   "metadata": {},
   "outputs": [],
   "source": [
    "if disable_warnings:\n",
    "    warnings.filterwarnings(\"ignore\")"
   ]
  },
  {
   "cell_type": "markdown",
   "id": "f574401e",
   "metadata": {},
   "source": [
    "# Absenteeism at work"
   ]
  },
  {
   "cell_type": "markdown",
   "id": "5d706feb",
   "metadata": {},
   "source": [
    "## Data loading"
   ]
  },
  {
   "cell_type": "code",
   "execution_count": 35,
   "id": "3cae5520",
   "metadata": {},
   "outputs": [],
   "source": [
    "absenteeism_at_work = pd.read_csv(\"../../data/absenteeism-at-work/data.csv\", delimiter=\";\", index_col=\"ID\")"
   ]
  },
  {
   "cell_type": "markdown",
   "id": "778a84d4",
   "metadata": {},
   "source": [
    "## Network generator comparison"
   ]
  },
  {
   "cell_type": "code",
   "execution_count": 36,
   "id": "5de7592a",
   "metadata": {},
   "outputs": [
    {
     "name": "stdout",
     "output_type": "stream",
     "text": [
      "Fold 0\n",
      "                               Network  Accuracy  Precision    Recall  \\\n",
      "0             Benchmark neural network  0.591837   0.594404  0.591837   \n",
      "1  Benchmark support vector classifier  0.625850   0.440252  0.625850   \n",
      "2   Random search tuned neural network  0.571429   0.584053  0.571429   \n",
      "3    Local search tuned neural network  0.163265   0.026656  0.163265   \n",
      "\n",
      "   F1 Score  \n",
      "0  0.580772  \n",
      "1  0.510948  \n",
      "2  0.560814  \n",
      "3  0.045829  \n",
      "Fold 1\n",
      "                               Network  Accuracy  Precision    Recall  \\\n",
      "0             Benchmark neural network  0.623288   0.597194  0.623288   \n",
      "1  Benchmark support vector classifier  0.554795   0.357401  0.554795   \n",
      "2   Random search tuned neural network  0.719178   0.671305  0.719178   \n",
      "3    Local search tuned neural network  0.554795   0.437665  0.554795   \n",
      "\n",
      "   F1 Score  \n",
      "0  0.593481  \n",
      "1  0.422548  \n",
      "2  0.687127  \n",
      "3  0.470254  \n",
      "Fold 2\n",
      "                               Network  Accuracy  Precision    Recall  \\\n",
      "0             Benchmark neural network  0.601351   0.605844  0.601351   \n",
      "1  Benchmark support vector classifier  0.560811   0.347973  0.560811   \n",
      "2   Random search tuned neural network  0.722973   0.702722  0.722973   \n",
      "3    Local search tuned neural network  0.182432   0.055913  0.182432   \n",
      "\n",
      "   F1 Score  \n",
      "0  0.593805  \n",
      "1  0.424345  \n",
      "2  0.697022  \n",
      "3  0.085341  \n",
      "Fold 3\n",
      "                               Network  Accuracy  Precision    Recall  \\\n",
      "0             Benchmark neural network  0.520270   0.473860  0.520270   \n",
      "1  Benchmark support vector classifier  0.472973   0.240199  0.472973   \n",
      "2   Random search tuned neural network  0.641892   0.602186  0.641892   \n",
      "3    Local search tuned neural network  0.331081   0.160454  0.331081   \n",
      "\n",
      "   F1 Score  \n",
      "0  0.476517  \n",
      "1  0.317043  \n",
      "2  0.605389  \n",
      "3  0.211565  \n",
      "Fold 4\n",
      "                               Network  Accuracy  Precision    Recall  \\\n",
      "0             Benchmark neural network  0.567568   0.583100  0.567568   \n",
      "1  Benchmark support vector classifier  0.513514   0.364452  0.513514   \n",
      "2   Random search tuned neural network  0.695946   0.700556  0.695946   \n",
      "3    Local search tuned neural network  0.256757   0.123364  0.256757   \n",
      "\n",
      "   F1 Score  \n",
      "0  0.555096  \n",
      "1  0.394447  \n",
      "2  0.681428  \n",
      "3  0.135888  \n"
     ]
    },
    {
     "data": {
      "text/html": [
       "<div>\n",
       "<style scoped>\n",
       "    .dataframe tbody tr th:only-of-type {\n",
       "        vertical-align: middle;\n",
       "    }\n",
       "\n",
       "    .dataframe tbody tr th {\n",
       "        vertical-align: top;\n",
       "    }\n",
       "\n",
       "    .dataframe thead th {\n",
       "        text-align: right;\n",
       "    }\n",
       "</style>\n",
       "<table border=\"1\" class=\"dataframe\">\n",
       "  <thead>\n",
       "    <tr style=\"text-align: right;\">\n",
       "      <th></th>\n",
       "      <th>Accuracy</th>\n",
       "      <th>Precision</th>\n",
       "      <th>Recall</th>\n",
       "      <th>F1 Score</th>\n",
       "    </tr>\n",
       "    <tr>\n",
       "      <th>Network</th>\n",
       "      <th></th>\n",
       "      <th></th>\n",
       "      <th></th>\n",
       "      <th></th>\n",
       "    </tr>\n",
       "  </thead>\n",
       "  <tbody>\n",
       "    <tr>\n",
       "      <th>Benchmark neural network</th>\n",
       "      <td>0.580863</td>\n",
       "      <td>0.570880</td>\n",
       "      <td>0.580863</td>\n",
       "      <td>0.559935</td>\n",
       "    </tr>\n",
       "    <tr>\n",
       "      <th>Benchmark support vector classifier</th>\n",
       "      <td>0.545588</td>\n",
       "      <td>0.350055</td>\n",
       "      <td>0.545588</td>\n",
       "      <td>0.413866</td>\n",
       "    </tr>\n",
       "    <tr>\n",
       "      <th>Local search tuned neural network</th>\n",
       "      <td>0.297666</td>\n",
       "      <td>0.160810</td>\n",
       "      <td>0.297666</td>\n",
       "      <td>0.189775</td>\n",
       "    </tr>\n",
       "    <tr>\n",
       "      <th>Random search tuned neural network</th>\n",
       "      <td>0.670283</td>\n",
       "      <td>0.652164</td>\n",
       "      <td>0.670283</td>\n",
       "      <td>0.646356</td>\n",
       "    </tr>\n",
       "  </tbody>\n",
       "</table>\n",
       "</div>"
      ],
      "text/plain": [
       "                                     Accuracy  Precision    Recall  F1 Score\n",
       "Network                                                                     \n",
       "Benchmark neural network             0.580863   0.570880  0.580863  0.559935\n",
       "Benchmark support vector classifier  0.545588   0.350055  0.545588  0.413866\n",
       "Local search tuned neural network    0.297666   0.160810  0.297666  0.189775\n",
       "Random search tuned neural network   0.670283   0.652164  0.670283  0.646356"
      ]
     },
     "execution_count": 36,
     "metadata": {},
     "output_type": "execute_result"
    }
   ],
   "source": [
    "compare_tuning_algorithms(\n",
    "    dataset=absenteeism_at_work, \n",
    "    preprocessor=absenteeism_at_work_preprocessor.preprocess, \n",
    "    network_generators=network_generators, \n",
    "    n_folds=n_folds, \n",
    "    shuffle_train_test=shuffle_train_test\n",
    ")"
   ]
  },
  {
   "cell_type": "markdown",
   "id": "2a7343e9",
   "metadata": {},
   "source": [
    "# Students' dropout and academic success"
   ]
  },
  {
   "cell_type": "markdown",
   "id": "6d61a2e5",
   "metadata": {},
   "source": [
    "## Data loading"
   ]
  },
  {
   "cell_type": "code",
   "execution_count": 37,
   "id": "ec8a8d59",
   "metadata": {},
   "outputs": [],
   "source": [
    "students_dropout_and_academic_success = pd.read_csv(\"../../data/predict-students-dropout-and-academic-success/data.csv\", delimiter=\";\")"
   ]
  },
  {
   "cell_type": "markdown",
   "id": "50235d29",
   "metadata": {},
   "source": [
    "## Network generator comparison"
   ]
  },
  {
   "cell_type": "code",
   "execution_count": 38,
   "id": "d9a45293",
   "metadata": {},
   "outputs": [
    {
     "name": "stdout",
     "output_type": "stream",
     "text": [
      "Fold 0\n",
      "                               Network  Accuracy  Precision    Recall  \\\n",
      "0             Benchmark neural network  0.605650   0.622648  0.605650   \n",
      "1  Benchmark support vector classifier  0.508475   0.258546  0.508475   \n",
      "2   Random search tuned neural network  0.749153   0.731968  0.749153   \n",
      "3    Local search tuned neural network  0.508475   0.258546  0.508475   \n",
      "\n",
      "   F1 Score  \n",
      "0  0.527361  \n",
      "1  0.342792  \n",
      "2  0.716770  \n",
      "3  0.342792  \n",
      "Fold 1\n",
      "                               Network  Accuracy  Precision    Recall  \\\n",
      "0             Benchmark neural network  0.361582   0.546253  0.361582   \n",
      "1  Benchmark support vector classifier  0.480226   0.230617  0.480226   \n",
      "2   Random search tuned neural network  0.707345   0.679048  0.707345   \n",
      "3    Local search tuned neural network  0.480226   0.230617  0.480226   \n",
      "\n",
      "   F1 Score  \n",
      "0  0.226252  \n",
      "1  0.311597  \n",
      "2  0.646448  \n",
      "3  0.311597  \n",
      "Fold 2\n",
      "                               Network  Accuracy  Precision    Recall  \\\n",
      "0             Benchmark neural network  0.545763   0.611042  0.545763   \n",
      "1  Benchmark support vector classifier  0.500565   0.250565  0.500565   \n",
      "2   Random search tuned neural network  0.685876   0.592116  0.685876   \n",
      "3    Local search tuned neural network  0.500565   0.250565  0.500565   \n",
      "\n",
      "   F1 Score  \n",
      "0  0.433417  \n",
      "1  0.333961  \n",
      "2  0.624075  \n",
      "3  0.333961  \n",
      "Fold 3\n",
      "                               Network  Accuracy  Precision    Recall  \\\n",
      "0             Benchmark neural network  0.531073   0.608041  0.531073   \n",
      "1  Benchmark support vector classifier  0.512994   0.263163  0.512994   \n",
      "2   Random search tuned neural network  0.692655   0.658217  0.692655   \n",
      "3    Local search tuned neural network  0.512994   0.263163  0.512994   \n",
      "\n",
      "   F1 Score  \n",
      "0  0.513370  \n",
      "1  0.347871  \n",
      "2  0.644590  \n",
      "3  0.347871  \n",
      "Fold 4\n",
      "                               Network  Accuracy  Precision    Recall  \\\n",
      "0             Benchmark neural network  0.357466   0.553166  0.357466   \n",
      "1  Benchmark support vector classifier  0.479638   0.344098  0.479638   \n",
      "2   Random search tuned neural network  0.483032   0.347433  0.483032   \n",
      "3    Local search tuned neural network  0.479638   0.344098  0.479638   \n",
      "\n",
      "   F1 Score  \n",
      "0  0.295659  \n",
      "1  0.350178  \n",
      "2  0.347257  \n",
      "3  0.350178  \n"
     ]
    },
    {
     "data": {
      "text/html": [
       "<div>\n",
       "<style scoped>\n",
       "    .dataframe tbody tr th:only-of-type {\n",
       "        vertical-align: middle;\n",
       "    }\n",
       "\n",
       "    .dataframe tbody tr th {\n",
       "        vertical-align: top;\n",
       "    }\n",
       "\n",
       "    .dataframe thead th {\n",
       "        text-align: right;\n",
       "    }\n",
       "</style>\n",
       "<table border=\"1\" class=\"dataframe\">\n",
       "  <thead>\n",
       "    <tr style=\"text-align: right;\">\n",
       "      <th></th>\n",
       "      <th>Accuracy</th>\n",
       "      <th>Precision</th>\n",
       "      <th>Recall</th>\n",
       "      <th>F1 Score</th>\n",
       "    </tr>\n",
       "    <tr>\n",
       "      <th>Network</th>\n",
       "      <th></th>\n",
       "      <th></th>\n",
       "      <th></th>\n",
       "      <th></th>\n",
       "    </tr>\n",
       "  </thead>\n",
       "  <tbody>\n",
       "    <tr>\n",
       "      <th>Benchmark neural network</th>\n",
       "      <td>0.480307</td>\n",
       "      <td>0.588230</td>\n",
       "      <td>0.480307</td>\n",
       "      <td>0.399212</td>\n",
       "    </tr>\n",
       "    <tr>\n",
       "      <th>Benchmark support vector classifier</th>\n",
       "      <td>0.496380</td>\n",
       "      <td>0.269398</td>\n",
       "      <td>0.496380</td>\n",
       "      <td>0.337280</td>\n",
       "    </tr>\n",
       "    <tr>\n",
       "      <th>Local search tuned neural network</th>\n",
       "      <td>0.496380</td>\n",
       "      <td>0.269398</td>\n",
       "      <td>0.496380</td>\n",
       "      <td>0.337280</td>\n",
       "    </tr>\n",
       "    <tr>\n",
       "      <th>Random search tuned neural network</th>\n",
       "      <td>0.663612</td>\n",
       "      <td>0.601756</td>\n",
       "      <td>0.663612</td>\n",
       "      <td>0.595828</td>\n",
       "    </tr>\n",
       "  </tbody>\n",
       "</table>\n",
       "</div>"
      ],
      "text/plain": [
       "                                     Accuracy  Precision    Recall  F1 Score\n",
       "Network                                                                     \n",
       "Benchmark neural network             0.480307   0.588230  0.480307  0.399212\n",
       "Benchmark support vector classifier  0.496380   0.269398  0.496380  0.337280\n",
       "Local search tuned neural network    0.496380   0.269398  0.496380  0.337280\n",
       "Random search tuned neural network   0.663612   0.601756  0.663612  0.595828"
      ]
     },
     "execution_count": 38,
     "metadata": {},
     "output_type": "execute_result"
    }
   ],
   "source": [
    "compare_tuning_algorithms(\n",
    "    dataset=students_dropout_and_academic_success, \n",
    "    preprocessor=students_dropout_and_academic_success_preprocessor.preprocess, \n",
    "    network_generators=network_generators, \n",
    "    n_folds=n_folds, \n",
    "    shuffle_train_test=shuffle_train_test\n",
    ")"
   ]
  },
  {
   "cell_type": "markdown",
   "id": "ee180652",
   "metadata": {},
   "source": [
    "# Loan"
   ]
  },
  {
   "cell_type": "markdown",
   "id": "c1fa8ccc",
   "metadata": {},
   "source": [
    "## Data loading"
   ]
  },
  {
   "cell_type": "code",
   "execution_count": 39,
   "id": "ef3bdf66",
   "metadata": {},
   "outputs": [],
   "source": [
    "loan = pd.read_csv(\"../../data/kaggle-competitions/loan/loan-10k.lrn.csv\", index_col=\"ID\")"
   ]
  },
  {
   "cell_type": "markdown",
   "id": "033437c0",
   "metadata": {},
   "source": [
    "## Network generator comparison"
   ]
  },
  {
   "cell_type": "code",
   "execution_count": 40,
   "id": "2d9162f7",
   "metadata": {},
   "outputs": [
    {
     "name": "stdout",
     "output_type": "stream",
     "text": [
      "Fold 0\n",
      "                               Network  Accuracy  Precision  Recall  F1 Score\n",
      "0             Benchmark neural network    0.2205   0.349758  0.2205  0.183426\n",
      "1  Benchmark support vector classifier    0.3510   0.282374  0.3510  0.287180\n",
      "2   Random search tuned neural network    0.3310   0.274137  0.3310  0.215967\n",
      "3    Local search tuned neural network    0.3180   0.101124  0.3180  0.153451\n",
      "Fold 1\n",
      "                               Network  Accuracy  Precision  Recall  F1 Score\n",
      "0             Benchmark neural network    0.3085   0.318028  0.3085  0.178850\n",
      "1  Benchmark support vector classifier    0.3240   0.282401  0.3240  0.257294\n",
      "2   Random search tuned neural network    0.3075   0.275321  0.3075  0.260002\n",
      "3    Local search tuned neural network    0.2845   0.080940  0.2845  0.126026\n",
      "Fold 2\n",
      "                               Network  Accuracy  Precision  Recall  F1 Score\n",
      "0             Benchmark neural network    0.2885   0.347955  0.2885  0.199530\n",
      "1  Benchmark support vector classifier    0.3190   0.265629  0.3190  0.255866\n",
      "2   Random search tuned neural network    0.3300   0.292200  0.3300  0.297445\n",
      "3    Local search tuned neural network    0.3125   0.097656  0.3125  0.148810\n",
      "Fold 3\n",
      "                               Network  Accuracy  Precision  Recall  F1 Score\n",
      "0             Benchmark neural network    0.2235   0.353895  0.2235  0.129949\n",
      "1  Benchmark support vector classifier    0.3295   0.277357  0.3295  0.260857\n",
      "2   Random search tuned neural network    0.3125   0.306230  0.3125  0.214191\n",
      "3    Local search tuned neural network    0.2905   0.084390  0.2905  0.130787\n",
      "Fold 4\n",
      "                               Network  Accuracy  Precision  Recall  F1 Score\n",
      "0             Benchmark neural network    0.2835   0.338698  0.2835  0.212040\n",
      "1  Benchmark support vector classifier    0.3200   0.278384  0.3200  0.253151\n",
      "2   Random search tuned neural network    0.2960   0.243472  0.2960  0.198720\n",
      "3    Local search tuned neural network    0.2890   0.083521  0.2890  0.129590\n"
     ]
    },
    {
     "data": {
      "text/html": [
       "<div>\n",
       "<style scoped>\n",
       "    .dataframe tbody tr th:only-of-type {\n",
       "        vertical-align: middle;\n",
       "    }\n",
       "\n",
       "    .dataframe tbody tr th {\n",
       "        vertical-align: top;\n",
       "    }\n",
       "\n",
       "    .dataframe thead th {\n",
       "        text-align: right;\n",
       "    }\n",
       "</style>\n",
       "<table border=\"1\" class=\"dataframe\">\n",
       "  <thead>\n",
       "    <tr style=\"text-align: right;\">\n",
       "      <th></th>\n",
       "      <th>Accuracy</th>\n",
       "      <th>Precision</th>\n",
       "      <th>Recall</th>\n",
       "      <th>F1 Score</th>\n",
       "    </tr>\n",
       "    <tr>\n",
       "      <th>Network</th>\n",
       "      <th></th>\n",
       "      <th></th>\n",
       "      <th></th>\n",
       "      <th></th>\n",
       "    </tr>\n",
       "  </thead>\n",
       "  <tbody>\n",
       "    <tr>\n",
       "      <th>Benchmark neural network</th>\n",
       "      <td>0.2649</td>\n",
       "      <td>0.341667</td>\n",
       "      <td>0.2649</td>\n",
       "      <td>0.180759</td>\n",
       "    </tr>\n",
       "    <tr>\n",
       "      <th>Benchmark support vector classifier</th>\n",
       "      <td>0.3287</td>\n",
       "      <td>0.277229</td>\n",
       "      <td>0.3287</td>\n",
       "      <td>0.262870</td>\n",
       "    </tr>\n",
       "    <tr>\n",
       "      <th>Local search tuned neural network</th>\n",
       "      <td>0.2989</td>\n",
       "      <td>0.089526</td>\n",
       "      <td>0.2989</td>\n",
       "      <td>0.137733</td>\n",
       "    </tr>\n",
       "    <tr>\n",
       "      <th>Random search tuned neural network</th>\n",
       "      <td>0.3154</td>\n",
       "      <td>0.278272</td>\n",
       "      <td>0.3154</td>\n",
       "      <td>0.237265</td>\n",
       "    </tr>\n",
       "  </tbody>\n",
       "</table>\n",
       "</div>"
      ],
      "text/plain": [
       "                                     Accuracy  Precision  Recall  F1 Score\n",
       "Network                                                                   \n",
       "Benchmark neural network               0.2649   0.341667  0.2649  0.180759\n",
       "Benchmark support vector classifier    0.3287   0.277229  0.3287  0.262870\n",
       "Local search tuned neural network      0.2989   0.089526  0.2989  0.137733\n",
       "Random search tuned neural network     0.3154   0.278272  0.3154  0.237265"
      ]
     },
     "execution_count": 40,
     "metadata": {},
     "output_type": "execute_result"
    }
   ],
   "source": [
    "compare_tuning_algorithms(\n",
    "    dataset=loan, \n",
    "    preprocessor=loan_preprocessor.preprocess, \n",
    "    network_generators=network_generators, \n",
    "    n_folds=n_folds, \n",
    "    shuffle_train_test=shuffle_train_test\n",
    ")"
   ]
  }
 ],
 "metadata": {
  "celltoolbar": "Slideshow",
  "kernelspec": {
   "display_name": "Python 3 (ipykernel)",
   "language": "python",
   "name": "python3"
  },
  "language_info": {
   "codemirror_mode": {
    "name": "ipython",
    "version": 3
   },
   "file_extension": ".py",
   "mimetype": "text/x-python",
   "name": "python",
   "nbconvert_exporter": "python",
   "pygments_lexer": "ipython3",
   "version": "3.10.12"
  }
 },
 "nbformat": 4,
 "nbformat_minor": 5
}
