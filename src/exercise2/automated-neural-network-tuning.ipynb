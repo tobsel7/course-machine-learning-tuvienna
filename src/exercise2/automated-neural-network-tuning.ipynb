{
 "cells": [
  {
   "cell_type": "markdown",
   "id": "c9761912",
   "metadata": {},
   "source": [
    "# Imports"
   ]
  },
  {
   "cell_type": "code",
   "execution_count": 1,
   "id": "6f373dbe",
   "metadata": {},
   "outputs": [],
   "source": [
    "# Data processing\n",
    "import pandas as pd\n",
    "# Preprocessing modules\n",
    "import absenteeism_at_work_preprocessor\n",
    "import students_dropout_and_academic_success_preprocessor\n",
    "import loan_preprocessor\n",
    "# Sci-kit learn\n",
    "from sklearn.metrics import accuracy_score, f1_score, recall_score, precision_score\n",
    "from sklearn.model_selection import train_test_split\n",
    "from sklearn.neural_network import MLPClassifier\n",
    "from sklearn.preprocessing import LabelEncoder\n",
    "from sklearn.svm import SVC"
   ]
  },
  {
   "cell_type": "markdown",
   "id": "c6f1cc6a",
   "metadata": {},
   "source": [
    "# Global parameters"
   ]
  },
  {
   "cell_type": "code",
   "execution_count": 2,
   "id": "7360e449",
   "metadata": {},
   "outputs": [],
   "source": [
    "folds = 3\n",
    "seed = 0\n",
    "scoring = \"neg_mean_absolute_error\"\n",
    "shuffle_train_test = True\n",
    "parameters = {\n",
    "    #\"hidden_layer_sizes\": [(10,30,10),(20,)],\n",
    "    #\"activation\": [\"tanh\", \"relu\"],\n",
    "    #\"solver\": [\"sgd\", \"adam\"],\n",
    "    #\"alpha\": [0.0001, 0.05],\n",
    "    #\"learning_rate\": [\"constant\",\"adaptive\"],\n",
    "}"
   ]
  },
  {
   "cell_type": "markdown",
   "id": "3522b0bf",
   "metadata": {},
   "source": [
    "# Common functionalities"
   ]
  },
  {
   "cell_type": "markdown",
   "id": "a8db88d4",
   "metadata": {},
   "source": [
    "## Scoring function for comparison table"
   ]
  },
  {
   "cell_type": "code",
   "execution_count": 3,
   "id": "fbfc6ea1",
   "metadata": {},
   "outputs": [],
   "source": [
    "def compare_networks(networks, X_test, y_test):\n",
    "    results = []\n",
    "    \n",
    "    for network_name, network in networks.items():\n",
    "        y_pred = network.predict(X_test)\n",
    "        \n",
    "        accuracy = accuracy_score(y_test, y_pred)\n",
    "        precision = precision_score(y_test, y_pred, average=\"weighted\", zero_division=0)\n",
    "        recall = recall_score(y_test, y_pred, average=\"weighted\", zero_division=0)\n",
    "        f1 = f1_score(y_test, y_pred, average=\"weighted\")\n",
    "        \n",
    "        results.append({\n",
    "            \"Network\": network_name,\n",
    "            \"Accuracy\": accuracy,\n",
    "            \"Precision\": precision,\n",
    "            \"Recall\": recall,\n",
    "            \"F1 Score\": f1\n",
    "        })\n",
    "\n",
    "    return pd.DataFrame(results)"
   ]
  },
  {
   "cell_type": "markdown",
   "id": "6ffc87d4",
   "metadata": {},
   "source": [
    "## Benchmark neural network"
   ]
  },
  {
   "cell_type": "code",
   "execution_count": 4,
   "id": "5cad98b2",
   "metadata": {},
   "outputs": [],
   "source": [
    "def fit_benchmark_neural_network(X_train, y_train, seed):\n",
    "    return MLPClassifier(random_state=seed).fit(X_train, y_train)"
   ]
  },
  {
   "cell_type": "markdown",
   "id": "6496bae9",
   "metadata": {},
   "source": [
    "## Benchmark support vector classifier"
   ]
  },
  {
   "cell_type": "code",
   "execution_count": 5,
   "id": "1ef7e876",
   "metadata": {},
   "outputs": [],
   "source": [
    "def fit_benchmark_support_vector_classifier(X_train, y_train, seed):\n",
    "    return SVC(random_state=seed).fit(X_train, y_train)"
   ]
  },
  {
   "cell_type": "markdown",
   "id": "d1150562",
   "metadata": {},
   "source": [
    "## Custom grid search algorithm"
   ]
  },
  {
   "cell_type": "code",
   "execution_count": 6,
   "id": "39b661fb",
   "metadata": {},
   "outputs": [],
   "source": [
    "def tune_custom_grid_search_neural_network(X_train, y_train, parameters, seed, scoring, folds):\n",
    "    return MLPClassifier(random_state=seed).fit(X_train, y_train) # TODO add grid search algorithm"
   ]
  },
  {
   "cell_type": "markdown",
   "id": "74e28b2d",
   "metadata": {},
   "source": [
    "## Custom random search algorith"
   ]
  },
  {
   "cell_type": "code",
   "execution_count": 12,
   "id": "6384ffc6",
   "metadata": {},
   "outputs": [
    {
     "name": "stderr",
     "output_type": "stream",
     "text": [
      "c:\\Users\\tuvsh\\anaconda3\\envs\\pynlp\\lib\\site-packages\\sklearn\\neural_network\\_multilayer_perceptron.py:691: ConvergenceWarning: Stochastic Optimizer: Maximum iterations (10) reached and the optimization hasn't converged yet.\n",
      "  warnings.warn(\n",
      "c:\\Users\\tuvsh\\anaconda3\\envs\\pynlp\\lib\\site-packages\\sklearn\\neural_network\\_multilayer_perceptron.py:691: ConvergenceWarning: Stochastic Optimizer: Maximum iterations (10) reached and the optimization hasn't converged yet.\n",
      "  warnings.warn(\n",
      "c:\\Users\\tuvsh\\anaconda3\\envs\\pynlp\\lib\\site-packages\\sklearn\\neural_network\\_multilayer_perceptron.py:691: ConvergenceWarning: Stochastic Optimizer: Maximum iterations (10) reached and the optimization hasn't converged yet.\n",
      "  warnings.warn(\n",
      "c:\\Users\\tuvsh\\anaconda3\\envs\\pynlp\\lib\\site-packages\\sklearn\\neural_network\\_multilayer_perceptron.py:691: ConvergenceWarning: Stochastic Optimizer: Maximum iterations (10) reached and the optimization hasn't converged yet.\n",
      "  warnings.warn(\n",
      "c:\\Users\\tuvsh\\anaconda3\\envs\\pynlp\\lib\\site-packages\\sklearn\\neural_network\\_multilayer_perceptron.py:691: ConvergenceWarning: Stochastic Optimizer: Maximum iterations (10) reached and the optimization hasn't converged yet.\n",
      "  warnings.warn(\n",
      "c:\\Users\\tuvsh\\anaconda3\\envs\\pynlp\\lib\\site-packages\\sklearn\\neural_network\\_multilayer_perceptron.py:691: ConvergenceWarning: Stochastic Optimizer: Maximum iterations (10) reached and the optimization hasn't converged yet.\n",
      "  warnings.warn(\n",
      "c:\\Users\\tuvsh\\anaconda3\\envs\\pynlp\\lib\\site-packages\\sklearn\\neural_network\\_multilayer_perceptron.py:691: ConvergenceWarning: Stochastic Optimizer: Maximum iterations (10) reached and the optimization hasn't converged yet.\n",
      "  warnings.warn(\n",
      "c:\\Users\\tuvsh\\anaconda3\\envs\\pynlp\\lib\\site-packages\\sklearn\\neural_network\\_multilayer_perceptron.py:691: ConvergenceWarning: Stochastic Optimizer: Maximum iterations (10) reached and the optimization hasn't converged yet.\n",
      "  warnings.warn(\n",
      "c:\\Users\\tuvsh\\anaconda3\\envs\\pynlp\\lib\\site-packages\\sklearn\\neural_network\\_multilayer_perceptron.py:691: ConvergenceWarning: Stochastic Optimizer: Maximum iterations (10) reached and the optimization hasn't converged yet.\n",
      "  warnings.warn(\n",
      "c:\\Users\\tuvsh\\anaconda3\\envs\\pynlp\\lib\\site-packages\\sklearn\\neural_network\\_multilayer_perceptron.py:691: ConvergenceWarning: Stochastic Optimizer: Maximum iterations (10) reached and the optimization hasn't converged yet.\n",
      "  warnings.warn(\n",
      "c:\\Users\\tuvsh\\anaconda3\\envs\\pynlp\\lib\\site-packages\\sklearn\\neural_network\\_multilayer_perceptron.py:691: ConvergenceWarning: Stochastic Optimizer: Maximum iterations (10) reached and the optimization hasn't converged yet.\n",
      "  warnings.warn(\n",
      "c:\\Users\\tuvsh\\anaconda3\\envs\\pynlp\\lib\\site-packages\\sklearn\\neural_network\\_multilayer_perceptron.py:691: ConvergenceWarning: Stochastic Optimizer: Maximum iterations (10) reached and the optimization hasn't converged yet.\n",
      "  warnings.warn(\n",
      "c:\\Users\\tuvsh\\anaconda3\\envs\\pynlp\\lib\\site-packages\\sklearn\\neural_network\\_multilayer_perceptron.py:691: ConvergenceWarning: Stochastic Optimizer: Maximum iterations (10) reached and the optimization hasn't converged yet.\n",
      "  warnings.warn(\n",
      "c:\\Users\\tuvsh\\anaconda3\\envs\\pynlp\\lib\\site-packages\\sklearn\\neural_network\\_multilayer_perceptron.py:691: ConvergenceWarning: Stochastic Optimizer: Maximum iterations (10) reached and the optimization hasn't converged yet.\n",
      "  warnings.warn(\n",
      "c:\\Users\\tuvsh\\anaconda3\\envs\\pynlp\\lib\\site-packages\\sklearn\\neural_network\\_multilayer_perceptron.py:691: ConvergenceWarning: Stochastic Optimizer: Maximum iterations (10) reached and the optimization hasn't converged yet.\n",
      "  warnings.warn(\n",
      "c:\\Users\\tuvsh\\anaconda3\\envs\\pynlp\\lib\\site-packages\\sklearn\\neural_network\\_multilayer_perceptron.py:691: ConvergenceWarning: Stochastic Optimizer: Maximum iterations (10) reached and the optimization hasn't converged yet.\n",
      "  warnings.warn(\n",
      "c:\\Users\\tuvsh\\anaconda3\\envs\\pynlp\\lib\\site-packages\\sklearn\\neural_network\\_multilayer_perceptron.py:691: ConvergenceWarning: Stochastic Optimizer: Maximum iterations (10) reached and the optimization hasn't converged yet.\n",
      "  warnings.warn(\n",
      "c:\\Users\\tuvsh\\anaconda3\\envs\\pynlp\\lib\\site-packages\\sklearn\\neural_network\\_multilayer_perceptron.py:691: ConvergenceWarning: Stochastic Optimizer: Maximum iterations (10) reached and the optimization hasn't converged yet.\n",
      "  warnings.warn(\n",
      "c:\\Users\\tuvsh\\anaconda3\\envs\\pynlp\\lib\\site-packages\\sklearn\\neural_network\\_multilayer_perceptron.py:691: ConvergenceWarning: Stochastic Optimizer: Maximum iterations (10) reached and the optimization hasn't converged yet.\n",
      "  warnings.warn(\n",
      "c:\\Users\\tuvsh\\anaconda3\\envs\\pynlp\\lib\\site-packages\\sklearn\\neural_network\\_multilayer_perceptron.py:691: ConvergenceWarning: Stochastic Optimizer: Maximum iterations (10) reached and the optimization hasn't converged yet.\n",
      "  warnings.warn(\n",
      "c:\\Users\\tuvsh\\anaconda3\\envs\\pynlp\\lib\\site-packages\\sklearn\\neural_network\\_multilayer_perceptron.py:691: ConvergenceWarning: Stochastic Optimizer: Maximum iterations (10) reached and the optimization hasn't converged yet.\n",
      "  warnings.warn(\n",
      "c:\\Users\\tuvsh\\anaconda3\\envs\\pynlp\\lib\\site-packages\\sklearn\\neural_network\\_multilayer_perceptron.py:691: ConvergenceWarning: Stochastic Optimizer: Maximum iterations (10) reached and the optimization hasn't converged yet.\n",
      "  warnings.warn(\n",
      "c:\\Users\\tuvsh\\anaconda3\\envs\\pynlp\\lib\\site-packages\\sklearn\\neural_network\\_multilayer_perceptron.py:691: ConvergenceWarning: Stochastic Optimizer: Maximum iterations (10) reached and the optimization hasn't converged yet.\n",
      "  warnings.warn(\n",
      "c:\\Users\\tuvsh\\anaconda3\\envs\\pynlp\\lib\\site-packages\\sklearn\\neural_network\\_multilayer_perceptron.py:691: ConvergenceWarning: Stochastic Optimizer: Maximum iterations (10) reached and the optimization hasn't converged yet.\n",
      "  warnings.warn(\n",
      "c:\\Users\\tuvsh\\anaconda3\\envs\\pynlp\\lib\\site-packages\\sklearn\\neural_network\\_multilayer_perceptron.py:691: ConvergenceWarning: Stochastic Optimizer: Maximum iterations (10) reached and the optimization hasn't converged yet.\n",
      "  warnings.warn(\n",
      "c:\\Users\\tuvsh\\anaconda3\\envs\\pynlp\\lib\\site-packages\\sklearn\\neural_network\\_multilayer_perceptron.py:691: ConvergenceWarning: Stochastic Optimizer: Maximum iterations (10) reached and the optimization hasn't converged yet.\n",
      "  warnings.warn(\n",
      "c:\\Users\\tuvsh\\anaconda3\\envs\\pynlp\\lib\\site-packages\\sklearn\\neural_network\\_multilayer_perceptron.py:691: ConvergenceWarning: Stochastic Optimizer: Maximum iterations (10) reached and the optimization hasn't converged yet.\n",
      "  warnings.warn(\n",
      "c:\\Users\\tuvsh\\anaconda3\\envs\\pynlp\\lib\\site-packages\\sklearn\\neural_network\\_multilayer_perceptron.py:691: ConvergenceWarning: Stochastic Optimizer: Maximum iterations (10) reached and the optimization hasn't converged yet.\n",
      "  warnings.warn(\n",
      "c:\\Users\\tuvsh\\anaconda3\\envs\\pynlp\\lib\\site-packages\\sklearn\\neural_network\\_multilayer_perceptron.py:691: ConvergenceWarning: Stochastic Optimizer: Maximum iterations (10) reached and the optimization hasn't converged yet.\n",
      "  warnings.warn(\n",
      "c:\\Users\\tuvsh\\anaconda3\\envs\\pynlp\\lib\\site-packages\\sklearn\\neural_network\\_multilayer_perceptron.py:691: ConvergenceWarning: Stochastic Optimizer: Maximum iterations (10) reached and the optimization hasn't converged yet.\n",
      "  warnings.warn(\n",
      "c:\\Users\\tuvsh\\anaconda3\\envs\\pynlp\\lib\\site-packages\\sklearn\\neural_network\\_multilayer_perceptron.py:691: ConvergenceWarning: Stochastic Optimizer: Maximum iterations (10) reached and the optimization hasn't converged yet.\n",
      "  warnings.warn(\n",
      "c:\\Users\\tuvsh\\anaconda3\\envs\\pynlp\\lib\\site-packages\\sklearn\\neural_network\\_multilayer_perceptron.py:691: ConvergenceWarning: Stochastic Optimizer: Maximum iterations (10) reached and the optimization hasn't converged yet.\n",
      "  warnings.warn(\n",
      "c:\\Users\\tuvsh\\anaconda3\\envs\\pynlp\\lib\\site-packages\\sklearn\\neural_network\\_multilayer_perceptron.py:691: ConvergenceWarning: Stochastic Optimizer: Maximum iterations (10) reached and the optimization hasn't converged yet.\n",
      "  warnings.warn(\n",
      "c:\\Users\\tuvsh\\anaconda3\\envs\\pynlp\\lib\\site-packages\\sklearn\\neural_network\\_multilayer_perceptron.py:691: ConvergenceWarning: Stochastic Optimizer: Maximum iterations (10) reached and the optimization hasn't converged yet.\n",
      "  warnings.warn(\n",
      "c:\\Users\\tuvsh\\anaconda3\\envs\\pynlp\\lib\\site-packages\\sklearn\\neural_network\\_multilayer_perceptron.py:691: ConvergenceWarning: Stochastic Optimizer: Maximum iterations (10) reached and the optimization hasn't converged yet.\n",
      "  warnings.warn(\n",
      "c:\\Users\\tuvsh\\anaconda3\\envs\\pynlp\\lib\\site-packages\\sklearn\\neural_network\\_multilayer_perceptron.py:691: ConvergenceWarning: Stochastic Optimizer: Maximum iterations (10) reached and the optimization hasn't converged yet.\n",
      "  warnings.warn(\n",
      "c:\\Users\\tuvsh\\anaconda3\\envs\\pynlp\\lib\\site-packages\\sklearn\\neural_network\\_multilayer_perceptron.py:691: ConvergenceWarning: Stochastic Optimizer: Maximum iterations (10) reached and the optimization hasn't converged yet.\n",
      "  warnings.warn(\n",
      "c:\\Users\\tuvsh\\anaconda3\\envs\\pynlp\\lib\\site-packages\\sklearn\\neural_network\\_multilayer_perceptron.py:691: ConvergenceWarning: Stochastic Optimizer: Maximum iterations (10) reached and the optimization hasn't converged yet.\n",
      "  warnings.warn(\n",
      "c:\\Users\\tuvsh\\anaconda3\\envs\\pynlp\\lib\\site-packages\\sklearn\\neural_network\\_multilayer_perceptron.py:691: ConvergenceWarning: Stochastic Optimizer: Maximum iterations (10) reached and the optimization hasn't converged yet.\n",
      "  warnings.warn(\n",
      "c:\\Users\\tuvsh\\anaconda3\\envs\\pynlp\\lib\\site-packages\\sklearn\\neural_network\\_multilayer_perceptron.py:691: ConvergenceWarning: Stochastic Optimizer: Maximum iterations (10) reached and the optimization hasn't converged yet.\n",
      "  warnings.warn(\n",
      "c:\\Users\\tuvsh\\anaconda3\\envs\\pynlp\\lib\\site-packages\\sklearn\\neural_network\\_multilayer_perceptron.py:691: ConvergenceWarning: Stochastic Optimizer: Maximum iterations (10) reached and the optimization hasn't converged yet.\n",
      "  warnings.warn(\n",
      "c:\\Users\\tuvsh\\anaconda3\\envs\\pynlp\\lib\\site-packages\\sklearn\\neural_network\\_multilayer_perceptron.py:691: ConvergenceWarning: Stochastic Optimizer: Maximum iterations (10) reached and the optimization hasn't converged yet.\n",
      "  warnings.warn(\n",
      "c:\\Users\\tuvsh\\anaconda3\\envs\\pynlp\\lib\\site-packages\\sklearn\\neural_network\\_multilayer_perceptron.py:691: ConvergenceWarning: Stochastic Optimizer: Maximum iterations (10) reached and the optimization hasn't converged yet.\n",
      "  warnings.warn(\n",
      "c:\\Users\\tuvsh\\anaconda3\\envs\\pynlp\\lib\\site-packages\\sklearn\\neural_network\\_multilayer_perceptron.py:691: ConvergenceWarning: Stochastic Optimizer: Maximum iterations (10) reached and the optimization hasn't converged yet.\n",
      "  warnings.warn(\n",
      "c:\\Users\\tuvsh\\anaconda3\\envs\\pynlp\\lib\\site-packages\\sklearn\\neural_network\\_multilayer_perceptron.py:691: ConvergenceWarning: Stochastic Optimizer: Maximum iterations (10) reached and the optimization hasn't converged yet.\n",
      "  warnings.warn(\n",
      "c:\\Users\\tuvsh\\anaconda3\\envs\\pynlp\\lib\\site-packages\\sklearn\\neural_network\\_multilayer_perceptron.py:691: ConvergenceWarning: Stochastic Optimizer: Maximum iterations (10) reached and the optimization hasn't converged yet.\n",
      "  warnings.warn(\n",
      "c:\\Users\\tuvsh\\anaconda3\\envs\\pynlp\\lib\\site-packages\\sklearn\\neural_network\\_multilayer_perceptron.py:691: ConvergenceWarning: Stochastic Optimizer: Maximum iterations (10) reached and the optimization hasn't converged yet.\n",
      "  warnings.warn(\n",
      "c:\\Users\\tuvsh\\anaconda3\\envs\\pynlp\\lib\\site-packages\\sklearn\\neural_network\\_multilayer_perceptron.py:691: ConvergenceWarning: Stochastic Optimizer: Maximum iterations (10) reached and the optimization hasn't converged yet.\n",
      "  warnings.warn(\n",
      "c:\\Users\\tuvsh\\anaconda3\\envs\\pynlp\\lib\\site-packages\\sklearn\\neural_network\\_multilayer_perceptron.py:691: ConvergenceWarning: Stochastic Optimizer: Maximum iterations (10) reached and the optimization hasn't converged yet.\n",
      "  warnings.warn(\n",
      "c:\\Users\\tuvsh\\anaconda3\\envs\\pynlp\\lib\\site-packages\\sklearn\\neural_network\\_multilayer_perceptron.py:691: ConvergenceWarning: Stochastic Optimizer: Maximum iterations (10) reached and the optimization hasn't converged yet.\n",
      "  warnings.warn(\n",
      "c:\\Users\\tuvsh\\anaconda3\\envs\\pynlp\\lib\\site-packages\\sklearn\\neural_network\\_multilayer_perceptron.py:691: ConvergenceWarning: Stochastic Optimizer: Maximum iterations (10) reached and the optimization hasn't converged yet.\n",
      "  warnings.warn(\n",
      "c:\\Users\\tuvsh\\anaconda3\\envs\\pynlp\\lib\\site-packages\\sklearn\\neural_network\\_multilayer_perceptron.py:691: ConvergenceWarning: Stochastic Optimizer: Maximum iterations (10) reached and the optimization hasn't converged yet.\n",
      "  warnings.warn(\n",
      "c:\\Users\\tuvsh\\anaconda3\\envs\\pynlp\\lib\\site-packages\\sklearn\\neural_network\\_multilayer_perceptron.py:691: ConvergenceWarning: Stochastic Optimizer: Maximum iterations (10) reached and the optimization hasn't converged yet.\n",
      "  warnings.warn(\n",
      "c:\\Users\\tuvsh\\anaconda3\\envs\\pynlp\\lib\\site-packages\\sklearn\\neural_network\\_multilayer_perceptron.py:691: ConvergenceWarning: Stochastic Optimizer: Maximum iterations (10) reached and the optimization hasn't converged yet.\n",
      "  warnings.warn(\n",
      "c:\\Users\\tuvsh\\anaconda3\\envs\\pynlp\\lib\\site-packages\\sklearn\\neural_network\\_multilayer_perceptron.py:691: ConvergenceWarning: Stochastic Optimizer: Maximum iterations (10) reached and the optimization hasn't converged yet.\n",
      "  warnings.warn(\n",
      "c:\\Users\\tuvsh\\anaconda3\\envs\\pynlp\\lib\\site-packages\\sklearn\\neural_network\\_multilayer_perceptron.py:691: ConvergenceWarning: Stochastic Optimizer: Maximum iterations (10) reached and the optimization hasn't converged yet.\n",
      "  warnings.warn(\n",
      "c:\\Users\\tuvsh\\anaconda3\\envs\\pynlp\\lib\\site-packages\\sklearn\\neural_network\\_multilayer_perceptron.py:691: ConvergenceWarning: Stochastic Optimizer: Maximum iterations (10) reached and the optimization hasn't converged yet.\n",
      "  warnings.warn(\n",
      "c:\\Users\\tuvsh\\anaconda3\\envs\\pynlp\\lib\\site-packages\\sklearn\\neural_network\\_multilayer_perceptron.py:691: ConvergenceWarning: Stochastic Optimizer: Maximum iterations (10) reached and the optimization hasn't converged yet.\n",
      "  warnings.warn(\n",
      "c:\\Users\\tuvsh\\anaconda3\\envs\\pynlp\\lib\\site-packages\\sklearn\\neural_network\\_multilayer_perceptron.py:691: ConvergenceWarning: Stochastic Optimizer: Maximum iterations (10) reached and the optimization hasn't converged yet.\n",
      "  warnings.warn(\n",
      "c:\\Users\\tuvsh\\anaconda3\\envs\\pynlp\\lib\\site-packages\\sklearn\\neural_network\\_multilayer_perceptron.py:691: ConvergenceWarning: Stochastic Optimizer: Maximum iterations (10) reached and the optimization hasn't converged yet.\n",
      "  warnings.warn(\n",
      "c:\\Users\\tuvsh\\anaconda3\\envs\\pynlp\\lib\\site-packages\\sklearn\\neural_network\\_multilayer_perceptron.py:691: ConvergenceWarning: Stochastic Optimizer: Maximum iterations (10) reached and the optimization hasn't converged yet.\n",
      "  warnings.warn(\n",
      "c:\\Users\\tuvsh\\anaconda3\\envs\\pynlp\\lib\\site-packages\\sklearn\\neural_network\\_multilayer_perceptron.py:691: ConvergenceWarning: Stochastic Optimizer: Maximum iterations (10) reached and the optimization hasn't converged yet.\n",
      "  warnings.warn(\n",
      "c:\\Users\\tuvsh\\anaconda3\\envs\\pynlp\\lib\\site-packages\\sklearn\\neural_network\\_multilayer_perceptron.py:691: ConvergenceWarning: Stochastic Optimizer: Maximum iterations (10) reached and the optimization hasn't converged yet.\n",
      "  warnings.warn(\n",
      "c:\\Users\\tuvsh\\anaconda3\\envs\\pynlp\\lib\\site-packages\\sklearn\\neural_network\\_multilayer_perceptron.py:691: ConvergenceWarning: Stochastic Optimizer: Maximum iterations (10) reached and the optimization hasn't converged yet.\n",
      "  warnings.warn(\n",
      "c:\\Users\\tuvsh\\anaconda3\\envs\\pynlp\\lib\\site-packages\\sklearn\\neural_network\\_multilayer_perceptron.py:691: ConvergenceWarning: Stochastic Optimizer: Maximum iterations (10) reached and the optimization hasn't converged yet.\n",
      "  warnings.warn(\n",
      "c:\\Users\\tuvsh\\anaconda3\\envs\\pynlp\\lib\\site-packages\\sklearn\\neural_network\\_multilayer_perceptron.py:691: ConvergenceWarning: Stochastic Optimizer: Maximum iterations (10) reached and the optimization hasn't converged yet.\n",
      "  warnings.warn(\n",
      "c:\\Users\\tuvsh\\anaconda3\\envs\\pynlp\\lib\\site-packages\\sklearn\\neural_network\\_multilayer_perceptron.py:691: ConvergenceWarning: Stochastic Optimizer: Maximum iterations (10) reached and the optimization hasn't converged yet.\n",
      "  warnings.warn(\n",
      "c:\\Users\\tuvsh\\anaconda3\\envs\\pynlp\\lib\\site-packages\\sklearn\\neural_network\\_multilayer_perceptron.py:691: ConvergenceWarning: Stochastic Optimizer: Maximum iterations (10) reached and the optimization hasn't converged yet.\n",
      "  warnings.warn(\n",
      "c:\\Users\\tuvsh\\anaconda3\\envs\\pynlp\\lib\\site-packages\\sklearn\\neural_network\\_multilayer_perceptron.py:691: ConvergenceWarning: Stochastic Optimizer: Maximum iterations (10) reached and the optimization hasn't converged yet.\n",
      "  warnings.warn(\n",
      "c:\\Users\\tuvsh\\anaconda3\\envs\\pynlp\\lib\\site-packages\\sklearn\\neural_network\\_multilayer_perceptron.py:691: ConvergenceWarning: Stochastic Optimizer: Maximum iterations (10) reached and the optimization hasn't converged yet.\n",
      "  warnings.warn(\n",
      "c:\\Users\\tuvsh\\anaconda3\\envs\\pynlp\\lib\\site-packages\\sklearn\\neural_network\\_multilayer_perceptron.py:691: ConvergenceWarning: Stochastic Optimizer: Maximum iterations (10) reached and the optimization hasn't converged yet.\n",
      "  warnings.warn(\n",
      "c:\\Users\\tuvsh\\anaconda3\\envs\\pynlp\\lib\\site-packages\\sklearn\\neural_network\\_multilayer_perceptron.py:691: ConvergenceWarning: Stochastic Optimizer: Maximum iterations (10) reached and the optimization hasn't converged yet.\n",
      "  warnings.warn(\n",
      "c:\\Users\\tuvsh\\anaconda3\\envs\\pynlp\\lib\\site-packages\\sklearn\\neural_network\\_multilayer_perceptron.py:691: ConvergenceWarning: Stochastic Optimizer: Maximum iterations (10) reached and the optimization hasn't converged yet.\n",
      "  warnings.warn(\n",
      "c:\\Users\\tuvsh\\anaconda3\\envs\\pynlp\\lib\\site-packages\\sklearn\\neural_network\\_multilayer_perceptron.py:691: ConvergenceWarning: Stochastic Optimizer: Maximum iterations (10) reached and the optimization hasn't converged yet.\n",
      "  warnings.warn(\n",
      "c:\\Users\\tuvsh\\anaconda3\\envs\\pynlp\\lib\\site-packages\\sklearn\\neural_network\\_multilayer_perceptron.py:691: ConvergenceWarning: Stochastic Optimizer: Maximum iterations (10) reached and the optimization hasn't converged yet.\n",
      "  warnings.warn(\n",
      "c:\\Users\\tuvsh\\anaconda3\\envs\\pynlp\\lib\\site-packages\\sklearn\\neural_network\\_multilayer_perceptron.py:691: ConvergenceWarning: Stochastic Optimizer: Maximum iterations (10) reached and the optimization hasn't converged yet.\n",
      "  warnings.warn(\n",
      "c:\\Users\\tuvsh\\anaconda3\\envs\\pynlp\\lib\\site-packages\\sklearn\\neural_network\\_multilayer_perceptron.py:691: ConvergenceWarning: Stochastic Optimizer: Maximum iterations (10) reached and the optimization hasn't converged yet.\n",
      "  warnings.warn(\n",
      "c:\\Users\\tuvsh\\anaconda3\\envs\\pynlp\\lib\\site-packages\\sklearn\\neural_network\\_multilayer_perceptron.py:691: ConvergenceWarning: Stochastic Optimizer: Maximum iterations (10) reached and the optimization hasn't converged yet.\n",
      "  warnings.warn(\n",
      "c:\\Users\\tuvsh\\anaconda3\\envs\\pynlp\\lib\\site-packages\\sklearn\\neural_network\\_multilayer_perceptron.py:691: ConvergenceWarning: Stochastic Optimizer: Maximum iterations (10) reached and the optimization hasn't converged yet.\n",
      "  warnings.warn(\n",
      "c:\\Users\\tuvsh\\anaconda3\\envs\\pynlp\\lib\\site-packages\\sklearn\\neural_network\\_multilayer_perceptron.py:691: ConvergenceWarning: Stochastic Optimizer: Maximum iterations (10) reached and the optimization hasn't converged yet.\n",
      "  warnings.warn(\n",
      "c:\\Users\\tuvsh\\anaconda3\\envs\\pynlp\\lib\\site-packages\\sklearn\\neural_network\\_multilayer_perceptron.py:691: ConvergenceWarning: Stochastic Optimizer: Maximum iterations (10) reached and the optimization hasn't converged yet.\n",
      "  warnings.warn(\n",
      "c:\\Users\\tuvsh\\anaconda3\\envs\\pynlp\\lib\\site-packages\\sklearn\\neural_network\\_multilayer_perceptron.py:691: ConvergenceWarning: Stochastic Optimizer: Maximum iterations (10) reached and the optimization hasn't converged yet.\n",
      "  warnings.warn(\n",
      "c:\\Users\\tuvsh\\anaconda3\\envs\\pynlp\\lib\\site-packages\\sklearn\\neural_network\\_multilayer_perceptron.py:691: ConvergenceWarning: Stochastic Optimizer: Maximum iterations (10) reached and the optimization hasn't converged yet.\n",
      "  warnings.warn(\n",
      "c:\\Users\\tuvsh\\anaconda3\\envs\\pynlp\\lib\\site-packages\\sklearn\\neural_network\\_multilayer_perceptron.py:691: ConvergenceWarning: Stochastic Optimizer: Maximum iterations (10) reached and the optimization hasn't converged yet.\n",
      "  warnings.warn(\n",
      "c:\\Users\\tuvsh\\anaconda3\\envs\\pynlp\\lib\\site-packages\\sklearn\\neural_network\\_multilayer_perceptron.py:691: ConvergenceWarning: Stochastic Optimizer: Maximum iterations (10) reached and the optimization hasn't converged yet.\n",
      "  warnings.warn(\n",
      "c:\\Users\\tuvsh\\anaconda3\\envs\\pynlp\\lib\\site-packages\\sklearn\\neural_network\\_multilayer_perceptron.py:691: ConvergenceWarning: Stochastic Optimizer: Maximum iterations (10) reached and the optimization hasn't converged yet.\n",
      "  warnings.warn(\n",
      "c:\\Users\\tuvsh\\anaconda3\\envs\\pynlp\\lib\\site-packages\\sklearn\\neural_network\\_multilayer_perceptron.py:691: ConvergenceWarning: Stochastic Optimizer: Maximum iterations (10) reached and the optimization hasn't converged yet.\n",
      "  warnings.warn(\n",
      "c:\\Users\\tuvsh\\anaconda3\\envs\\pynlp\\lib\\site-packages\\sklearn\\neural_network\\_multilayer_perceptron.py:691: ConvergenceWarning: Stochastic Optimizer: Maximum iterations (10) reached and the optimization hasn't converged yet.\n",
      "  warnings.warn(\n",
      "c:\\Users\\tuvsh\\anaconda3\\envs\\pynlp\\lib\\site-packages\\sklearn\\neural_network\\_multilayer_perceptron.py:691: ConvergenceWarning: Stochastic Optimizer: Maximum iterations (10) reached and the optimization hasn't converged yet.\n",
      "  warnings.warn(\n",
      "c:\\Users\\tuvsh\\anaconda3\\envs\\pynlp\\lib\\site-packages\\sklearn\\neural_network\\_multilayer_perceptron.py:691: ConvergenceWarning: Stochastic Optimizer: Maximum iterations (10) reached and the optimization hasn't converged yet.\n",
      "  warnings.warn(\n",
      "c:\\Users\\tuvsh\\anaconda3\\envs\\pynlp\\lib\\site-packages\\sklearn\\neural_network\\_multilayer_perceptron.py:691: ConvergenceWarning: Stochastic Optimizer: Maximum iterations (10) reached and the optimization hasn't converged yet.\n",
      "  warnings.warn(\n",
      "c:\\Users\\tuvsh\\anaconda3\\envs\\pynlp\\lib\\site-packages\\sklearn\\neural_network\\_multilayer_perceptron.py:691: ConvergenceWarning: Stochastic Optimizer: Maximum iterations (10) reached and the optimization hasn't converged yet.\n",
      "  warnings.warn(\n",
      "c:\\Users\\tuvsh\\anaconda3\\envs\\pynlp\\lib\\site-packages\\sklearn\\neural_network\\_multilayer_perceptron.py:691: ConvergenceWarning: Stochastic Optimizer: Maximum iterations (10) reached and the optimization hasn't converged yet.\n",
      "  warnings.warn(\n",
      "c:\\Users\\tuvsh\\anaconda3\\envs\\pynlp\\lib\\site-packages\\sklearn\\neural_network\\_multilayer_perceptron.py:691: ConvergenceWarning: Stochastic Optimizer: Maximum iterations (10) reached and the optimization hasn't converged yet.\n",
      "  warnings.warn(\n",
      "c:\\Users\\tuvsh\\anaconda3\\envs\\pynlp\\lib\\site-packages\\sklearn\\neural_network\\_multilayer_perceptron.py:691: ConvergenceWarning: Stochastic Optimizer: Maximum iterations (10) reached and the optimization hasn't converged yet.\n",
      "  warnings.warn(\n",
      "c:\\Users\\tuvsh\\anaconda3\\envs\\pynlp\\lib\\site-packages\\sklearn\\neural_network\\_multilayer_perceptron.py:691: ConvergenceWarning: Stochastic Optimizer: Maximum iterations (10) reached and the optimization hasn't converged yet.\n",
      "  warnings.warn(\n",
      "c:\\Users\\tuvsh\\anaconda3\\envs\\pynlp\\lib\\site-packages\\sklearn\\neural_network\\_multilayer_perceptron.py:691: ConvergenceWarning: Stochastic Optimizer: Maximum iterations (10) reached and the optimization hasn't converged yet.\n",
      "  warnings.warn(\n",
      "c:\\Users\\tuvsh\\anaconda3\\envs\\pynlp\\lib\\site-packages\\sklearn\\neural_network\\_multilayer_perceptron.py:691: ConvergenceWarning: Stochastic Optimizer: Maximum iterations (10) reached and the optimization hasn't converged yet.\n",
      "  warnings.warn(\n",
      "c:\\Users\\tuvsh\\anaconda3\\envs\\pynlp\\lib\\site-packages\\sklearn\\neural_network\\_multilayer_perceptron.py:691: ConvergenceWarning: Stochastic Optimizer: Maximum iterations (10) reached and the optimization hasn't converged yet.\n",
      "  warnings.warn(\n",
      "c:\\Users\\tuvsh\\anaconda3\\envs\\pynlp\\lib\\site-packages\\sklearn\\neural_network\\_multilayer_perceptron.py:691: ConvergenceWarning: Stochastic Optimizer: Maximum iterations (10) reached and the optimization hasn't converged yet.\n",
      "  warnings.warn(\n"
     ]
    },
    {
     "name": "stdout",
     "output_type": "stream",
     "text": [
      "Best configuration: (3, [20, 100, 50], 'tanh')\n",
      "Best performance: 0.3496\n"
     ]
    }
   ],
   "source": [
    "from sklearn.neural_network import MLPClassifier\n",
    "from sklearn.metrics import accuracy_score\n",
    "import random\n",
    "\n",
    "def create_network(layers, nodes, activation, learning_rate=0.01, early_stopping=True, validation_fraction=0.1, n_iter_no_change=10):\n",
    "    \"\"\"\n",
    "    Creates an MLP network with specified layers, nodes, activation function, learning rate, and early stopping parameters.\n",
    "    \"\"\"\n",
    "    if len(nodes) != layers:\n",
    "        raise ValueError(\"Length of nodes list must be equal to the number of layers\")\n",
    "\n",
    "    hidden_layer_sizes = tuple(nodes)\n",
    "    model = MLPClassifier(hidden_layer_sizes=hidden_layer_sizes, activation=activation, \n",
    "                          max_iter=10, learning_rate_init=learning_rate, \n",
    "                          early_stopping=early_stopping, validation_fraction=validation_fraction, \n",
    "                          n_iter_no_change=n_iter_no_change)\n",
    "    return model\n",
    "\n",
    "def train_and_evaluate(model, X_train, y_train, X_test, y_test):\n",
    "    \"\"\"\n",
    "    Trains the MLPClassifier model and evaluates its performance on the test set.\n",
    "    \"\"\"\n",
    "    model.fit(X_train, y_train)\n",
    "    y_pred = model.predict(X_test)\n",
    "    accuracy = accuracy_score(y_test, y_pred)\n",
    "    return accuracy\n",
    "\n",
    "def random_configuration(max_layers, max_nodes):\n",
    "    \"\"\"\n",
    "    Generates a random configuration for the neural network.\n",
    "    \"\"\"\n",
    "    layers = random.randint(1, max_layers)\n",
    "    nodes = [random.choice([10, 20, 50, 100]) for _ in range(layers)]\n",
    "    activation = random.choice(['relu', 'tanh', 'logistic'])\n",
    "    return layers, nodes, activation\n",
    "\n",
    "def tune_custom_random_neural_network(X_train, y_train, X_test, y_test, parameters, seed, scoring, folds):\n",
    "    \"\"\"\n",
    "    Tunes a custom random neural network based on specified parameters, seed, scoring method, and number of folds.\n",
    "    \"\"\"\n",
    "    random.seed(seed)\n",
    "    best_performance = None\n",
    "    best_config = None\n",
    "    max_layers, max_nodes = parameters['max_layers'], parameters['max_nodes']\n",
    "\n",
    "    for _ in range(folds):\n",
    "        layers, nodes, activation = random_configuration(max_layers, max_nodes)\n",
    "        model = create_network(layers, nodes, activation)\n",
    "        performance = train_and_evaluate(model, X_train, y_train, X_test, y_test)\n",
    "\n",
    "        if best_performance is None or performance > best_performance:\n",
    "            best_performance = performance\n",
    "            best_config = (layers, nodes, activation)\n",
    "\n",
    "    return best_config, best_performance\n",
    "\n",
    "# Example usage:\n",
    "\n",
    "parameters = {\n",
    "    'max_layers': 5,  # Maximum number of layers\n",
    "    'max_nodes': 100, # Maximum number of nodes in a layer\n",
    "}\n",
    "\n",
    "# Assuming train_data and validation_data are defined and properly preprocessed\n",
    "train_data = (X_train, y_train)\n",
    "validation_data = (X_test, y_test)\n",
    "\n",
    "best_config, best_performance = tune_custom_random_neural_network(X_train, y_train, X_test, y_test, \n",
    "                                                                  parameters, seed=42, scoring='accuracy', folds=100)\n",
    "print(\"Best configuration:\", best_config)\n",
    "print(\"Best performance:\", best_performance)\n"
   ]
  },
  {
   "cell_type": "markdown",
   "id": "f574401e",
   "metadata": {},
   "source": [
    "# Absenteeism at work"
   ]
  },
  {
   "cell_type": "markdown",
   "id": "5d706feb",
   "metadata": {},
   "source": [
    "## Data loading"
   ]
  },
  {
   "cell_type": "code",
   "execution_count": null,
   "id": "3cae5520",
   "metadata": {},
   "outputs": [],
   "source": [
    "absenteeism_at_work = pd.read_csv(\"../../data/absenteeism-at-work/data.csv\", delimiter=\";\", index_col=\"ID\")\n",
    "X = absenteeism_at_work.drop(\"Reason for absence\", axis=1)\n",
    "y = absenteeism_at_work[\"Reason for absence\"]"
   ]
  },
  {
   "cell_type": "markdown",
   "id": "83f91cbd",
   "metadata": {},
   "source": [
    "## Train test split"
   ]
  },
  {
   "cell_type": "code",
   "execution_count": null,
   "id": "636a1816",
   "metadata": {},
   "outputs": [],
   "source": [
    "X_train, X_test, y_train, y_test = train_test_split(X, y, random_state=seed, shuffle=shuffle_train_test)"
   ]
  },
  {
   "cell_type": "markdown",
   "id": "5f700b7e",
   "metadata": {},
   "source": [
    "## Preprocessing"
   ]
  },
  {
   "cell_type": "code",
   "execution_count": null,
   "id": "8ac41db1",
   "metadata": {},
   "outputs": [],
   "source": [
    "X_train = absenteeism_at_work_preprocessor.preprocess(X_train)\n",
    "y_train = y_train.iloc[X_train.index] # ensure that dropped rows are not in y\n",
    "X_test = absenteeism_at_work_preprocessor.preprocess(X_test)\n",
    "y_test = y_test.iloc[X_test.index] # ensure that dropped rows are not in y"
   ]
  },
  {
   "cell_type": "markdown",
   "id": "fe0a91b6",
   "metadata": {},
   "source": [
    "## Fit benchmark models"
   ]
  },
  {
   "cell_type": "code",
   "execution_count": null,
   "id": "6fd39b2d",
   "metadata": {},
   "outputs": [
    {
     "name": "stderr",
     "output_type": "stream",
     "text": [
      "/home/tobsel/.local/lib/python3.10/site-packages/sklearn/neural_network/_multilayer_perceptron.py:702: ConvergenceWarning: Stochastic Optimizer: Maximum iterations (200) reached and the optimization hasn't converged yet.\n",
      "  warnings.warn(\n"
     ]
    }
   ],
   "source": [
    "benchmark_network = fit_benchmark_neural_network(X_train, y_train, seed=seed)\n",
    "benchmark_svc = fit_benchmark_support_vector_classifier(X_train, y_train, seed=seed)"
   ]
  },
  {
   "cell_type": "markdown",
   "id": "e6b22191",
   "metadata": {},
   "source": [
    "## Apply grid search algorithm"
   ]
  },
  {
   "cell_type": "code",
   "execution_count": null,
   "id": "f6155384",
   "metadata": {},
   "outputs": [
    {
     "name": "stderr",
     "output_type": "stream",
     "text": [
      "/home/tobsel/.local/lib/python3.10/site-packages/sklearn/neural_network/_multilayer_perceptron.py:702: ConvergenceWarning: Stochastic Optimizer: Maximum iterations (200) reached and the optimization hasn't converged yet.\n",
      "  warnings.warn(\n"
     ]
    }
   ],
   "source": [
    "grid_search_tuned_network = tune_custom_grid_search_neural_network(X_train, y_train, parameters=parameters, seed=seed, scoring=scoring, folds=folds)"
   ]
  },
  {
   "cell_type": "markdown",
   "id": "bd78dd86",
   "metadata": {},
   "source": [
    "## Apply local search algorithm"
   ]
  },
  {
   "cell_type": "code",
   "execution_count": null,
   "id": "bba7ecce",
   "metadata": {},
   "outputs": [
    {
     "name": "stderr",
     "output_type": "stream",
     "text": [
      "/home/tobsel/.local/lib/python3.10/site-packages/sklearn/neural_network/_multilayer_perceptron.py:702: ConvergenceWarning: Stochastic Optimizer: Maximum iterations (200) reached and the optimization hasn't converged yet.\n",
      "  warnings.warn(\n"
     ]
    }
   ],
   "source": [
    "local_search_tuned_network = tune_custom_local_search_neural_network(X_train, y_train, parameters=parameters, seed=seed, scoring=scoring, folds=folds)"
   ]
  },
  {
   "cell_type": "markdown",
   "id": "b165a7e5",
   "metadata": {},
   "source": [
    "## Test all resulting networks"
   ]
  },
  {
   "cell_type": "code",
   "execution_count": null,
   "id": "a27a0fc5",
   "metadata": {},
   "outputs": [
    {
     "data": {
      "text/html": [
       "<div>\n",
       "<style scoped>\n",
       "    .dataframe tbody tr th:only-of-type {\n",
       "        vertical-align: middle;\n",
       "    }\n",
       "\n",
       "    .dataframe tbody tr th {\n",
       "        vertical-align: top;\n",
       "    }\n",
       "\n",
       "    .dataframe thead th {\n",
       "        text-align: right;\n",
       "    }\n",
       "</style>\n",
       "<table border=\"1\" class=\"dataframe\">\n",
       "  <thead>\n",
       "    <tr style=\"text-align: right;\">\n",
       "      <th></th>\n",
       "      <th>Network</th>\n",
       "      <th>Accuracy</th>\n",
       "      <th>Precision</th>\n",
       "      <th>Recall</th>\n",
       "      <th>F1 Score</th>\n",
       "    </tr>\n",
       "  </thead>\n",
       "  <tbody>\n",
       "    <tr>\n",
       "      <th>0</th>\n",
       "      <td>Benchmark neural network</td>\n",
       "      <td>0.108696</td>\n",
       "      <td>0.059669</td>\n",
       "      <td>0.108696</td>\n",
       "      <td>0.070463</td>\n",
       "    </tr>\n",
       "    <tr>\n",
       "      <th>1</th>\n",
       "      <td>Benchmark support vector classifier</td>\n",
       "      <td>0.130435</td>\n",
       "      <td>0.038584</td>\n",
       "      <td>0.130435</td>\n",
       "      <td>0.050603</td>\n",
       "    </tr>\n",
       "    <tr>\n",
       "      <th>2</th>\n",
       "      <td>Grid search tuned neural network</td>\n",
       "      <td>0.108696</td>\n",
       "      <td>0.059669</td>\n",
       "      <td>0.108696</td>\n",
       "      <td>0.070463</td>\n",
       "    </tr>\n",
       "    <tr>\n",
       "      <th>3</th>\n",
       "      <td>Local search tuned neural network</td>\n",
       "      <td>0.108696</td>\n",
       "      <td>0.059669</td>\n",
       "      <td>0.108696</td>\n",
       "      <td>0.070463</td>\n",
       "    </tr>\n",
       "  </tbody>\n",
       "</table>\n",
       "</div>"
      ],
      "text/plain": [
       "                               Network  Accuracy  Precision    Recall  \\\n",
       "0             Benchmark neural network  0.108696   0.059669  0.108696   \n",
       "1  Benchmark support vector classifier  0.130435   0.038584  0.130435   \n",
       "2     Grid search tuned neural network  0.108696   0.059669  0.108696   \n",
       "3    Local search tuned neural network  0.108696   0.059669  0.108696   \n",
       "\n",
       "   F1 Score  \n",
       "0  0.070463  \n",
       "1  0.050603  \n",
       "2  0.070463  \n",
       "3  0.070463  "
      ]
     },
     "execution_count": 14,
     "metadata": {},
     "output_type": "execute_result"
    }
   ],
   "source": [
    "networks = {\n",
    "    \"Benchmark neural network\": benchmark_network,\n",
    "    \"Benchmark support vector classifier\": benchmark_svc,\n",
    "    \"Grid search tuned neural network\": grid_search_tuned_network,\n",
    "    \"Local search tuned neural network\": local_search_tuned_network\n",
    "}\n",
    "compare_networks(networks, X_test, y_test)"
   ]
  },
  {
   "cell_type": "markdown",
   "id": "2a7343e9",
   "metadata": {},
   "source": [
    "# Students' dropout and academic success"
   ]
  },
  {
   "cell_type": "markdown",
   "id": "6d61a2e5",
   "metadata": {},
   "source": [
    "## Data loading"
   ]
  },
  {
   "cell_type": "code",
   "execution_count": null,
   "id": "ec8a8d59",
   "metadata": {},
   "outputs": [],
   "source": [
    "students_dropout_and_academic_success = pd.read_csv(\"../../data/predict-students-dropout-and-academic-success/data.csv\", delimiter=\";\")\n",
    "X = students_dropout_and_academic_success.drop(\"Target\", axis=1)\n",
    "y = students_dropout_and_academic_success[\"Target\"]"
   ]
  },
  {
   "cell_type": "markdown",
   "id": "c7091547",
   "metadata": {},
   "source": [
    "## Train test split"
   ]
  },
  {
   "cell_type": "code",
   "execution_count": null,
   "id": "225727b2",
   "metadata": {},
   "outputs": [],
   "source": [
    "X_train, X_test, y_train, y_test = train_test_split(X, y, random_state=seed, shuffle=shuffle_train_test)"
   ]
  },
  {
   "cell_type": "markdown",
   "id": "ac7522ab",
   "metadata": {},
   "source": [
    "## Preprocessing"
   ]
  },
  {
   "cell_type": "code",
   "execution_count": null,
   "id": "05c14eba",
   "metadata": {},
   "outputs": [],
   "source": [
    "X_train = students_dropout_and_academic_success_preprocessor.preprocess(X_train)\n",
    "X_test = students_dropout_and_academic_success_preprocessor.preprocess(X_test)"
   ]
  },
  {
   "cell_type": "markdown",
   "id": "491529a8",
   "metadata": {},
   "source": [
    "## Fit benchmark models"
   ]
  },
  {
   "cell_type": "code",
   "execution_count": null,
   "id": "bd6030e1",
   "metadata": {},
   "outputs": [],
   "source": [
    "benchmark_network = fit_benchmark_neural_network(X_train, y_train, seed=seed)\n",
    "benchmark_svc = fit_benchmark_support_vector_classifier(X_train, y_train, seed=seed)"
   ]
  },
  {
   "cell_type": "markdown",
   "id": "3bda3c58",
   "metadata": {},
   "source": [
    "## Apply grid search alogorithm"
   ]
  },
  {
   "cell_type": "code",
   "execution_count": null,
   "id": "57b342cc",
   "metadata": {},
   "outputs": [],
   "source": [
    "grid_search_tuned_network = tune_custom_grid_search_neural_network(X_train, y_train, parameters=parameters, seed=seed, scoring=scoring, folds=folds)"
   ]
  },
  {
   "cell_type": "markdown",
   "id": "d0de7099",
   "metadata": {},
   "source": [
    "## Apply local search algorithm"
   ]
  },
  {
   "cell_type": "code",
   "execution_count": null,
   "id": "88d7eac2",
   "metadata": {},
   "outputs": [],
   "source": [
    "local_search_tuned_network = tune_custom_local_search_neural_network(X_train, y_train, parameters=parameters, seed=seed, scoring=scoring, folds=folds)"
   ]
  },
  {
   "cell_type": "markdown",
   "id": "cda9f0c0",
   "metadata": {},
   "source": [
    "## Test all resulting networks"
   ]
  },
  {
   "cell_type": "code",
   "execution_count": null,
   "id": "2cb68d37",
   "metadata": {},
   "outputs": [
    {
     "data": {
      "text/html": [
       "<div>\n",
       "<style scoped>\n",
       "    .dataframe tbody tr th:only-of-type {\n",
       "        vertical-align: middle;\n",
       "    }\n",
       "\n",
       "    .dataframe tbody tr th {\n",
       "        vertical-align: top;\n",
       "    }\n",
       "\n",
       "    .dataframe thead th {\n",
       "        text-align: right;\n",
       "    }\n",
       "</style>\n",
       "<table border=\"1\" class=\"dataframe\">\n",
       "  <thead>\n",
       "    <tr style=\"text-align: right;\">\n",
       "      <th></th>\n",
       "      <th>Network</th>\n",
       "      <th>Accuracy</th>\n",
       "      <th>Precision</th>\n",
       "      <th>Recall</th>\n",
       "      <th>F1 Score</th>\n",
       "    </tr>\n",
       "  </thead>\n",
       "  <tbody>\n",
       "    <tr>\n",
       "      <th>0</th>\n",
       "      <td>Benchmark neural network</td>\n",
       "      <td>0.550633</td>\n",
       "      <td>0.649619</td>\n",
       "      <td>0.550633</td>\n",
       "      <td>0.525342</td>\n",
       "    </tr>\n",
       "    <tr>\n",
       "      <th>1</th>\n",
       "      <td>Benchmark support vector classifier</td>\n",
       "      <td>0.506329</td>\n",
       "      <td>0.256369</td>\n",
       "      <td>0.506329</td>\n",
       "      <td>0.340389</td>\n",
       "    </tr>\n",
       "    <tr>\n",
       "      <th>2</th>\n",
       "      <td>Grid search tuned neural network</td>\n",
       "      <td>0.550633</td>\n",
       "      <td>0.649619</td>\n",
       "      <td>0.550633</td>\n",
       "      <td>0.525342</td>\n",
       "    </tr>\n",
       "    <tr>\n",
       "      <th>3</th>\n",
       "      <td>Local search tuned neural network</td>\n",
       "      <td>0.550633</td>\n",
       "      <td>0.649619</td>\n",
       "      <td>0.550633</td>\n",
       "      <td>0.525342</td>\n",
       "    </tr>\n",
       "  </tbody>\n",
       "</table>\n",
       "</div>"
      ],
      "text/plain": [
       "                               Network  Accuracy  Precision    Recall  \\\n",
       "0             Benchmark neural network  0.550633   0.649619  0.550633   \n",
       "1  Benchmark support vector classifier  0.506329   0.256369  0.506329   \n",
       "2     Grid search tuned neural network  0.550633   0.649619  0.550633   \n",
       "3    Local search tuned neural network  0.550633   0.649619  0.550633   \n",
       "\n",
       "   F1 Score  \n",
       "0  0.525342  \n",
       "1  0.340389  \n",
       "2  0.525342  \n",
       "3  0.525342  "
      ]
     },
     "execution_count": 21,
     "metadata": {},
     "output_type": "execute_result"
    }
   ],
   "source": [
    "networks = {\n",
    "    \"Benchmark neural network\": benchmark_network,\n",
    "    \"Benchmark support vector classifier\": benchmark_svc,\n",
    "    \"Grid search tuned neural network\": grid_search_tuned_network,\n",
    "    \"Local search tuned neural network\": local_search_tuned_network\n",
    "}\n",
    "compare_networks(networks, X_test, y_test)"
   ]
  },
  {
   "cell_type": "markdown",
   "id": "ee180652",
   "metadata": {},
   "source": [
    "# Loan"
   ]
  },
  {
   "cell_type": "markdown",
   "id": "c1fa8ccc",
   "metadata": {},
   "source": [
    "## Data loading"
   ]
  },
  {
   "cell_type": "code",
   "execution_count": 8,
   "id": "ef3bdf66",
   "metadata": {},
   "outputs": [],
   "source": [
    "loan = pd.read_csv(\"../../data/kaggle-competitions/loan/loan-10k.lrn.csv\", index_col=\"ID\")\n",
    "X = loan.drop(\"grade\", axis=1)\n",
    "y = LabelEncoder().fit_transform(loan[\"grade\"])"
   ]
  },
  {
   "cell_type": "markdown",
   "id": "30ee563b",
   "metadata": {},
   "source": [
    "## Train test split"
   ]
  },
  {
   "cell_type": "code",
   "execution_count": 9,
   "id": "d1c10dfb",
   "metadata": {},
   "outputs": [],
   "source": [
    "X_train, X_test, y_train, y_test = train_test_split(X, y, random_state=seed, shuffle=shuffle_train_test)"
   ]
  },
  {
   "cell_type": "markdown",
   "id": "64fce8ca",
   "metadata": {},
   "source": [
    "## Preprocessing"
   ]
  },
  {
   "cell_type": "code",
   "execution_count": 10,
   "id": "43758822",
   "metadata": {},
   "outputs": [],
   "source": [
    "X_train = loan_preprocessor.preprocess(X_train)\n",
    "X_test = loan_preprocessor.preprocess(X_test)\n",
    "for column in set(X_train.columns) - set(X_test.columns):\n",
    "    X_test[column] = 0 # set defaults for missing one hot encoded columns\n",
    "X_test = X_test[X_train.columns] # reorder columns"
   ]
  },
  {
   "cell_type": "markdown",
   "id": "2aba5d99",
   "metadata": {},
   "source": [
    "## Fit benchmark models"
   ]
  },
  {
   "cell_type": "code",
   "execution_count": null,
   "id": "969366cc",
   "metadata": {},
   "outputs": [],
   "source": [
    "benchmark_network = fit_benchmark_neural_network(X_train, y_train, seed=seed)\n",
    "benchmark_svc = fit_benchmark_support_vector_classifier(X_train, y_train, seed=seed)"
   ]
  },
  {
   "cell_type": "markdown",
   "id": "0d255947",
   "metadata": {},
   "source": [
    "## Apply grid search algorithm"
   ]
  },
  {
   "cell_type": "code",
   "execution_count": null,
   "id": "3e332b72",
   "metadata": {},
   "outputs": [],
   "source": [
    "grid_search_tuned_network = tune_custom_grid_search_neural_network(X_train, y_train, parameters=parameters, seed=seed, scoring=scoring, folds=folds)"
   ]
  },
  {
   "cell_type": "markdown",
   "id": "d1032524",
   "metadata": {},
   "source": [
    "## Apply local search algorithm"
   ]
  },
  {
   "cell_type": "code",
   "execution_count": null,
   "id": "c6e6ff29",
   "metadata": {},
   "outputs": [],
   "source": [
    "local_search_tuned_network = tune_custom_local_search_neural_network(X_train, y_train, parameters=parameters, seed=seed, scoring=scoring, folds=folds)"
   ]
  },
  {
   "cell_type": "markdown",
   "id": "033437c0",
   "metadata": {},
   "source": [
    "## Test all resulting networks"
   ]
  },
  {
   "cell_type": "code",
   "execution_count": null,
   "id": "2d9162f7",
   "metadata": {},
   "outputs": [
    {
     "data": {
      "text/html": [
       "<div>\n",
       "<style scoped>\n",
       "    .dataframe tbody tr th:only-of-type {\n",
       "        vertical-align: middle;\n",
       "    }\n",
       "\n",
       "    .dataframe tbody tr th {\n",
       "        vertical-align: top;\n",
       "    }\n",
       "\n",
       "    .dataframe thead th {\n",
       "        text-align: right;\n",
       "    }\n",
       "</style>\n",
       "<table border=\"1\" class=\"dataframe\">\n",
       "  <thead>\n",
       "    <tr style=\"text-align: right;\">\n",
       "      <th></th>\n",
       "      <th>Network</th>\n",
       "      <th>Accuracy</th>\n",
       "      <th>Precision</th>\n",
       "      <th>Recall</th>\n",
       "      <th>F1 Score</th>\n",
       "    </tr>\n",
       "  </thead>\n",
       "  <tbody>\n",
       "    <tr>\n",
       "      <th>0</th>\n",
       "      <td>Benchmark neural network</td>\n",
       "      <td>0.2904</td>\n",
       "      <td>0.279712</td>\n",
       "      <td>0.2904</td>\n",
       "      <td>0.211844</td>\n",
       "    </tr>\n",
       "    <tr>\n",
       "      <th>1</th>\n",
       "      <td>Benchmark support vector classifier</td>\n",
       "      <td>0.3432</td>\n",
       "      <td>0.275039</td>\n",
       "      <td>0.3432</td>\n",
       "      <td>0.280269</td>\n",
       "    </tr>\n",
       "    <tr>\n",
       "      <th>2</th>\n",
       "      <td>Grid search tuned neural network</td>\n",
       "      <td>0.2904</td>\n",
       "      <td>0.279712</td>\n",
       "      <td>0.2904</td>\n",
       "      <td>0.211844</td>\n",
       "    </tr>\n",
       "    <tr>\n",
       "      <th>3</th>\n",
       "      <td>Local search tuned neural network</td>\n",
       "      <td>0.2904</td>\n",
       "      <td>0.279712</td>\n",
       "      <td>0.2904</td>\n",
       "      <td>0.211844</td>\n",
       "    </tr>\n",
       "  </tbody>\n",
       "</table>\n",
       "</div>"
      ],
      "text/plain": [
       "                               Network  Accuracy  Precision  Recall  F1 Score\n",
       "0             Benchmark neural network    0.2904   0.279712  0.2904  0.211844\n",
       "1  Benchmark support vector classifier    0.3432   0.275039  0.3432  0.280269\n",
       "2     Grid search tuned neural network    0.2904   0.279712  0.2904  0.211844\n",
       "3    Local search tuned neural network    0.2904   0.279712  0.2904  0.211844"
      ]
     },
     "execution_count": 28,
     "metadata": {},
     "output_type": "execute_result"
    }
   ],
   "source": [
    "networks = {\n",
    "    \"Benchmark neural network\": benchmark_network,\n",
    "    \"Benchmark support vector classifier\": benchmark_svc,\n",
    "    \"Grid search tuned neural network\": grid_search_tuned_network,\n",
    "    \"Local search tuned neural network\": local_search_tuned_network\n",
    "}\n",
    "compare_networks(networks, X_test, y_test)"
   ]
  }
 ],
 "metadata": {
  "kernelspec": {
   "display_name": "Python 3 (ipykernel)",
   "language": "python",
   "name": "python3"
  },
  "language_info": {
   "codemirror_mode": {
    "name": "ipython",
    "version": 3
   },
   "file_extension": ".py",
   "mimetype": "text/x-python",
   "name": "python",
   "nbconvert_exporter": "python",
   "pygments_lexer": "ipython3",
   "version": "3.10.13"
  }
 },
 "nbformat": 4,
 "nbformat_minor": 5
}
