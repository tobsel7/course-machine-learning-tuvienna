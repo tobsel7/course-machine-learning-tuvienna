{
 "cells": [
  {
   "cell_type": "markdown",
   "id": "c9761912",
   "metadata": {},
   "source": [
    "# Imports"
   ]
  },
  {
   "cell_type": "code",
   "execution_count": 1,
   "id": "6f373dbe",
   "metadata": {},
   "outputs": [],
   "source": [
    "# Data processing\n",
    "import pandas as pd\n",
    "# Preprocessing modules\n",
    "import absenteeism_at_work_preprocessor\n",
    "import students_dropout_and_academic_success_preprocessor\n",
    "import loan_preprocessor\n",
    "# Sci-kit learn\n",
    "from sklearn.metrics import accuracy_score, f1_score, recall_score, precision_score\n",
    "from sklearn.model_selection import train_test_split, KFold\n",
    "from sklearn.neural_network import MLPClassifier\n",
    "from sklearn.svm import SVC\n",
    "# Other utilities\n",
    "import random\n",
    "import warnings"
   ]
  },
  {
   "cell_type": "markdown",
   "id": "3522b0bf",
   "metadata": {},
   "source": [
    "# Common functionalities"
   ]
  },
  {
   "cell_type": "markdown",
   "id": "8905b8b5",
   "metadata": {},
   "source": [
    "## Helper function to keep input data consistent across folds\n",
    "To prevent data leakage, preprocessing is done while performing cross validation. Because not all categories are present in each fold, one hot encoding can result in a different number of columns. To keep the columns consistent between the train and test data in one fold, the intersection of the columns is used."
   ]
  },
  {
   "cell_type": "code",
   "execution_count": null,
   "id": "ef8a1920",
   "metadata": {},
   "outputs": [],
   "source": [
    "def take_common_columns(X_train, X_test):\n",
    "    common_columns = list(set(X_train.columns) & set(X_test.columns))\n",
    "    return X_train[common_columns], X_test[common_columns]"
   ]
  },
  {
   "cell_type": "markdown",
   "id": "a8db88d4",
   "metadata": {},
   "source": [
    "## Scoring function for comparison table\n",
    "This function is the central comparison utility function. It takes a dictionary of networks and returns a summary for each network with various metrics."
   ]
  },
  {
   "cell_type": "code",
   "execution_count": 2,
   "id": "fbfc6ea1",
   "metadata": {},
   "outputs": [],
   "source": [
    "def compare_networks(networks, X_test, y_test):\n",
    "    results = []\n",
    "    \n",
    "    for network_name, network in networks.items():\n",
    "        y_pred = network.predict(X_test)\n",
    "        \n",
    "        accuracy = accuracy_score(y_test, y_pred)\n",
    "        precision = precision_score(y_test, y_pred, average=\"weighted\", zero_division=0)\n",
    "        recall = recall_score(y_test, y_pred, average=\"weighted\", zero_division=0)\n",
    "        f1 = f1_score(y_test, y_pred, average=\"weighted\")\n",
    "        \n",
    "        results.append({\n",
    "            \"Network\": network_name,\n",
    "            \"Accuracy\": accuracy,\n",
    "            \"Precision\": precision,\n",
    "            \"Recall\": recall,\n",
    "            \"F1 Score\": f1\n",
    "        })\n",
    "\n",
    "    return pd.DataFrame(results)"
   ]
  },
  {
   "cell_type": "markdown",
   "id": "eddccaa1",
   "metadata": {},
   "source": [
    "## K-fold network validation framework\n",
    "The following function defines the framework for comparing multiple neural network tuners. In a k-fold validation loop, networks are generated with the strategies provided as input paramters. In order to keep this function dataset agnostic, a preprocessor must be provided. The preprocessor takes a subset of the data, cleans it and splits it into X (features) and y (target)."
   ]
  },
  {
   "cell_type": "code",
   "execution_count": 3,
   "id": "70fa91f8",
   "metadata": {},
   "outputs": [],
   "source": [
    "def compare_tuning_algorithms(dataset, preprocessor, network_generators, n_folds, shuffle_train_test):\n",
    "    metrics_table = pd.DataFrame()\n",
    "\n",
    "    folds = KFold(n_splits=n_folds, shuffle=shuffle_train_test, random_state=seed)\n",
    "\n",
    "    for fold, (train_idx, test_idx) in enumerate(folds.split(dataset)):\n",
    "        X_train, y_train = preprocessor(dataset.iloc[train_idx])\n",
    "        X_test, y_test = preprocessor(dataset.iloc[test_idx])\n",
    "        X_train, X_test = take_common_columns(X_train, X_test)\n",
    "        \n",
    "        networks = {\n",
    "            name: generator(X_train, y_train, seed=seed, parameters=parameters) \n",
    "            for name, generator in network_generators.items() \n",
    "        }\n",
    "        \n",
    "        fold_comparison = compare_networks(networks, X_test, y_test)\n",
    "        metrics_table = pd.concat([metrics_table, fold_comparison], axis=0)\n",
    "\n",
    "        print(\"Fold %s\" % fold)\n",
    "        print(fold_comparison)\n",
    "\n",
    "    return metrics_table.groupby(\"Network\").mean()   "
   ]
  },
  {
   "cell_type": "markdown",
   "id": "f5e17193",
   "metadata": {},
   "source": [
    "## Benchmark neural network"
   ]
  },
  {
   "cell_type": "code",
   "execution_count": 4,
   "id": "5cad98b2",
   "metadata": {},
   "outputs": [],
   "source": [
    "def fit_benchmark_neural_network(X_train, y_train, seed, parameters=None):\n",
    "    return MLPClassifier(random_state=seed).fit(X_train, y_train)"
   ]
  },
  {
   "cell_type": "markdown",
   "id": "6496bae9",
   "metadata": {},
   "source": [
    "## Benchmark support vector classifier"
   ]
  },
  {
   "cell_type": "code",
   "execution_count": 5,
   "id": "1ef7e876",
   "metadata": {},
   "outputs": [],
   "source": [
    "def fit_benchmark_support_vector_classifier(X_train, y_train, seed, parameters=None):\n",
    "    return SVC(random_state=seed).fit(X_train, y_train)"
   ]
  },
  {
   "cell_type": "markdown",
   "id": "74e28b2d",
   "metadata": {},
   "source": [
    "## Custom random search algorith"
   ]
  },
  {
   "cell_type": "code",
   "execution_count": 6,
   "id": "6384ffc6",
   "metadata": {},
   "outputs": [],
   "source": [
    "def create_network(layers, nodes, activation, learning_rate=0.01, early_stopping=True, validation_fraction=0.1, n_iter_no_change=10):\n",
    "    \"\"\"\n",
    "    Creates an MLP network with specified layers, nodes, activation function, learning rate, and early stopping parameters.\n",
    "    \"\"\"\n",
    "    hidden_layer_sizes = tuple(nodes)\n",
    "    model = MLPClassifier(hidden_layer_sizes=hidden_layer_sizes, activation=activation, \n",
    "                          max_iter=100, learning_rate_init=learning_rate, \n",
    "                          early_stopping=early_stopping, validation_fraction=validation_fraction, \n",
    "                          n_iter_no_change=n_iter_no_change)\n",
    "    return model\n",
    "\n",
    "def train_and_evaluate(model, X_train, y_train):\n",
    "    \"\"\"\n",
    "    Trains the MLPClassifier model and evaluates its performance on the test set.\n",
    "    \"\"\"\n",
    "    model.fit(X_train, y_train)\n",
    "    y_pred = model.predict(X_train)\n",
    "    accuracy = accuracy_score(y_train, y_pred)\n",
    "    return accuracy\n",
    "\n",
    "def random_configuration(max_layers, max_nodes, activation_functions):\n",
    "    \"\"\"\n",
    "    Generates a random configuration for the neural network.\n",
    "    \"\"\"\n",
    "    layers = random.randint(1, max_layers)\n",
    "    activation = random.choice(activation_functions)\n",
    "    nodes = [random.randint(1, max_nodes) for _ in range(layers)]\n",
    "    return layers, nodes, activation\n",
    "\n",
    "def tune_custom_random_neural_network(X_train, y_train, parameters, seed, iterations=20):\n",
    "    \"\"\"\n",
    "    Tunes a custom random neural network based on specified parameters, seed, scoring method, and number of folds.\n",
    "    \"\"\"\n",
    "    random.seed(seed)\n",
    "    best_performance = None\n",
    "    max_layers, max_nodes, activation_functions = parameters['max_layers'], parameters['max_nodes'], parameters[\"activation_functions\"]\n",
    "\n",
    "    for _ in range(iterations):\n",
    "        layers, nodes, activation = random_configuration(max_layers, max_nodes, activation_functions)\n",
    "        model = create_network(layers, nodes, activation)\n",
    "        performance = train_and_evaluate(model, X_train, y_train)\n",
    "\n",
    "        if best_performance is None or performance > best_performance:\n",
    "            best_performance = performance\n",
    "            best_layers = layers\n",
    "            best_nodes = nodes\n",
    "            best_activation = activation\n",
    "\n",
    "    return create_network(best_layers, best_nodes, best_activation).fit(X_train, y_train)"
   ]
  },
  {
   "cell_type": "markdown",
   "id": "17a74275",
   "metadata": {},
   "source": [
    "## Custom local search algorithm"
   ]
  },
  {
   "cell_type": "code",
   "execution_count": 7,
   "id": "51e2f2bc",
   "metadata": {},
   "outputs": [],
   "source": [
    "def create_networkh(layers, nodes, activation, learning_rate=0.01, early_stopping=True, validation_fraction=0.1, n_iter_no_change=10):\n",
    "    \"\"\"\n",
    "    Creates an MLP network with specified layers, nodes, activation function, learning rate, and early stopping parameters.\n",
    "    \"\"\"\n",
    "    hidden_layer_sizes = tuple([nodes] * layers)\n",
    "    model = MLPClassifier(hidden_layer_sizes=hidden_layer_sizes, activation=activation, \n",
    "                          max_iter=100, learning_rate_init=learning_rate, \n",
    "                          early_stopping=early_stopping, validation_fraction=validation_fraction, \n",
    "                          n_iter_no_change=n_iter_no_change)\n",
    "    return model\n",
    "\n",
    "def train_and_evaluate(model, X_train, y_train):\n",
    "    \"\"\"\n",
    "    Trains the MLPClassifier model and evaluates its performance on the test set.\n",
    "    \"\"\"\n",
    "    model.fit(X_train, y_train)\n",
    "    y_pred = model.predict(X_train)\n",
    "    accuracy = accuracy_score(y_train, y_pred)\n",
    "    return accuracy\n",
    "\n",
    "def tune_custom_local_search_network(X_train, y_train, parameters, seed):\n",
    "    \"\"\"\n",
    "    Performs hill climbing to find a better neural network configuration.\n",
    "    \"\"\"\n",
    "    max_layers, max_nodes, activation_functions = parameters[\"max_layers\"], parameters[\"max_nodes\"], parameters[\"activation_functions\"]\n",
    "    current_layers, current_nodes, current_activation = 1, 1, \"relu\"\n",
    "    best_performance = None\n",
    "    best_config = None\n",
    "\n",
    "    while True:\n",
    "        neighbors = []\n",
    "\n",
    "        # Generating neighbors by varying one parameter at a time\n",
    "        if current_layers < max_layers:\n",
    "            neighbors.append((current_layers + 1, current_nodes, current_activation))\n",
    "        if current_nodes < max_nodes:\n",
    "            neighbors.append((current_layers, current_nodes + 1, current_activation))\n",
    "        for activation in activation_functions:\n",
    "            if activation != current_activation:\n",
    "                neighbors.append((current_layers, current_nodes, activation))\n",
    "\n",
    "        # Evaluating neighbors\n",
    "        best_neighbor = None\n",
    "        for neighbor in neighbors:\n",
    "            layers, nodes, activation = neighbor\n",
    "            model = create_networkh(layers, nodes, activation)\n",
    "            performance = train_and_evaluate(model, X_train, y_train)\n",
    "\n",
    "            if best_performance is None or performance > best_performance:\n",
    "                best_performance = performance\n",
    "                best_neighbor = neighbor\n",
    "\n",
    "        # Check if no improvement\n",
    "        if best_neighbor is None:\n",
    "            return create_networkh(current_layers, current_nodes, current_activation).fit(X_train, y_train)\n",
    "\n",
    "        current_layers, current_nodes, current_activation = best_neighbor"
   ]
  },
  {
   "cell_type": "markdown",
   "id": "b27e018b",
   "metadata": {},
   "source": [
    "# Experiment parameters"
   ]
  },
  {
   "cell_type": "code",
   "execution_count": 8,
   "id": "9bf32fac",
   "metadata": {},
   "outputs": [],
   "source": [
    "disable_warnings = True\n",
    "n_folds = 3\n",
    "seed = 0\n",
    "shuffle_train_test = True\n",
    "network_generators = {\n",
    "    \"Benchmark neural network\": fit_benchmark_neural_network,\n",
    "    \"Benchmark support vector classifier\": fit_benchmark_support_vector_classifier,\n",
    "    \"Random search tuned neural network\": tune_custom_random_neural_network,\n",
    "    \"Local search tuned neural network\": tune_custom_local_search_network\n",
    "}\n",
    "parameters = {\n",
    "    \"max_layers\": 5,\n",
    "    \"max_nodes\": 50,\n",
    "    \"activation_functions\": [\"relu\", \"tanh\", \"logistic\"]\n",
    "}"
   ]
  },
  {
   "cell_type": "code",
   "execution_count": 9,
   "id": "fa00d91f",
   "metadata": {},
   "outputs": [],
   "source": [
    "if disable_warnings:\n",
    "    warnings.filterwarnings(\"ignore\")"
   ]
  },
  {
   "cell_type": "markdown",
   "id": "f574401e",
   "metadata": {},
   "source": [
    "# Absenteeism at work"
   ]
  },
  {
   "cell_type": "markdown",
   "id": "5d706feb",
   "metadata": {},
   "source": [
    "## Data loading"
   ]
  },
  {
   "cell_type": "code",
   "execution_count": 10,
   "id": "3cae5520",
   "metadata": {},
   "outputs": [],
   "source": [
    "absenteeism_at_work = pd.read_csv(\"../../data/absenteeism-at-work/data.csv\", delimiter=\";\", index_col=\"ID\")"
   ]
  },
  {
   "cell_type": "markdown",
   "id": "778a84d4",
   "metadata": {},
   "source": [
    "## Network generator comparison"
   ]
  },
  {
   "cell_type": "code",
   "execution_count": 11,
   "id": "5de7592a",
   "metadata": {},
   "outputs": [
    {
     "name": "stdout",
     "output_type": "stream",
     "text": [
      "Fold 0\n",
      "                               Network  Accuracy  Precision    Recall  \\\n",
      "0             Benchmark neural network  0.583673   0.593848  0.583673   \n",
      "1  Benchmark support vector classifier  0.555102   0.334260  0.555102   \n",
      "2   Random search tuned neural network  0.673469   0.692202  0.673469   \n",
      "3    Local search tuned neural network  0.224490   0.060874  0.224490   \n",
      "\n",
      "   F1 Score  \n",
      "0  0.568714  \n",
      "1  0.413446  \n",
      "2  0.637256  \n",
      "3  0.092632  \n",
      "Fold 1\n",
      "                               Network  Accuracy  Precision    Recall  \\\n",
      "0             Benchmark neural network  0.597561   0.593072  0.597561   \n",
      "1  Benchmark support vector classifier  0.548780   0.329476  0.548780   \n",
      "2   Random search tuned neural network  0.504065   0.488363  0.504065   \n",
      "3    Local search tuned neural network  0.199187   0.085167  0.199187   \n",
      "\n",
      "   F1 Score  \n",
      "0  0.583461  \n",
      "1  0.408462  \n",
      "2  0.465311  \n",
      "3  0.118415  \n",
      "Fold 2\n",
      "                               Network  Accuracy  Precision    Recall  \\\n",
      "0             Benchmark neural network  0.573171   0.562997  0.573171   \n",
      "1  Benchmark support vector classifier  0.491870   0.278746  0.491870   \n",
      "2   Random search tuned neural network  0.666667   0.555221  0.666667   \n",
      "3    Local search tuned neural network  0.195122   0.042683  0.195122   \n",
      "\n",
      "   F1 Score  \n",
      "0  0.538394  \n",
      "1  0.352829  \n",
      "2  0.594196  \n",
      "3  0.070044  \n"
     ]
    },
    {
     "data": {
      "text/html": [
       "<div>\n",
       "<style scoped>\n",
       "    .dataframe tbody tr th:only-of-type {\n",
       "        vertical-align: middle;\n",
       "    }\n",
       "\n",
       "    .dataframe tbody tr th {\n",
       "        vertical-align: top;\n",
       "    }\n",
       "\n",
       "    .dataframe thead th {\n",
       "        text-align: right;\n",
       "    }\n",
       "</style>\n",
       "<table border=\"1\" class=\"dataframe\">\n",
       "  <thead>\n",
       "    <tr style=\"text-align: right;\">\n",
       "      <th></th>\n",
       "      <th>Accuracy</th>\n",
       "      <th>Precision</th>\n",
       "      <th>Recall</th>\n",
       "      <th>F1 Score</th>\n",
       "    </tr>\n",
       "    <tr>\n",
       "      <th>Network</th>\n",
       "      <th></th>\n",
       "      <th></th>\n",
       "      <th></th>\n",
       "      <th></th>\n",
       "    </tr>\n",
       "  </thead>\n",
       "  <tbody>\n",
       "    <tr>\n",
       "      <th>Benchmark neural network</th>\n",
       "      <td>0.584802</td>\n",
       "      <td>0.583306</td>\n",
       "      <td>0.584802</td>\n",
       "      <td>0.563523</td>\n",
       "    </tr>\n",
       "    <tr>\n",
       "      <th>Benchmark support vector classifier</th>\n",
       "      <td>0.531917</td>\n",
       "      <td>0.314161</td>\n",
       "      <td>0.531917</td>\n",
       "      <td>0.391579</td>\n",
       "    </tr>\n",
       "    <tr>\n",
       "      <th>Local search tuned neural network</th>\n",
       "      <td>0.206266</td>\n",
       "      <td>0.062908</td>\n",
       "      <td>0.206266</td>\n",
       "      <td>0.093697</td>\n",
       "    </tr>\n",
       "    <tr>\n",
       "      <th>Random search tuned neural network</th>\n",
       "      <td>0.614734</td>\n",
       "      <td>0.578595</td>\n",
       "      <td>0.614734</td>\n",
       "      <td>0.565588</td>\n",
       "    </tr>\n",
       "  </tbody>\n",
       "</table>\n",
       "</div>"
      ],
      "text/plain": [
       "                                     Accuracy  Precision    Recall  F1 Score\n",
       "Network                                                                     \n",
       "Benchmark neural network             0.584802   0.583306  0.584802  0.563523\n",
       "Benchmark support vector classifier  0.531917   0.314161  0.531917  0.391579\n",
       "Local search tuned neural network    0.206266   0.062908  0.206266  0.093697\n",
       "Random search tuned neural network   0.614734   0.578595  0.614734  0.565588"
      ]
     },
     "execution_count": 11,
     "metadata": {},
     "output_type": "execute_result"
    }
   ],
   "source": [
    "compare_tuning_algorithms(\n",
    "    dataset=absenteeism_at_work, \n",
    "    preprocessor=absenteeism_at_work_preprocessor.preprocess, \n",
    "    network_generators=network_generators, \n",
    "    n_folds=n_folds, \n",
    "    shuffle_train_test=shuffle_train_test\n",
    ")"
   ]
  },
  {
   "cell_type": "markdown",
   "id": "2a7343e9",
   "metadata": {},
   "source": [
    "# Students' dropout and academic success"
   ]
  },
  {
   "cell_type": "markdown",
   "id": "6d61a2e5",
   "metadata": {},
   "source": [
    "## Data loading"
   ]
  },
  {
   "cell_type": "code",
   "execution_count": 12,
   "id": "ec8a8d59",
   "metadata": {},
   "outputs": [],
   "source": [
    "students_dropout_and_academic_success = pd.read_csv(\"../../data/predict-students-dropout-and-academic-success/data.csv\", delimiter=\";\")"
   ]
  },
  {
   "cell_type": "markdown",
   "id": "50235d29",
   "metadata": {},
   "source": [
    "## Network generator comparison"
   ]
  },
  {
   "cell_type": "code",
   "execution_count": 13,
   "id": "d9a45293",
   "metadata": {},
   "outputs": [
    {
     "name": "stdout",
     "output_type": "stream",
     "text": [
      "Fold 0\n",
      "                               Network  Accuracy  Precision    Recall  \\\n",
      "0             Benchmark neural network  0.652203   0.614776  0.652203   \n",
      "1  Benchmark support vector classifier  0.497627   0.247633  0.497627   \n",
      "2   Random search tuned neural network  0.711864   0.674774  0.711864   \n",
      "3    Local search tuned neural network  0.497627   0.247633  0.497627   \n",
      "\n",
      "   F1 Score  \n",
      "0  0.580487  \n",
      "1  0.330700  \n",
      "2  0.664435  \n",
      "3  0.330700  \n",
      "Fold 1\n",
      "                               Network  Accuracy  Precision    Recall  \\\n",
      "0             Benchmark neural network  0.717966   0.680439  0.717966   \n",
      "1  Benchmark support vector classifier  0.496949   0.246958  0.496949   \n",
      "2   Random search tuned neural network  0.658983   0.625404  0.658983   \n",
      "3    Local search tuned neural network  0.496949   0.246958  0.496949   \n",
      "\n",
      "   F1 Score  \n",
      "0  0.645964  \n",
      "1  0.329949  \n",
      "2  0.600170  \n",
      "3  0.329949  \n",
      "Fold 2\n",
      "                               Network  Accuracy  Precision    Recall  \\\n",
      "0             Benchmark neural network  0.698100   0.699785  0.698100   \n",
      "1  Benchmark support vector classifier  0.497286   0.367189  0.497286   \n",
      "2   Random search tuned neural network  0.709634   0.658950  0.709634   \n",
      "3    Local search tuned neural network  0.503392   0.253404  0.503392   \n",
      "\n",
      "   F1 Score  \n",
      "0  0.629022  \n",
      "1  0.367402  \n",
      "2  0.645957  \n",
      "3  0.337109  \n"
     ]
    },
    {
     "data": {
      "text/html": [
       "<div>\n",
       "<style scoped>\n",
       "    .dataframe tbody tr th:only-of-type {\n",
       "        vertical-align: middle;\n",
       "    }\n",
       "\n",
       "    .dataframe tbody tr th {\n",
       "        vertical-align: top;\n",
       "    }\n",
       "\n",
       "    .dataframe thead th {\n",
       "        text-align: right;\n",
       "    }\n",
       "</style>\n",
       "<table border=\"1\" class=\"dataframe\">\n",
       "  <thead>\n",
       "    <tr style=\"text-align: right;\">\n",
       "      <th></th>\n",
       "      <th>Accuracy</th>\n",
       "      <th>Precision</th>\n",
       "      <th>Recall</th>\n",
       "      <th>F1 Score</th>\n",
       "    </tr>\n",
       "    <tr>\n",
       "      <th>Network</th>\n",
       "      <th></th>\n",
       "      <th></th>\n",
       "      <th></th>\n",
       "      <th></th>\n",
       "    </tr>\n",
       "  </thead>\n",
       "  <tbody>\n",
       "    <tr>\n",
       "      <th>Benchmark neural network</th>\n",
       "      <td>0.689423</td>\n",
       "      <td>0.665000</td>\n",
       "      <td>0.689423</td>\n",
       "      <td>0.618491</td>\n",
       "    </tr>\n",
       "    <tr>\n",
       "      <th>Benchmark support vector classifier</th>\n",
       "      <td>0.497288</td>\n",
       "      <td>0.287260</td>\n",
       "      <td>0.497288</td>\n",
       "      <td>0.342684</td>\n",
       "    </tr>\n",
       "    <tr>\n",
       "      <th>Local search tuned neural network</th>\n",
       "      <td>0.499323</td>\n",
       "      <td>0.249332</td>\n",
       "      <td>0.499323</td>\n",
       "      <td>0.332586</td>\n",
       "    </tr>\n",
       "    <tr>\n",
       "      <th>Random search tuned neural network</th>\n",
       "      <td>0.693494</td>\n",
       "      <td>0.653042</td>\n",
       "      <td>0.693494</td>\n",
       "      <td>0.636854</td>\n",
       "    </tr>\n",
       "  </tbody>\n",
       "</table>\n",
       "</div>"
      ],
      "text/plain": [
       "                                     Accuracy  Precision    Recall  F1 Score\n",
       "Network                                                                     \n",
       "Benchmark neural network             0.689423   0.665000  0.689423  0.618491\n",
       "Benchmark support vector classifier  0.497288   0.287260  0.497288  0.342684\n",
       "Local search tuned neural network    0.499323   0.249332  0.499323  0.332586\n",
       "Random search tuned neural network   0.693494   0.653042  0.693494  0.636854"
      ]
     },
     "execution_count": 13,
     "metadata": {},
     "output_type": "execute_result"
    }
   ],
   "source": [
    "compare_tuning_algorithms(\n",
    "    dataset=students_dropout_and_academic_success, \n",
    "    preprocessor=students_dropout_and_academic_success_preprocessor.preprocess, \n",
    "    network_generators=network_generators, \n",
    "    n_folds=n_folds, \n",
    "    shuffle_train_test=shuffle_train_test\n",
    ")"
   ]
  },
  {
   "cell_type": "markdown",
   "id": "ee180652",
   "metadata": {},
   "source": [
    "# Loan"
   ]
  },
  {
   "cell_type": "markdown",
   "id": "c1fa8ccc",
   "metadata": {},
   "source": [
    "## Data loading"
   ]
  },
  {
   "cell_type": "code",
   "execution_count": 14,
   "id": "ef3bdf66",
   "metadata": {},
   "outputs": [],
   "source": [
    "loan = pd.read_csv(\"../../data/kaggle-competitions/loan/loan-10k.lrn.csv\", index_col=\"ID\")"
   ]
  },
  {
   "cell_type": "markdown",
   "id": "033437c0",
   "metadata": {},
   "source": [
    "## Network generator comparison"
   ]
  },
  {
   "cell_type": "code",
   "execution_count": 15,
   "id": "2d9162f7",
   "metadata": {},
   "outputs": [
    {
     "name": "stdout",
     "output_type": "stream",
     "text": [
      "Fold 0\n",
      "                               Network  Accuracy  Precision    Recall  \\\n",
      "0             Benchmark neural network  0.236053   0.288442  0.236053   \n",
      "1  Benchmark support vector classifier  0.335633   0.272581  0.335633   \n",
      "2   Random search tuned neural network  0.289742   0.142957  0.289742   \n",
      "3    Local search tuned neural network  0.304139   0.092501  0.304139   \n",
      "\n",
      "   F1 Score  \n",
      "0  0.182031  \n",
      "1  0.270512  \n",
      "2  0.190173  \n",
      "3  0.141857  \n",
      "Fold 1\n",
      "                               Network  Accuracy  Precision    Recall  \\\n",
      "0             Benchmark neural network  0.273927   0.327749  0.273927   \n",
      "1  Benchmark support vector classifier  0.322232   0.271679  0.322232   \n",
      "2   Random search tuned neural network  0.327033   0.305081  0.327033   \n",
      "3    Local search tuned neural network  0.276928   0.076689  0.276928   \n",
      "\n",
      "   F1 Score  \n",
      "0  0.197324  \n",
      "1  0.260445  \n",
      "2  0.245297  \n",
      "3  0.120115  \n",
      "Fold 2\n",
      "                               Network  Accuracy  Precision    Recall  \\\n",
      "0             Benchmark neural network  0.266727   0.343798  0.266727   \n",
      "1  Benchmark support vector classifier  0.321332   0.291671  0.321332   \n",
      "2   Random search tuned neural network  0.316532   0.319589  0.316532   \n",
      "3    Local search tuned neural network  0.283528   0.080388  0.283528   \n",
      "\n",
      "   F1 Score  \n",
      "0  0.206791  \n",
      "1  0.248929  \n",
      "2  0.288423  \n",
      "3  0.125261  \n"
     ]
    },
    {
     "data": {
      "text/html": [
       "<div>\n",
       "<style scoped>\n",
       "    .dataframe tbody tr th:only-of-type {\n",
       "        vertical-align: middle;\n",
       "    }\n",
       "\n",
       "    .dataframe tbody tr th {\n",
       "        vertical-align: top;\n",
       "    }\n",
       "\n",
       "    .dataframe thead th {\n",
       "        text-align: right;\n",
       "    }\n",
       "</style>\n",
       "<table border=\"1\" class=\"dataframe\">\n",
       "  <thead>\n",
       "    <tr style=\"text-align: right;\">\n",
       "      <th></th>\n",
       "      <th>Accuracy</th>\n",
       "      <th>Precision</th>\n",
       "      <th>Recall</th>\n",
       "      <th>F1 Score</th>\n",
       "    </tr>\n",
       "    <tr>\n",
       "      <th>Network</th>\n",
       "      <th></th>\n",
       "      <th></th>\n",
       "      <th></th>\n",
       "      <th></th>\n",
       "    </tr>\n",
       "  </thead>\n",
       "  <tbody>\n",
       "    <tr>\n",
       "      <th>Benchmark neural network</th>\n",
       "      <td>0.258902</td>\n",
       "      <td>0.319997</td>\n",
       "      <td>0.258902</td>\n",
       "      <td>0.195382</td>\n",
       "    </tr>\n",
       "    <tr>\n",
       "      <th>Benchmark support vector classifier</th>\n",
       "      <td>0.326399</td>\n",
       "      <td>0.278644</td>\n",
       "      <td>0.326399</td>\n",
       "      <td>0.259962</td>\n",
       "    </tr>\n",
       "    <tr>\n",
       "      <th>Local search tuned neural network</th>\n",
       "      <td>0.288198</td>\n",
       "      <td>0.083193</td>\n",
       "      <td>0.288198</td>\n",
       "      <td>0.129078</td>\n",
       "    </tr>\n",
       "    <tr>\n",
       "      <th>Random search tuned neural network</th>\n",
       "      <td>0.311102</td>\n",
       "      <td>0.255876</td>\n",
       "      <td>0.311102</td>\n",
       "      <td>0.241298</td>\n",
       "    </tr>\n",
       "  </tbody>\n",
       "</table>\n",
       "</div>"
      ],
      "text/plain": [
       "                                     Accuracy  Precision    Recall  F1 Score\n",
       "Network                                                                     \n",
       "Benchmark neural network             0.258902   0.319997  0.258902  0.195382\n",
       "Benchmark support vector classifier  0.326399   0.278644  0.326399  0.259962\n",
       "Local search tuned neural network    0.288198   0.083193  0.288198  0.129078\n",
       "Random search tuned neural network   0.311102   0.255876  0.311102  0.241298"
      ]
     },
     "execution_count": 15,
     "metadata": {},
     "output_type": "execute_result"
    }
   ],
   "source": [
    "compare_tuning_algorithms(\n",
    "    dataset=loan, \n",
    "    preprocessor=loan_preprocessor.preprocess, \n",
    "    network_generators=network_generators, \n",
    "    n_folds=n_folds, \n",
    "    shuffle_train_test=shuffle_train_test\n",
    ")"
   ]
  }
 ],
 "metadata": {
  "kernelspec": {
   "display_name": "Python 3 (ipykernel)",
   "language": "python",
   "name": "python3"
  },
  "language_info": {
   "codemirror_mode": {
    "name": "ipython",
    "version": 3
   },
   "file_extension": ".py",
   "mimetype": "text/x-python",
   "name": "python",
   "nbconvert_exporter": "python",
   "pygments_lexer": "ipython3",
   "version": "3.10.12"
  }
 },
 "nbformat": 4,
 "nbformat_minor": 5
}
