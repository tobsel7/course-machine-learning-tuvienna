{
 "cells": [
  {
   "cell_type": "code",
   "execution_count": null,
   "id": "73dedf08",
   "metadata": {},
   "outputs": [],
   "source": []
  },
  {
   "cell_type": "code",
   "execution_count": null,
   "id": "816b7e04",
   "metadata": {},
   "outputs": [],
   "source": [
    "# Global parameters"
   ]
  },
  {
   "cell_type": "code",
   "execution_count": null,
   "id": "fea27983",
   "metadata": {},
   "outputs": [],
   "source": [
    "folds = 5\n",
    "seed = 1111\n",
    "scoring = \"neg_mean_absolute_error\""
   ]
  },
  {
   "cell_type": "code",
   "execution_count": null,
   "id": "c424a04a",
   "metadata": {},
   "outputs": [],
   "source": [
    "# Common functionalities"
   ]
  },
  {
   "cell_type": "code",
   "execution_count": null,
   "id": "9714b3ee",
   "metadata": {},
   "outputs": [],
   "source": [
    "## Benchmark search algorithm"
   ]
  },
  {
   "cell_type": "code",
   "execution_count": null,
   "id": "e379a472",
   "metadata": {},
   "outputs": [],
   "source": [
    "def apply_benchmark_model_tuning_and fit(X_train, y_train, parameter_grid, seed, scoring, folds):\n",
    "    benchmark_neural_network = MLPClassifer(random_state=seed)\n",
    "    grid_search = GridSearchCV(estimator=benchmark_neural_network, param_grid=parameter_grid, scoring=scoring, cv=folds)\n",
    "    return grid_search.fit(X_train, y_train)"
   ]
  },
  {
   "cell_type": "code",
   "execution_count": null,
   "id": "df4aab8b",
   "metadata": {},
   "outputs": [],
   "source": [
    "## Grid search algorithm"
   ]
  },
  {
   "cell_type": "code",
   "execution_count": null,
   "id": "e2fb7300",
   "metadata": {},
   "outputs": [],
   "source": [
    "def grid_serach_neural_network_and_fit(X_train, y_train, scoring, folds):"
   ]
  },
  {
   "cell_type": "code",
   "execution_count": null,
   "id": "bee87138",
   "metadata": {},
   "outputs": [],
   "source": [
    "## Local search algorithm"
   ]
  },
  {
   "cell_type": "code",
   "execution_count": null,
   "id": "92be0b64",
   "metadata": {},
   "outputs": [],
   "source": [
    "def local_search_neural_network_and_fit(X_train, y_train, scoring, folds):"
   ]
  },
  {
   "cell_type": "code",
   "execution_count": null,
   "id": "f59ad060",
   "metadata": {},
   "outputs": [],
   "source": [
    "# Absenteeism at work"
   ]
  },
  {
   "cell_type": "code",
   "execution_count": null,
   "id": "d36bc64b",
   "metadata": {},
   "outputs": [],
   "source": [
    "## Data loading"
   ]
  },
  {
   "cell_type": "code",
   "execution_count": null,
   "id": "7d507e85",
   "metadata": {},
   "outputs": [],
   "source": [
    "absenteeism_at_work_train = pd.read_csv(\"../../data/absenteeism-at-work/data.csv\", delimiter=\";\", index_col=\"ID\")"
   ]
  },
  {
   "cell_type": "code",
   "execution_count": null,
   "id": "f4e135fe",
   "metadata": {},
   "outputs": [],
   "source": [
    "## Train test split"
   ]
  },
  {
   "cell_type": "code",
   "execution_count": null,
   "id": "ea9f9ca9",
   "metadata": {},
   "outputs": [],
   "source": [
    "## Preprocessing"
   ]
  },
  {
   "cell_type": "code",
   "execution_count": null,
   "id": "f4ac4170",
   "metadata": {},
   "outputs": [],
   "source": [
    "## Apply benchmark tuning algorithm"
   ]
  },
  {
   "cell_type": "code",
   "execution_count": null,
   "id": "e53722e6",
   "metadata": {},
   "outputs": [],
   "source": [
    "## Apply grid search alogorithm"
   ]
  },
  {
   "cell_type": "code",
   "execution_count": null,
   "id": "53518224",
   "metadata": {},
   "outputs": [],
   "source": [
    "## Apply local search algorithm"
   ]
  },
  {
   "cell_type": "code",
   "execution_count": null,
   "id": "0852a046",
   "metadata": {},
   "outputs": [],
   "source": [
    "## Test all resulting networks"
   ]
  },
  {
   "cell_type": "code",
   "execution_count": null,
   "id": "882859f4",
   "metadata": {},
   "outputs": [],
   "source": [
    "# Students' dropout and academic success"
   ]
  },
  {
   "cell_type": "code",
   "execution_count": null,
   "id": "c0943d89",
   "metadata": {},
   "outputs": [],
   "source": [
    "## Data loading"
   ]
  },
  {
   "cell_type": "code",
   "execution_count": null,
   "id": "83ad57d5",
   "metadata": {},
   "outputs": [],
   "source": [
    "student_dropout_and_academic_sucess_train = pd.read_csv(\"../../data/predict-students-dropout-and-academic-success/preprocessed_data.csv\", delimiter=\";\")"
   ]
  },
  {
   "cell_type": "code",
   "execution_count": null,
   "id": "1f674439",
   "metadata": {},
   "outputs": [],
   "source": [
    "## Train test split"
   ]
  },
  {
   "cell_type": "code",
   "execution_count": null,
   "id": "22533b70",
   "metadata": {},
   "outputs": [],
   "source": [
    "## Preprocessing"
   ]
  },
  {
   "cell_type": "code",
   "execution_count": null,
   "id": "d96d1fc9",
   "metadata": {},
   "outputs": [],
   "source": [
    "## Apply benchmark tuning algorithm"
   ]
  },
  {
   "cell_type": "code",
   "execution_count": null,
   "id": "794d6282",
   "metadata": {},
   "outputs": [],
   "source": [
    "## Apply grid search alogorithm"
   ]
  },
  {
   "cell_type": "code",
   "execution_count": null,
   "id": "aed44850",
   "metadata": {},
   "outputs": [],
   "source": [
    "## Apply local search algorithm"
   ]
  },
  {
   "cell_type": "code",
   "execution_count": null,
   "id": "2bf419ad",
   "metadata": {},
   "outputs": [],
   "source": [
    "## Test all resulting networks"
   ]
  },
  {
   "cell_type": "code",
   "execution_count": null,
   "id": "e5b246c2",
   "metadata": {},
   "outputs": [],
   "source": [
    "# Loan"
   ]
  },
  {
   "cell_type": "code",
   "execution_count": null,
   "id": "35aa04e6",
   "metadata": {},
   "outputs": [],
   "source": [
    "## Data loading"
   ]
  },
  {
   "cell_type": "code",
   "execution_count": null,
   "id": "c20392c0",
   "metadata": {},
   "outputs": [],
   "source": [
    "loans = pd.read_csv(\"../../data/kaggle-competitions/loan/loan-10k.lrn.csv\", index_col=\"ID\")"
   ]
  },
  {
   "cell_type": "code",
   "execution_count": null,
   "id": "75f80990",
   "metadata": {},
   "outputs": [],
   "source": [
    "## Train test split"
   ]
  },
  {
   "cell_type": "code",
   "execution_count": null,
   "id": "aa804009",
   "metadata": {},
   "outputs": [],
   "source": [
    "## Preprocessing"
   ]
  },
  {
   "cell_type": "code",
   "execution_count": null,
   "id": "85534161",
   "metadata": {},
   "outputs": [],
   "source": [
    "## Apply benchmark tuning algorithm"
   ]
  },
  {
   "cell_type": "code",
   "execution_count": null,
   "id": "9adfbce8",
   "metadata": {},
   "outputs": [],
   "source": [
    "## Apply grid search alogorithm"
   ]
  },
  {
   "cell_type": "code",
   "execution_count": null,
   "id": "e4233f17",
   "metadata": {},
   "outputs": [],
   "source": [
    "## Apply local search algorithm"
   ]
  },
  {
   "cell_type": "code",
   "execution_count": null,
   "id": "f6f54c82",
   "metadata": {},
   "outputs": [],
   "source": [
    "## Test all resulting networks"
   ]
  }
 ],
 "metadata": {
  "kernelspec": {
   "display_name": "Python 3 (ipykernel)",
   "language": "python",
   "name": "python3"
  },
  "language_info": {
   "codemirror_mode": {
    "name": "ipython",
    "version": 3
   },
   "file_extension": ".py",
   "mimetype": "text/x-python",
   "name": "python",
   "nbconvert_exporter": "python",
   "pygments_lexer": "ipython3",
   "version": "3.10.12"
  }
 },
 "nbformat": 4,
 "nbformat_minor": 5
}
