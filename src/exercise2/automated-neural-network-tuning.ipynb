{
 "cells": [
  {
   "cell_type": "markdown",
   "id": "c9761912",
   "metadata": {},
   "source": [
    "# Imports"
   ]
  },
  {
   "cell_type": "code",
   "execution_count": 1,
   "id": "6f373dbe",
   "metadata": {},
   "outputs": [],
   "source": [
    "# Data processing\n",
    "import pandas as pd\n",
    "# Preprocessing modules\n",
    "import absenteeism_at_work_preprocessor\n",
    "import students_dropout_and_academic_success_preprocessor\n",
    "import loan_preprocessor\n",
    "# Sci-kit learn\n",
    "from sklearn.metrics import accuracy_score, f1_score, recall_score, precision_score\n",
    "from sklearn.model_selection import train_test_split, KFold\n",
    "from sklearn.neural_network import MLPClassifier\n",
    "from sklearn.preprocessing import LabelEncoder\n",
    "from sklearn.svm import SVC\n",
    "# Random numbers for random search\n",
    "import random"
   ]
  },
  {
   "cell_type": "markdown",
   "id": "c6f1cc6a",
   "metadata": {},
   "source": [
    "# Global parameters"
   ]
  },
  {
   "cell_type": "code",
   "execution_count": 2,
   "id": "7360e449",
   "metadata": {},
   "outputs": [],
   "source": [
    "disable_warnings = True\n",
    "n_folds = 3\n",
    "seed = 0\n",
    "scoring = \"neg_mean_absolute_error\"\n",
    "shuffle_train_test = True\n",
    "parameters = {\n",
    "    'max_layers': 5,  # Maximum number of layers\n",
    "    'max_nodes': 50, # Maximum number of nodes in a layer\n",
    "    'activation_functions': ['relu', 'tanh', 'logistic']\n",
    "}\n",
    "#parameters = {\n",
    "    #\"hidden_layer_sizes\": [(10,30,10),(20,)],\n",
    "    #\"activation\": [\"tanh\", \"relu\"],\n",
    "    #\"solver\": [\"sgd\", \"adam\"],\n",
    "    #\"alpha\": [0.0001, 0.05],\n",
    "    #\"learning_rate\": [\"constant\",\"adaptive\"],\n",
    "#}"
   ]
  },
  {
   "cell_type": "code",
   "execution_count": 3,
   "id": "3534e588",
   "metadata": {},
   "outputs": [],
   "source": [
    "if disable_warnings:\n",
    "    import warnings\n",
    "    warnings.filterwarnings(\"ignore\")"
   ]
  },
  {
   "cell_type": "markdown",
   "id": "3522b0bf",
   "metadata": {},
   "source": [
    "# Common functionalities"
   ]
  },
  {
   "cell_type": "markdown",
   "id": "a8db88d4",
   "metadata": {},
   "source": [
    "## Scoring function for comparison table"
   ]
  },
  {
   "cell_type": "code",
   "execution_count": 4,
   "id": "fbfc6ea1",
   "metadata": {},
   "outputs": [],
   "source": [
    "def compare_networks(networks, X_test, y_test):\n",
    "    results = []\n",
    "    \n",
    "    for network_name, network in networks.items():\n",
    "        y_pred = network.predict(X_test)\n",
    "        \n",
    "        accuracy = accuracy_score(y_test, y_pred)\n",
    "        precision = precision_score(y_test, y_pred, average=\"weighted\", zero_division=0)\n",
    "        recall = recall_score(y_test, y_pred, average=\"weighted\", zero_division=0)\n",
    "        f1 = f1_score(y_test, y_pred, average=\"weighted\")\n",
    "        \n",
    "        results.append({\n",
    "            \"Network\": network_name,\n",
    "            \"Accuracy\": accuracy,\n",
    "            \"Precision\": precision,\n",
    "            \"Recall\": recall,\n",
    "            \"F1 Score\": f1\n",
    "        })\n",
    "\n",
    "    return pd.DataFrame(results)"
   ]
  },
  {
   "cell_type": "markdown",
   "id": "6ffc87d4",
   "metadata": {},
   "source": [
    "## Benchmark neural network"
   ]
  },
  {
   "cell_type": "code",
   "execution_count": 5,
   "id": "5cad98b2",
   "metadata": {},
   "outputs": [],
   "source": [
    "def fit_benchmark_neural_network(X_train, y_train, seed):\n",
    "    return MLPClassifier(random_state=seed).fit(X_train, y_train)"
   ]
  },
  {
   "cell_type": "markdown",
   "id": "6496bae9",
   "metadata": {},
   "source": [
    "## Benchmark support vector classifier"
   ]
  },
  {
   "cell_type": "code",
   "execution_count": 6,
   "id": "1ef7e876",
   "metadata": {},
   "outputs": [],
   "source": [
    "def fit_benchmark_support_vector_classifier(X_train, y_train, seed):\n",
    "    return SVC(random_state=seed).fit(X_train, y_train)"
   ]
  },
  {
   "cell_type": "markdown",
   "id": "d1150562",
   "metadata": {},
   "source": [
    "## Custom grid search algorithm"
   ]
  },
  {
   "cell_type": "code",
   "execution_count": 7,
   "id": "39b661fb",
   "metadata": {},
   "outputs": [],
   "source": [
    "def tune_custom_grid_search_neural_network(X_train, y_train, parameters, seed, scoring, folds):\n",
    "    return MLPClassifier(random_state=seed).fit(X_train, y_train) # TODO add grid search algorithm"
   ]
  },
  {
   "cell_type": "markdown",
   "id": "74e28b2d",
   "metadata": {},
   "source": [
    "## Custom random search algorith"
   ]
  },
  {
   "cell_type": "code",
   "execution_count": 15,
   "id": "6384ffc6",
   "metadata": {},
   "outputs": [],
   "source": [
    "\n",
    "\n",
    "def create_network(layers, nodes, activation, learning_rate=0.01, early_stopping=True, validation_fraction=0.1, n_iter_no_change=10):\n",
    "    \"\"\"\n",
    "    Creates an MLP network with specified layers, nodes, activation function, learning rate, and early stopping parameters.\n",
    "    \"\"\"\n",
    "    hidden_layer_sizes = tuple(nodes)\n",
    "    model = MLPClassifier(hidden_layer_sizes=hidden_layer_sizes, activation=activation, \n",
    "                          max_iter=100, learning_rate_init=learning_rate, \n",
    "                          early_stopping=early_stopping, validation_fraction=validation_fraction, \n",
    "                          n_iter_no_change=n_iter_no_change)\n",
    "    return model\n",
    "\n",
    "def train_and_evaluate(model, X_train, y_train):\n",
    "    \"\"\"\n",
    "    Trains the MLPClassifier model and evaluates its performance on the test set.\n",
    "    \"\"\"\n",
    "    model.fit(X_train, y_train)\n",
    "    y_pred = model.predict(X_train)\n",
    "    accuracy = accuracy_score(y_train, y_pred)\n",
    "    return accuracy\n",
    "\n",
    "def random_configuration(max_layers, max_nodes, activation_functions):\n",
    "    \"\"\"\n",
    "    Generates a random configuration for the neural network.\n",
    "    \"\"\"\n",
    "    layers = random.randint(1, max_layers)\n",
    "    activation = random.choice(activation_functions)\n",
    "    nodes = [random.randint(1, max_nodes) for _ in range(layers)]\n",
    "    return layers, nodes, activation\n",
    "\n",
    "def tune_custom_random_neural_network(X_train, y_train, parameters, seed, iterations):\n",
    "    \"\"\"\n",
    "    Tunes a custom random neural network based on specified parameters, seed, scoring method, and number of folds.\n",
    "    \"\"\"\n",
    "    random.seed(seed)\n",
    "    best_performance = None\n",
    "    max_layers, max_nodes, activation_functions = parameters['max_layers'], parameters['max_nodes'], parameters[\"activation_functions\"]\n",
    "\n",
    "    for _ in range(iterations):\n",
    "        layers, nodes, activation = random_configuration(max_layers, max_nodes, activation_functions)\n",
    "        model = create_network(layers, nodes, activation)\n",
    "        performance = train_and_evaluate(model, X_train, y_train)\n",
    "\n",
    "        if best_performance is None or performance > best_performance:\n",
    "            best_performance = performance\n",
    "            best_layers = layers\n",
    "            best_nodes = nodes\n",
    "            best_activation = activation\n",
    "\n",
    "    return create_network(best_layers, best_nodes, best_activation).fit(X_train, y_train)\n",
    "\n",
    "# Example usage:\n",
    "\n",
    "# Assuming train_data and validation_data are defined and properly preprocessed\n",
    "#train_data = (X_train, y_train)\n",
    "#validation_data = (X_test, y_test)\n",
    "\n",
    "#best_config, best_performance = tune_custom_random_neural_network(X_train, y_train, X_test, y_test, \n",
    "                                                                  #parameters, seed=42, scoring='accuracy', folds=100)\n",
    "#print(\"Best configuration:\", best_config)\n",
    "#print(\"Best performance:\", best_performance)\n"
   ]
  },
  {
   "cell_type": "code",
   "execution_count": 16,
   "id": "51e2f2bc",
   "metadata": {},
   "outputs": [],
   "source": [
    "from sklearn.neural_network import MLPClassifier\n",
    "from sklearn.metrics import accuracy_score\n",
    "\n",
    "def create_networkh(layers, nodes, activation, learning_rate=0.01, early_stopping=True, validation_fraction=0.1, n_iter_no_change=10):\n",
    "    \"\"\"\n",
    "    Creates an MLP network with specified layers, nodes, activation function, learning rate, and early stopping parameters.\n",
    "    \"\"\"\n",
    "    hidden_layer_sizes = tuple([nodes] * layers)\n",
    "    model = MLPClassifier(hidden_layer_sizes=hidden_layer_sizes, activation=activation, \n",
    "                          max_iter=100, learning_rate_init=learning_rate, \n",
    "                          early_stopping=early_stopping, validation_fraction=validation_fraction, \n",
    "                          n_iter_no_change=n_iter_no_change)\n",
    "    return model\n",
    "\n",
    "def train_and_evaluate(model, X_train, y_train):\n",
    "    \"\"\"\n",
    "    Trains the MLPClassifier model and evaluates its performance on the test set.\n",
    "    \"\"\"\n",
    "    model.fit(X_train, y_train)\n",
    "    y_pred = model.predict(X_train)\n",
    "    accuracy = accuracy_score(y_train, y_pred)\n",
    "    return accuracy\n",
    "\n",
    "def hill_climbing(X_train, y_train, parameters):\n",
    "    \"\"\"\n",
    "    Performs hill climbing to find a better neural network configuration.\n",
    "    \"\"\"\n",
    "    max_layers, max_nodes, activation_functions = parameters[\"max_layers\"], parameters[\"max_nodes\"], parameters[\"activation_functions\"]\n",
    "    current_layers, current_nodes, current_activation = 1, 1, \"relu\"\n",
    "    best_performance = None\n",
    "    best_config = None\n",
    "\n",
    "    while True:\n",
    "        neighbors = []\n",
    "\n",
    "        # Generating neighbors by varying one parameter at a time\n",
    "        if current_layers < max_layers:\n",
    "            neighbors.append((current_layers + 1, current_nodes, current_activation))\n",
    "        if current_nodes < max_nodes:\n",
    "            neighbors.append((current_layers, current_nodes + 1, current_activation))\n",
    "        for activation in activation_functions:\n",
    "            if activation != current_activation:\n",
    "                neighbors.append((current_layers, current_nodes, activation))\n",
    "\n",
    "        # Evaluating neighbors\n",
    "        best_neighbor = None\n",
    "        for neighbor in neighbors:\n",
    "            layers, nodes, activation = neighbor\n",
    "            model = create_networkh(layers, nodes, activation)\n",
    "            performance = train_and_evaluate(model, X_train, y_train)\n",
    "\n",
    "            if best_performance is None or performance > best_performance:\n",
    "                best_performance = performance\n",
    "                best_neighbor = neighbor\n",
    "\n",
    "        # Check if no improvement\n",
    "        if best_neighbor is None:\n",
    "            return create_networkh(current_layers, current_nodes, current_activation).fit(X_train, y_train)\n",
    "\n",
    "        current_layers, current_nodes, current_activation = best_neighbor\n",
    "\n",
    "# Example usage:\n",
    "# Assuming X_train, y_train, X_test, y_test are defined and properly preprocessed\n",
    "#parameters = {'max_layers': 5, 'max_nodes': 50}\n",
    "#network = hill_climbing(X_train, y_train, X_test, y_test, **parameters)\n",
    "#print(network)\n",
    "#print(\"Best configuration:\", best_config)\n",
    "#print(\"Best performance:\", best_performance)\n"
   ]
  },
  {
   "cell_type": "markdown",
   "id": "f574401e",
   "metadata": {},
   "source": [
    "# Absenteeism at work"
   ]
  },
  {
   "cell_type": "markdown",
   "id": "5d706feb",
   "metadata": {},
   "source": [
    "## Data loading"
   ]
  },
  {
   "cell_type": "code",
   "execution_count": 17,
   "id": "3cae5520",
   "metadata": {},
   "outputs": [],
   "source": [
    "absenteeism_at_work = pd.read_csv(\"../../data/absenteeism-at-work/data.csv\", delimiter=\";\", index_col=\"ID\")\n",
    "X = absenteeism_at_work.drop(\"Reason for absence\", axis=1)\n",
    "y = absenteeism_at_work[\"Reason for absence\"]"
   ]
  },
  {
   "cell_type": "markdown",
   "id": "83f91cbd",
   "metadata": {},
   "source": [
    "## Train test split"
   ]
  },
  {
   "cell_type": "code",
   "execution_count": 18,
   "id": "636a1816",
   "metadata": {},
   "outputs": [],
   "source": [
    "X_train, X_test, y_train, y_test = train_test_split(X, y, random_state=seed, shuffle=shuffle_train_test)"
   ]
  },
  {
   "cell_type": "markdown",
   "id": "5f700b7e",
   "metadata": {},
   "source": [
    "## Preprocessing"
   ]
  },
  {
   "cell_type": "code",
   "execution_count": 19,
   "id": "8ac41db1",
   "metadata": {},
   "outputs": [],
   "source": [
    "X_train = absenteeism_at_work_preprocessor.preprocess(X_train)\n",
    "y_train = y_train.iloc[X_train.index] # ensure that dropped rows are not in y\n",
    "X_test = absenteeism_at_work_preprocessor.preprocess(X_test)\n",
    "y_test = y_test.iloc[X_test.index] # ensure that dropped rows are not in y"
   ]
  },
  {
   "cell_type": "code",
   "execution_count": 25,
   "id": "f7b624d5",
   "metadata": {},
   "outputs": [
    {
     "name": "stdout",
     "output_type": "stream",
     "text": [
      "                               Network  Accuracy  Precision    Recall  \\\n",
      "0             Benchmark neural network  0.240816   0.200897  0.240816   \n",
      "1  Benchmark support vector classifier  0.236735   0.173946  0.236735   \n",
      "2   Random search tuned neural network  0.257143   0.197342  0.257143   \n",
      "3    Local search tuned neural network  0.093878   0.008813  0.093878   \n",
      "0             Benchmark neural network  0.244898   0.240859  0.244898   \n",
      "1  Benchmark support vector classifier  0.244898   0.183025  0.244898   \n",
      "2   Random search tuned neural network  0.248980   0.226224  0.248980   \n",
      "3    Local search tuned neural network  0.224490   0.136476  0.224490   \n",
      "0             Benchmark neural network  0.304878   0.280698  0.304878   \n",
      "1  Benchmark support vector classifier  0.280488   0.223537  0.280488   \n",
      "2   Random search tuned neural network  0.199187   0.039675  0.199187   \n",
      "3    Local search tuned neural network  0.191057   0.064654  0.191057   \n",
      "\n",
      "   F1 Score  \n",
      "0  0.209479  \n",
      "1  0.166567  \n",
      "2  0.199773  \n",
      "3  0.016113  \n",
      "0  0.238472  \n",
      "1  0.193139  \n",
      "2  0.235499  \n",
      "3  0.124189  \n",
      "0  0.282202  \n",
      "1  0.194549  \n",
      "2  0.066171  \n",
      "3  0.096526  \n",
      "                                     Accuracy  Precision    Recall  F1 Score\n",
      "Network                                                                     \n",
      "Benchmark neural network             0.263531   0.240818  0.263531  0.243385\n",
      "Benchmark support vector classifier  0.254040   0.193503  0.254040  0.184752\n",
      "Local search tuned neural network    0.169808   0.069981  0.169808  0.078943\n",
      "Random search tuned neural network   0.235103   0.154414  0.235103  0.167148\n"
     ]
    }
   ],
   "source": [
    "folds = KFold(n_splits=n_folds, shuffle=True, random_state=seed)\n",
    "results = pd.DataFrame()\n",
    "\n",
    "for fold, (train_idx, test_idx) in enumerate(folds.split(X)):\n",
    "    X_train, X_test = X.iloc[train_idx], X.iloc[test_idx]\n",
    "    y_train, y_test = y.iloc[train_idx], y.iloc[test_idx]\n",
    "    X_train = absenteeism_at_work_preprocessor.preprocess(X_train)\n",
    "    y_train = y_train.iloc[X_train.index]\n",
    "    X_test = absenteeism_at_work_preprocessor.preprocess(X_test)\n",
    "    y_test = y_test.iloc[X_test.index]\n",
    "    \n",
    "    benchmark_network = fit_benchmark_neural_network(X_train, y_train, seed=seed)\n",
    "    benchmark_svc = fit_benchmark_support_vector_classifier(X_train, y_train, seed=seed)\n",
    "    random_search_tuned_network = tune_custom_random_neural_network(X_train, y_train, parameters=parameters, seed=seed, iterations=10) \n",
    "    local_search_tuned_network = hill_climbing(X_train, y_train, parameters)\n",
    "    \n",
    "    networks = {\n",
    "        \"Benchmark neural network\": benchmark_network,\n",
    "        \"Benchmark support vector classifier\": benchmark_svc,\n",
    "        \"Random search tuned neural network\": random_search_tuned_network,\n",
    "        \"Local search tuned neural network\": local_search_tuned_network\n",
    "    }\n",
    "    results = pd.concat([results, compare_networks(networks, X_test, y_test)], axis=0)\n",
    "\n",
    "print(results)\n",
    "print(results.groupby(\"Network\").mean())"
   ]
  },
  {
   "cell_type": "markdown",
   "id": "fe0a91b6",
   "metadata": {},
   "source": [
    "## Fit benchmark models"
   ]
  },
  {
   "cell_type": "code",
   "execution_count": 22,
   "id": "6fd39b2d",
   "metadata": {},
   "outputs": [],
   "source": [
    "benchmark_network = fit_benchmark_neural_network(X_train, y_train, seed=seed)\n",
    "benchmark_svc = fit_benchmark_support_vector_classifier(X_train, y_train, seed=seed)"
   ]
  },
  {
   "cell_type": "markdown",
   "id": "e6b22191",
   "metadata": {},
   "source": [
    "## Apply grid search algorithm"
   ]
  },
  {
   "cell_type": "code",
   "execution_count": 23,
   "id": "f6155384",
   "metadata": {},
   "outputs": [],
   "source": [
    "    grid_search_tuned_network = tune_custom_grid_search_neural_network(X_train, y_train, parameters=parameters, seed=seed, scoring=scoring, folds=folds)"
   ]
  },
  {
   "cell_type": "markdown",
   "id": "bd78dd86",
   "metadata": {},
   "source": [
    "## Apply local search algorithm"
   ]
  },
  {
   "cell_type": "code",
   "execution_count": 24,
   "id": "bba7ecce",
   "metadata": {},
   "outputs": [
    {
     "ename": "NameError",
     "evalue": "name 'tune_custom_local_search_neural_network' is not defined",
     "output_type": "error",
     "traceback": [
      "\u001b[0;31m---------------------------------------------------------------------------\u001b[0m",
      "\u001b[0;31mNameError\u001b[0m                                 Traceback (most recent call last)",
      "Cell \u001b[0;32mIn [24], line 1\u001b[0m\n\u001b[0;32m----> 1\u001b[0m local_search_tuned_network \u001b[38;5;241m=\u001b[39m tune_custom_local_search_neural_network(X_train, y_train, parameters\u001b[38;5;241m=\u001b[39mparameters, seed\u001b[38;5;241m=\u001b[39mseed, scoring\u001b[38;5;241m=\u001b[39mscoring, folds\u001b[38;5;241m=\u001b[39mfolds)\n",
      "\u001b[0;31mNameError\u001b[0m: name 'tune_custom_local_search_neural_network' is not defined"
     ]
    }
   ],
   "source": [
    "local_search_tuned_network = tune_custom_local_search_neural_network(X_train, y_train, parameters=parameters, seed=seed, scoring=scoring, folds=folds)"
   ]
  },
  {
   "cell_type": "markdown",
   "id": "b165a7e5",
   "metadata": {},
   "source": [
    "## Test all resulting networks"
   ]
  },
  {
   "cell_type": "code",
   "execution_count": null,
   "id": "a27a0fc5",
   "metadata": {},
   "outputs": [],
   "source": [
    "networks = {\n",
    "    \"Benchmark neural network\": benchmark_network,\n",
    "    \"Benchmark support vector classifier\": benchmark_svc,\n",
    "    \"Grid search tuned neural network\": grid_search_tuned_network,\n",
    "    \"Local search tuned neural network\": local_search_tuned_network\n",
    "}\n",
    "compare_networks(networks, X_test, y_test)"
   ]
  },
  {
   "cell_type": "markdown",
   "id": "2a7343e9",
   "metadata": {},
   "source": [
    "# Students' dropout and academic success"
   ]
  },
  {
   "cell_type": "markdown",
   "id": "6d61a2e5",
   "metadata": {},
   "source": [
    "## Data loading"
   ]
  },
  {
   "cell_type": "code",
   "execution_count": null,
   "id": "ec8a8d59",
   "metadata": {},
   "outputs": [],
   "source": [
    "students_dropout_and_academic_success = pd.read_csv(\"../../data/predict-students-dropout-and-academic-success/data.csv\", delimiter=\";\")\n",
    "X = students_dropout_and_academic_success.drop(\"Target\", axis=1)\n",
    "y = students_dropout_and_academic_success[\"Target\"]"
   ]
  },
  {
   "cell_type": "markdown",
   "id": "c7091547",
   "metadata": {},
   "source": [
    "## Train test split"
   ]
  },
  {
   "cell_type": "code",
   "execution_count": null,
   "id": "225727b2",
   "metadata": {},
   "outputs": [],
   "source": [
    "X_train, X_test, y_train, y_test = train_test_split(X, y, random_state=seed, shuffle=shuffle_train_test)"
   ]
  },
  {
   "cell_type": "markdown",
   "id": "ac7522ab",
   "metadata": {},
   "source": [
    "## Preprocessing"
   ]
  },
  {
   "cell_type": "code",
   "execution_count": null,
   "id": "05c14eba",
   "metadata": {},
   "outputs": [],
   "source": [
    "X_train = students_dropout_and_academic_success_preprocessor.preprocess(X_train)\n",
    "X_test = students_dropout_and_academic_success_preprocessor.preprocess(X_test)"
   ]
  },
  {
   "cell_type": "markdown",
   "id": "491529a8",
   "metadata": {},
   "source": [
    "## Fit benchmark models"
   ]
  },
  {
   "cell_type": "code",
   "execution_count": null,
   "id": "bd6030e1",
   "metadata": {},
   "outputs": [],
   "source": [
    "benchmark_network = fit_benchmark_neural_network(X_train, y_train, seed=seed)\n",
    "benchmark_svc = fit_benchmark_support_vector_classifier(X_train, y_train, seed=seed)"
   ]
  },
  {
   "cell_type": "markdown",
   "id": "3bda3c58",
   "metadata": {},
   "source": [
    "## Apply grid search alogorithm"
   ]
  },
  {
   "cell_type": "code",
   "execution_count": null,
   "id": "57b342cc",
   "metadata": {},
   "outputs": [],
   "source": [
    "grid_search_tuned_network = tune_custom_grid_search_neural_network(X_train, y_train, parameters=parameters, seed=seed, scoring=scoring, folds=folds)"
   ]
  },
  {
   "cell_type": "markdown",
   "id": "d0de7099",
   "metadata": {},
   "source": [
    "## Apply local search algorithm"
   ]
  },
  {
   "cell_type": "code",
   "execution_count": null,
   "id": "88d7eac2",
   "metadata": {},
   "outputs": [],
   "source": [
    "local_search_tuned_network = tune_custom_local_search_neural_network(X_train, y_train, parameters=parameters, seed=seed, scoring=scoring, folds=folds)"
   ]
  },
  {
   "cell_type": "markdown",
   "id": "cda9f0c0",
   "metadata": {},
   "source": [
    "## Test all resulting networks"
   ]
  },
  {
   "cell_type": "code",
   "execution_count": null,
   "id": "2cb68d37",
   "metadata": {},
   "outputs": [],
   "source": [
    "networks = {\n",
    "    \"Benchmark neural network\": benchmark_network,\n",
    "    \"Benchmark support vector classifier\": benchmark_svc,\n",
    "    \"Grid search tuned neural network\": grid_search_tuned_network,\n",
    "    \"Local search tuned neural network\": local_search_tuned_network\n",
    "}\n",
    "compare_networks(networks, X_test, y_test)"
   ]
  },
  {
   "cell_type": "markdown",
   "id": "ee180652",
   "metadata": {},
   "source": [
    "# Loan"
   ]
  },
  {
   "cell_type": "markdown",
   "id": "c1fa8ccc",
   "metadata": {},
   "source": [
    "## Data loading"
   ]
  },
  {
   "cell_type": "code",
   "execution_count": null,
   "id": "ef3bdf66",
   "metadata": {},
   "outputs": [],
   "source": [
    "loan = pd.read_csv(\"../../data/kaggle-competitions/loan/loan-10k.lrn.csv\", index_col=\"ID\")\n",
    "X = loan.drop(\"grade\", axis=1)\n",
    "y = LabelEncoder().fit_transform(loan[\"grade\"])"
   ]
  },
  {
   "cell_type": "markdown",
   "id": "30ee563b",
   "metadata": {},
   "source": [
    "## Train test split"
   ]
  },
  {
   "cell_type": "code",
   "execution_count": null,
   "id": "d1c10dfb",
   "metadata": {},
   "outputs": [],
   "source": [
    "X_train, X_test, y_train, y_test = train_test_split(X, y, random_state=seed, shuffle=shuffle_train_test)"
   ]
  },
  {
   "cell_type": "markdown",
   "id": "64fce8ca",
   "metadata": {},
   "source": [
    "## Preprocessing"
   ]
  },
  {
   "cell_type": "code",
   "execution_count": null,
   "id": "43758822",
   "metadata": {},
   "outputs": [],
   "source": [
    "X_train = loan_preprocessor.preprocess(X_train)\n",
    "X_test = loan_preprocessor.preprocess(X_test)\n",
    "for column in set(X_train.columns) - set(X_test.columns):\n",
    "    X_test[column] = 0 # set defaults for missing one hot encoded columns\n",
    "X_test = X_test[X_train.columns] # reorder columns"
   ]
  },
  {
   "cell_type": "markdown",
   "id": "2aba5d99",
   "metadata": {},
   "source": [
    "## Fit benchmark models"
   ]
  },
  {
   "cell_type": "code",
   "execution_count": null,
   "id": "969366cc",
   "metadata": {},
   "outputs": [],
   "source": [
    "benchmark_network = fit_benchmark_neural_network(X_train, y_train, seed=seed)\n",
    "benchmark_svc = fit_benchmark_support_vector_classifier(X_train, y_train, seed=seed)"
   ]
  },
  {
   "cell_type": "markdown",
   "id": "0d255947",
   "metadata": {},
   "source": [
    "## Apply grid search algorithm"
   ]
  },
  {
   "cell_type": "code",
   "execution_count": null,
   "id": "3e332b72",
   "metadata": {},
   "outputs": [],
   "source": [
    "grid_search_tuned_network = tune_custom_grid_search_neural_network(X_train, y_train, parameters=parameters, seed=seed, scoring=scoring, folds=folds)"
   ]
  },
  {
   "cell_type": "markdown",
   "id": "d1032524",
   "metadata": {},
   "source": [
    "## Apply local search algorithm"
   ]
  },
  {
   "cell_type": "code",
   "execution_count": null,
   "id": "c6e6ff29",
   "metadata": {},
   "outputs": [],
   "source": [
    "local_search_tuned_network = tune_custom_local_search_neural_network(X_train, y_train, parameters=parameters, seed=seed, scoring=scoring, folds=folds)"
   ]
  },
  {
   "cell_type": "markdown",
   "id": "033437c0",
   "metadata": {},
   "source": [
    "## Test all resulting networks"
   ]
  },
  {
   "cell_type": "code",
   "execution_count": null,
   "id": "2d9162f7",
   "metadata": {},
   "outputs": [],
   "source": [
    "networks = {\n",
    "    \"Benchmark neural network\": benchmark_network,\n",
    "    \"Benchmark support vector classifier\": benchmark_svc,\n",
    "    \"Grid search tuned neural network\": grid_search_tuned_network,\n",
    "    \"Local search tuned neural network\": local_search_tuned_network\n",
    "}\n",
    "compare_networks(networks, X_test, y_test)"
   ]
  }
 ],
 "metadata": {
  "kernelspec": {
   "display_name": "Python 3 (ipykernel)",
   "language": "python",
   "name": "python3"
  },
  "language_info": {
   "codemirror_mode": {
    "name": "ipython",
    "version": 3
   },
   "file_extension": ".py",
   "mimetype": "text/x-python",
   "name": "python",
   "nbconvert_exporter": "python",
   "pygments_lexer": "ipython3",
   "version": "3.10.12"
  }
 },
 "nbformat": 4,
 "nbformat_minor": 5
}
